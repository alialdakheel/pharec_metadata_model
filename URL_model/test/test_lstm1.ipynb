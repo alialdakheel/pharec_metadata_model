{
 "cells": [
  {
   "cell_type": "markdown",
   "metadata": {
    "id": "soMhYc4P77fV",
    "tags": []
   },
   "source": [
    "# Test lstm1 model for phishing URL detection"
   ]
  },
  {
   "cell_type": "markdown",
   "metadata": {
    "id": "u2YTssE57qRc",
    "tags": []
   },
   "source": [
    "## Imports"
   ]
  },
  {
   "cell_type": "code",
   "execution_count": 1,
   "metadata": {
    "executionInfo": {
     "elapsed": 8574,
     "status": "ok",
     "timestamp": 1627036881636,
     "user": {
      "displayName": "Ali Aldakheel",
      "photoUrl": "",
      "userId": "12596700705790486557"
     },
     "user_tz": -180
    },
    "id": "4exj7qwIelgQ"
   },
   "outputs": [],
   "source": [
    "import numpy as np\n",
    "import os\n",
    "import pathlib\n",
    "\n",
    "import tensorflow as tf\n",
    "from tensorflow import keras\n",
    "from tensorflow.keras import layers, regularizers\n",
    "from tensorflow.keras.models import Sequential\n",
    "\n",
    "import tensorflow_text as tf_text"
   ]
  },
  {
   "cell_type": "code",
   "execution_count": 2,
   "metadata": {
    "executionInfo": {
     "elapsed": 14,
     "status": "ok",
     "timestamp": 1627036881642,
     "user": {
      "displayName": "Ali Aldakheel",
      "photoUrl": "",
      "userId": "12596700705790486557"
     },
     "user_tz": -180
    },
    "id": "8M-gp20qghxf"
   },
   "outputs": [],
   "source": [
    "dataset_dir = pathlib.Path(\"../URL_dataset/\")\n",
    "model_dir = pathlib.Path('../URL_models/')\n",
    "checkpoint_dir = pathlib.Path('../URL_checkpoints/')"
   ]
  },
  {
   "cell_type": "code",
   "execution_count": 3,
   "metadata": {
    "colab": {
     "base_uri": "https://localhost:8080/"
    },
    "executionInfo": {
     "elapsed": 391,
     "status": "ok",
     "timestamp": 1627036886209,
     "user": {
      "displayName": "Ali Aldakheel",
      "photoUrl": "",
      "userId": "12596700705790486557"
     },
     "user_tz": -180
    },
    "id": "0fRvRc6lPzCJ",
    "outputId": "4e2ad655-fa0c-4595-9112-8983ff5783d1"
   },
   "outputs": [
    {
     "name": "stdout",
     "output_type": "stream",
     "text": [
      "2021-09-03_17;12;57.557846\n"
     ]
    }
   ],
   "source": [
    "import datetime\n",
    "date = datetime.datetime.now()\n",
    "date = '_'.join(str(date).split()).replace(':', ';')\n",
    "print(date)"
   ]
  },
  {
   "cell_type": "code",
   "execution_count": 4,
   "metadata": {
    "colab": {
     "base_uri": "https://localhost:8080/"
    },
    "executionInfo": {
     "elapsed": 14,
     "status": "ok",
     "timestamp": 1627036881645,
     "user": {
      "displayName": "Ali Aldakheel",
      "photoUrl": "",
      "userId": "12596700705790486557"
     },
     "user_tz": -180
    },
    "id": "G329MQIkhF2Z",
    "outputId": "1acbdf69-23f8-483a-a3f4-d2a339b077f3",
    "tags": []
   },
   "outputs": [
    {
     "data": {
      "text/plain": [
       "['benign', 'phishing']"
      ]
     },
     "execution_count": 4,
     "metadata": {},
     "output_type": "execute_result"
    }
   ],
   "source": [
    "os.listdir(dataset_dir)"
   ]
  },
  {
   "cell_type": "markdown",
   "metadata": {
    "id": "VQa6ueGT7kYf",
    "tags": []
   },
   "source": [
    "## Params"
   ]
  },
  {
   "cell_type": "code",
   "execution_count": 5,
   "metadata": {
    "executionInfo": {
     "elapsed": 569,
     "status": "ok",
     "timestamp": 1627036888443,
     "user": {
      "displayName": "Ali Aldakheel",
      "photoUrl": "",
      "userId": "12596700705790486557"
     },
     "user_tz": -180
    },
    "id": "ek7tR5IDhNz_"
   },
   "outputs": [],
   "source": [
    "model_name = \"lstm1\"\n",
    "batch_size = 16\n",
    "rest_split_ratio = 0.2\n",
    "test_split_ratio = 0.2\n",
    "\n",
    "unicode_max = 1114111"
   ]
  },
  {
   "cell_type": "markdown",
   "metadata": {
    "tags": []
   },
   "source": [
    "## Load dataset"
   ]
  },
  {
   "cell_type": "code",
   "execution_count": 6,
   "metadata": {
    "colab": {
     "base_uri": "https://localhost:8080/"
    },
    "executionInfo": {
     "elapsed": 6922,
     "status": "ok",
     "timestamp": 1627036896890,
     "user": {
      "displayName": "Ali Aldakheel",
      "photoUrl": "",
      "userId": "12596700705790486557"
     },
     "user_tz": -180
    },
    "id": "PRnzdwr0iEJH",
    "outputId": "716cdd80-319b-4a9a-e19b-bf1aea153282"
   },
   "outputs": [
    {
     "name": "stdout",
     "output_type": "stream",
     "text": [
      "Found 45343 files belonging to 2 classes.\n",
      "Using 36275 files for training.\n"
     ]
    }
   ],
   "source": [
    "train_ds = keras.preprocessing.text_dataset_from_directory(\n",
    "  dataset_dir,\n",
    "  validation_split=rest_split_ratio,\n",
    "  subset=\"training\",\n",
    "  label_mode = 'binary',\n",
    "  seed=132,\n",
    "  batch_size=batch_size)"
   ]
  },
  {
   "cell_type": "code",
   "execution_count": 7,
   "metadata": {
    "colab": {
     "base_uri": "https://localhost:8080/"
    },
    "executionInfo": {
     "elapsed": 625,
     "status": "ok",
     "timestamp": 1627036899112,
     "user": {
      "displayName": "Ali Aldakheel",
      "photoUrl": "",
      "userId": "12596700705790486557"
     },
     "user_tz": -180
    },
    "id": "WK0GzS01jr6f",
    "outputId": "cd973b86-a058-4780-9d4c-0d73e8bda940"
   },
   "outputs": [
    {
     "name": "stdout",
     "output_type": "stream",
     "text": [
      "Found 45343 files belonging to 2 classes.\n",
      "Using 9068 files for validation.\n"
     ]
    }
   ],
   "source": [
    "rest_ds = keras.preprocessing.text_dataset_from_directory(\n",
    "  dataset_dir,\n",
    "  validation_split=rest_split_ratio,\n",
    "  subset=\"validation\",\n",
    "  label_mode='binary',\n",
    "  seed=132,\n",
    "  batch_size=batch_size)"
   ]
  },
  {
   "cell_type": "code",
   "execution_count": 8,
   "metadata": {},
   "outputs": [
    {
     "name": "stdout",
     "output_type": "stream",
     "text": [
      "567\n"
     ]
    }
   ],
   "source": [
    "rest_batches = rest_ds.cardinality().numpy()\n",
    "print(rest_batches)"
   ]
  },
  {
   "cell_type": "code",
   "execution_count": 9,
   "metadata": {
    "executionInfo": {
     "elapsed": 4,
     "status": "ok",
     "timestamp": 1627036900606,
     "user": {
      "displayName": "Ali Aldakheel",
      "photoUrl": "",
      "userId": "12596700705790486557"
     },
     "user_tz": -180
    },
    "id": "sqPRjan5JGnW"
   },
   "outputs": [],
   "source": [
    "val_ds = rest_ds.skip(int(rest_batches * test_split_ratio // batch_size))\n",
    "test_ds = rest_ds.take(int(rest_batches * test_split_ratio // batch_size))"
   ]
  },
  {
   "cell_type": "code",
   "execution_count": 10,
   "metadata": {
    "executionInfo": {
     "elapsed": 430,
     "status": "ok",
     "timestamp": 1627036908402,
     "user": {
      "displayName": "Ali Aldakheel",
      "photoUrl": "",
      "userId": "12596700705790486557"
     },
     "user_tz": -180
    },
    "id": "k2b1o4O3ZdUd"
   },
   "outputs": [],
   "source": [
    "class_names = train_ds.class_names"
   ]
  },
  {
   "cell_type": "code",
   "execution_count": 11,
   "metadata": {
    "colab": {
     "base_uri": "https://localhost:8080/"
    },
    "executionInfo": {
     "elapsed": 4,
     "status": "ok",
     "timestamp": 1627036909617,
     "user": {
      "displayName": "Ali Aldakheel",
      "photoUrl": "",
      "userId": "12596700705790486557"
     },
     "user_tz": -180
    },
    "id": "j2cn01Nrk91s",
    "outputId": "0f358a96-666d-43d4-bee0-76eb122e6b6a"
   },
   "outputs": [
    {
     "data": {
      "text/plain": [
       "['benign', 'phishing']"
      ]
     },
     "execution_count": 11,
     "metadata": {},
     "output_type": "execute_result"
    }
   ],
   "source": [
    "class_names"
   ]
  },
  {
   "cell_type": "markdown",
   "metadata": {
    "tags": []
   },
   "source": [
    "## Explore dataset"
   ]
  },
  {
   "cell_type": "code",
   "execution_count": 12,
   "metadata": {},
   "outputs": [],
   "source": [
    "b = test_ds.take(1)"
   ]
  },
  {
   "cell_type": "code",
   "execution_count": 13,
   "metadata": {},
   "outputs": [],
   "source": [
    "for batch in b:\n",
    "    test_urls = batch[0]\n",
    "    test_labels = batch[1]"
   ]
  },
  {
   "cell_type": "code",
   "execution_count": 14,
   "metadata": {},
   "outputs": [
    {
     "name": "stdout",
     "output_type": "stream",
     "text": [
      "b'http://perezhilton.com/2015-05-12-prince-harry-baby-fever-adorable-new-zealand-visit/?from=featured' benign\n",
      "b'http://distractify.com/post/related/id/553568574a0c4b4443bec65b/skip/20/limit/10/back/0' benign\n",
      "b'http://www.tsekourasp.gr/language/en-GB/msg/ln.php' phishing\n",
      "b'http://hollywoodlife.com/2015/05/02/ian-somerhalder-engagement-nikki-reed-khloe-kardashian-lamar-odom-wedding-pics/' benign\n",
      "b'http://www.sz-leteng.com/images/?http://us.battle.net/login/en/?ref=http://bopgkotus.battle.net/d3/en/index&amp;app=com-d3' phishing\n",
      "b'http://askubuntu.com/questions/106028/is-it-possible-to-run-64-bit-mongo-db-on-my-32-bit-pae-enabled-ubuntu' benign\n",
      "b'http://serverfault.com/questions/528627/nginx-returning-404-with-python-urllib-but-fine-if-accessed-from-browser' benign\n",
      "b'http://twitter.com/home?status=%E3%83%8C%E3%81%91%E3%82%8B%EF%BC%81%E3%80%90%E4%BA%BA%E5%A6%BB%E3%83%BB%E7%86%9F%E5%A5%B3%E3%80%91+http%3A%2F%2Fero-video.net%2Ft%2FRVIEW8Nj0X3Idi8o+%E5%B7%A8%E4%B9%B3%E4%BA%BA%E5%A6%BB%E3%81%A8%E4%B8%AD%E5%87%BA%E3%81%97%EF%BC%B3%EF%BC%A5%EF%BC%B8+%23ero+%23douga+%23agesage' benign\n",
      "b'http://distractify.com/post/related/id/5552931a4a0c4b5b10d5da74/skip/30/limit/10/back/0' benign\n",
      "b'http://codecanyon.net/item/sitecloner-make-clones-or-copies-of-any-website/11172863' benign\n",
      "b'http://codecanyon.net/item/cloud-slider-responsive-wordpress-slider/full_screen_preview/11270213' benign\n",
      "b'http://web.de/magazine/unterhaltung/lifestyle/blog/jessica-labbadia/sommerhaus-fertigbauweise-30508184' benign\n",
      "b'http://comicbook.com/blog/category/batman-vs-superman?utm_campaign=rbm&utm_medium=popularcat3&utm_source=home' benign\n",
      "b'http://babal.net/news/view/50968/%D9%8A%D8%A7%D9%85%D8%A7%D9%87%D8%A7-%D8%AA%D8%B9%D9%8A%D8%AF-XJR1300-%D8%A8%D9%82%D9%88%D8%A9-%D9%84%D9%84%D8%A3%D8%B3%D9%88%D8%A7%D9%82' benign\n",
      "b'http://motthegioi.vn/the-gioi-xe/top-oto-giam-gia-trong-thang-5-dang-de-mua-188026.html' benign\n",
      "b'http://www.rybkj.cn/jpg/?us.battle.net/login/en/?ref=http://us.battle.net/d3/en/index&amp;app=com-d3' phishing\n"
     ]
    }
   ],
   "source": [
    "for url, label in zip(test_urls.numpy(), test_labels.numpy()):\n",
    "    print(url, class_names[int(label[0])])"
   ]
  },
  {
   "cell_type": "markdown",
   "metadata": {},
   "source": [
    "## Vectorize"
   ]
  },
  {
   "cell_type": "markdown",
   "metadata": {},
   "source": [
    "Cannot use the vectorization layers since it is not supported in TFJS; we can rather have a custom tokenizer which can be then exported as json then loaded in JS"
   ]
  },
  {
   "cell_type": "code",
   "execution_count": 15,
   "metadata": {},
   "outputs": [],
   "source": [
    "tokenizer = tf_text.UnicodeCharTokenizer()"
   ]
  },
  {
   "cell_type": "code",
   "execution_count": 16,
   "metadata": {},
   "outputs": [],
   "source": [
    "tokenized_urls = tokenizer.tokenize(test_urls)"
   ]
  },
  {
   "cell_type": "markdown",
   "metadata": {
    "id": "ZgRCssRQOuSG",
    "tags": []
   },
   "source": [
    "## Load model"
   ]
  },
  {
   "cell_type": "code",
   "execution_count": 17,
   "metadata": {
    "id": "GvIygUewOwKU"
   },
   "outputs": [],
   "source": [
    "# change filename to the model you want to load\n",
    "model_filename = \"2021-08-19_20;05;32.036830_lstm1_valacc0.9948_e10_b16.tf\"\n",
    "model = keras.models.load_model(\n",
    "    model_dir / model_filename,\n",
    "    compile=True)"
   ]
  },
  {
   "cell_type": "markdown",
   "metadata": {},
   "source": [
    "## Test the model"
   ]
  },
  {
   "cell_type": "code",
   "execution_count": 23,
   "metadata": {},
   "outputs": [],
   "source": [
    "pred = tf.round(tf.sigmoid(model.predict(tokenized_urls))).numpy().astype(int)"
   ]
  },
  {
   "cell_type": "code",
   "execution_count": 30,
   "metadata": {},
   "outputs": [],
   "source": [
    "predictions = [class_names[p[0]] for p in pred]"
   ]
  },
  {
   "cell_type": "code",
   "execution_count": 32,
   "metadata": {},
   "outputs": [
    {
     "name": "stdout",
     "output_type": "stream",
     "text": [
      "b'http://perezhilton.com/2015-05-12-prince-harry-baby-fever-adorable-new-zealand-visit/?from=featured' Prediction (model): benign Truth: benign\n",
      "b'http://distractify.com/post/related/id/553568574a0c4b4443bec65b/skip/20/limit/10/back/0' Prediction (model): benign Truth: benign\n",
      "b'http://www.tsekourasp.gr/language/en-GB/msg/ln.php' Prediction (model): phishing Truth: phishing\n",
      "b'http://hollywoodlife.com/2015/05/02/ian-somerhalder-engagement-nikki-reed-khloe-kardashian-lamar-odom-wedding-pics/' Prediction (model): benign Truth: benign\n",
      "b'http://www.sz-leteng.com/images/?http://us.battle.net/login/en/?ref=http://bopgkotus.battle.net/d3/en/index&amp;app=com-d3' Prediction (model): phishing Truth: phishing\n",
      "b'http://askubuntu.com/questions/106028/is-it-possible-to-run-64-bit-mongo-db-on-my-32-bit-pae-enabled-ubuntu' Prediction (model): benign Truth: benign\n",
      "b'http://serverfault.com/questions/528627/nginx-returning-404-with-python-urllib-but-fine-if-accessed-from-browser' Prediction (model): benign Truth: benign\n",
      "b'http://twitter.com/home?status=%E3%83%8C%E3%81%91%E3%82%8B%EF%BC%81%E3%80%90%E4%BA%BA%E5%A6%BB%E3%83%BB%E7%86%9F%E5%A5%B3%E3%80%91+http%3A%2F%2Fero-video.net%2Ft%2FRVIEW8Nj0X3Idi8o+%E5%B7%A8%E4%B9%B3%E4%BA%BA%E5%A6%BB%E3%81%A8%E4%B8%AD%E5%87%BA%E3%81%97%EF%BC%B3%EF%BC%A5%EF%BC%B8+%23ero+%23douga+%23agesage' Prediction (model): benign Truth: benign\n",
      "b'http://distractify.com/post/related/id/5552931a4a0c4b5b10d5da74/skip/30/limit/10/back/0' Prediction (model): benign Truth: benign\n",
      "b'http://codecanyon.net/item/sitecloner-make-clones-or-copies-of-any-website/11172863' Prediction (model): benign Truth: benign\n",
      "b'http://codecanyon.net/item/cloud-slider-responsive-wordpress-slider/full_screen_preview/11270213' Prediction (model): benign Truth: benign\n",
      "b'http://web.de/magazine/unterhaltung/lifestyle/blog/jessica-labbadia/sommerhaus-fertigbauweise-30508184' Prediction (model): benign Truth: benign\n",
      "b'http://comicbook.com/blog/category/batman-vs-superman?utm_campaign=rbm&utm_medium=popularcat3&utm_source=home' Prediction (model): benign Truth: benign\n",
      "b'http://babal.net/news/view/50968/%D9%8A%D8%A7%D9%85%D8%A7%D9%87%D8%A7-%D8%AA%D8%B9%D9%8A%D8%AF-XJR1300-%D8%A8%D9%82%D9%88%D8%A9-%D9%84%D9%84%D8%A3%D8%B3%D9%88%D8%A7%D9%82' Prediction (model): benign Truth: benign\n",
      "b'http://motthegioi.vn/the-gioi-xe/top-oto-giam-gia-trong-thang-5-dang-de-mua-188026.html' Prediction (model): benign Truth: benign\n",
      "b'http://www.rybkj.cn/jpg/?us.battle.net/login/en/?ref=http://us.battle.net/d3/en/index&amp;app=com-d3' Prediction (model): phishing Truth: phishing\n"
     ]
    }
   ],
   "source": [
    "for url, p, label in zip(test_urls.numpy(), predictions, test_labels.numpy()):\n",
    "    print(url, \"Prediction (model):\", p, \"Truth:\", class_names[int(label[0])])"
   ]
  },
  {
   "cell_type": "markdown",
   "metadata": {
    "id": "aIrHRI2QEx_u",
    "tags": []
   },
   "source": [
    "## Evaluate (test)"
   ]
  },
  {
   "cell_type": "code",
   "execution_count": 18,
   "metadata": {
    "tags": []
   },
   "outputs": [
    {
     "name": "stdout",
     "output_type": "stream",
     "text": [
      "1/1 [==============================] - 1s 953ms/step - loss: 3.3692e-04 - accuracy: 1.0000\n",
      "test loss, test acc: [0.00033692337456159294, 1.0]\n"
     ]
    }
   ],
   "source": [
    "test_results = model.evaluate(tokenized_urls, test_labels, batch_size=16)\n",
    "print(\"test loss, test acc:\", test_results)"
   ]
  }
 ],
 "metadata": {
  "accelerator": "GPU",
  "colab": {
   "authorship_tag": "ABX9TyNqKpFqEFCkBkAyw9y52SGT",
   "collapsed_sections": [
    "dHlUmDItlkDG",
    "eyBLm8_g46iI"
   ],
   "name": "train_custom1.ipynb",
   "provenance": []
  },
  "kernelspec": {
   "display_name": "Python 3 (ipykernel)",
   "language": "python",
   "name": "python3"
  },
  "language_info": {
   "codemirror_mode": {
    "name": "ipython",
    "version": 3
   },
   "file_extension": ".py",
   "mimetype": "text/x-python",
   "name": "python",
   "nbconvert_exporter": "python",
   "pygments_lexer": "ipython3",
   "version": "3.9.1"
  },
  "toc-showmarkdowntxt": false
 },
 "nbformat": 4,
 "nbformat_minor": 4
}
