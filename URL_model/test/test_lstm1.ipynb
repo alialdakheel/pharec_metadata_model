{
 "cells": [
  {
   "cell_type": "markdown",
   "metadata": {
    "id": "soMhYc4P77fV",
    "tags": []
   },
   "source": [
    "# Test lstm1 model for phishing URL detection"
   ]
  },
  {
   "cell_type": "markdown",
   "metadata": {
    "id": "u2YTssE57qRc",
    "tags": []
   },
   "source": [
    "## Imports"
   ]
  },
  {
   "cell_type": "code",
   "execution_count": 1,
   "metadata": {
    "executionInfo": {
     "elapsed": 8574,
     "status": "ok",
     "timestamp": 1627036881636,
     "user": {
      "displayName": "Ali Aldakheel",
      "photoUrl": "",
      "userId": "12596700705790486557"
     },
     "user_tz": -180
    },
    "id": "4exj7qwIelgQ"
   },
   "outputs": [],
   "source": [
    "import numpy as np\n",
    "import os\n",
    "import pathlib\n",
    "\n",
    "import tensorflow as tf\n",
    "from tensorflow import keras\n",
    "from tensorflow.keras import layers, regularizers\n",
    "from tensorflow.keras.models import Sequential\n",
    "\n",
    "import tensorflow_text as tf_text"
   ]
  },
  {
   "cell_type": "markdown",
   "metadata": {
    "id": "VQa6ueGT7kYf",
    "tags": []
   },
   "source": [
    "## Params"
   ]
  },
  {
   "cell_type": "code",
   "execution_count": 2,
   "metadata": {
    "executionInfo": {
     "elapsed": 14,
     "status": "ok",
     "timestamp": 1627036881642,
     "user": {
      "displayName": "Ali Aldakheel",
      "photoUrl": "",
      "userId": "12596700705790486557"
     },
     "user_tz": -180
    },
    "id": "8M-gp20qghxf"
   },
   "outputs": [],
   "source": [
    "dataset_dir = pathlib.Path(\"../URL_dataset/\")\n",
    "model_dir = pathlib.Path('../URL_models/')\n",
    "checkpoint_dir = pathlib.Path('../URL_checkpoints/')"
   ]
  },
  {
   "cell_type": "code",
   "execution_count": 5,
   "metadata": {
    "executionInfo": {
     "elapsed": 569,
     "status": "ok",
     "timestamp": 1627036888443,
     "user": {
      "displayName": "Ali Aldakheel",
      "photoUrl": "",
      "userId": "12596700705790486557"
     },
     "user_tz": -180
    },
    "id": "ek7tR5IDhNz_"
   },
   "outputs": [],
   "source": [
    "model_name = \"lstm1\"\n",
    "batch_size = 16\n",
    "rest_split_ratio = 0.2\n",
    "test_split_ratio = 0.2\n",
    "\n",
    "unicode_max = 1114111"
   ]
  },
  {
   "cell_type": "markdown",
   "metadata": {
    "tags": []
   },
   "source": [
    "## Load dataset"
   ]
  },
  {
   "cell_type": "code",
   "execution_count": 6,
   "metadata": {
    "colab": {
     "base_uri": "https://localhost:8080/"
    },
    "executionInfo": {
     "elapsed": 6922,
     "status": "ok",
     "timestamp": 1627036896890,
     "user": {
      "displayName": "Ali Aldakheel",
      "photoUrl": "",
      "userId": "12596700705790486557"
     },
     "user_tz": -180
    },
    "id": "PRnzdwr0iEJH",
    "outputId": "716cdd80-319b-4a9a-e19b-bf1aea153282"
   },
   "outputs": [
    {
     "name": "stdout",
     "output_type": "stream",
     "text": [
      "Found 45343 files belonging to 2 classes.\n",
      "Using 36275 files for training.\n"
     ]
    }
   ],
   "source": [
    "train_ds = keras.preprocessing.text_dataset_from_directory(\n",
    "  dataset_dir,\n",
    "  validation_split=rest_split_ratio,\n",
    "  subset=\"training\",\n",
    "  label_mode = 'binary',\n",
    "  seed=132,\n",
    "  batch_size=batch_size)"
   ]
  },
  {
   "cell_type": "code",
   "execution_count": 7,
   "metadata": {
    "colab": {
     "base_uri": "https://localhost:8080/"
    },
    "executionInfo": {
     "elapsed": 625,
     "status": "ok",
     "timestamp": 1627036899112,
     "user": {
      "displayName": "Ali Aldakheel",
      "photoUrl": "",
      "userId": "12596700705790486557"
     },
     "user_tz": -180
    },
    "id": "WK0GzS01jr6f",
    "outputId": "cd973b86-a058-4780-9d4c-0d73e8bda940"
   },
   "outputs": [
    {
     "name": "stdout",
     "output_type": "stream",
     "text": [
      "Found 45343 files belonging to 2 classes.\n",
      "Using 9068 files for validation.\n"
     ]
    }
   ],
   "source": [
    "rest_ds = keras.preprocessing.text_dataset_from_directory(\n",
    "  dataset_dir,\n",
    "  validation_split=rest_split_ratio,\n",
    "  subset=\"validation\",\n",
    "  label_mode='binary',\n",
    "  seed=132,\n",
    "  batch_size=batch_size)"
   ]
  },
  {
   "cell_type": "code",
   "execution_count": 8,
   "metadata": {},
   "outputs": [
    {
     "name": "stdout",
     "output_type": "stream",
     "text": [
      "567\n"
     ]
    }
   ],
   "source": [
    "rest_batches = rest_ds.cardinality().numpy()\n",
    "print(rest_batches)"
   ]
  },
  {
   "cell_type": "code",
   "execution_count": 9,
   "metadata": {
    "executionInfo": {
     "elapsed": 4,
     "status": "ok",
     "timestamp": 1627036900606,
     "user": {
      "displayName": "Ali Aldakheel",
      "photoUrl": "",
      "userId": "12596700705790486557"
     },
     "user_tz": -180
    },
    "id": "sqPRjan5JGnW"
   },
   "outputs": [],
   "source": [
    "val_ds = rest_ds.skip(int(rest_batches * test_split_ratio // batch_size))\n",
    "test_ds = rest_ds.take(int(rest_batches * test_split_ratio // batch_size))"
   ]
  },
  {
   "cell_type": "code",
   "execution_count": 10,
   "metadata": {
    "executionInfo": {
     "elapsed": 430,
     "status": "ok",
     "timestamp": 1627036908402,
     "user": {
      "displayName": "Ali Aldakheel",
      "photoUrl": "",
      "userId": "12596700705790486557"
     },
     "user_tz": -180
    },
    "id": "k2b1o4O3ZdUd"
   },
   "outputs": [],
   "source": [
    "class_names = train_ds.class_names"
   ]
  },
  {
   "cell_type": "code",
   "execution_count": 11,
   "metadata": {
    "colab": {
     "base_uri": "https://localhost:8080/"
    },
    "executionInfo": {
     "elapsed": 4,
     "status": "ok",
     "timestamp": 1627036909617,
     "user": {
      "displayName": "Ali Aldakheel",
      "photoUrl": "",
      "userId": "12596700705790486557"
     },
     "user_tz": -180
    },
    "id": "j2cn01Nrk91s",
    "outputId": "0f358a96-666d-43d4-bee0-76eb122e6b6a"
   },
   "outputs": [
    {
     "data": {
      "text/plain": [
       "['benign', 'phishing']"
      ]
     },
     "execution_count": 11,
     "metadata": {},
     "output_type": "execute_result"
    }
   ],
   "source": [
    "class_names"
   ]
  },
  {
   "cell_type": "markdown",
   "metadata": {
    "tags": []
   },
   "source": [
    "## Explore dataset"
   ]
  },
  {
   "cell_type": "code",
   "execution_count": 12,
   "metadata": {},
   "outputs": [],
   "source": [
    "b = test_ds.take(1)"
   ]
  },
  {
   "cell_type": "code",
   "execution_count": 13,
   "metadata": {},
   "outputs": [],
   "source": [
    "for batch in b:\n",
    "    test_urls = batch[0]\n",
    "    test_labels = batch[1]"
   ]
  },
  {
   "cell_type": "code",
   "execution_count": 14,
   "metadata": {},
   "outputs": [
    {
     "name": "stdout",
     "output_type": "stream",
     "text": [
      "b'http://perezhilton.com/2015-05-12-prince-harry-baby-fever-adorable-new-zealand-visit/?from=featured' benign\n",
      "b'http://distractify.com/post/related/id/553568574a0c4b4443bec65b/skip/20/limit/10/back/0' benign\n",
      "b'http://www.tsekourasp.gr/language/en-GB/msg/ln.php' phishing\n",
      "b'http://hollywoodlife.com/2015/05/02/ian-somerhalder-engagement-nikki-reed-khloe-kardashian-lamar-odom-wedding-pics/' benign\n",
      "b'http://www.sz-leteng.com/images/?http://us.battle.net/login/en/?ref=http://bopgkotus.battle.net/d3/en/index&amp;app=com-d3' phishing\n",
      "b'http://askubuntu.com/questions/106028/is-it-possible-to-run-64-bit-mongo-db-on-my-32-bit-pae-enabled-ubuntu' benign\n",
      "b'http://serverfault.com/questions/528627/nginx-returning-404-with-python-urllib-but-fine-if-accessed-from-browser' benign\n",
      "b'http://twitter.com/home?status=%E3%83%8C%E3%81%91%E3%82%8B%EF%BC%81%E3%80%90%E4%BA%BA%E5%A6%BB%E3%83%BB%E7%86%9F%E5%A5%B3%E3%80%91+http%3A%2F%2Fero-video.net%2Ft%2FRVIEW8Nj0X3Idi8o+%E5%B7%A8%E4%B9%B3%E4%BA%BA%E5%A6%BB%E3%81%A8%E4%B8%AD%E5%87%BA%E3%81%97%EF%BC%B3%EF%BC%A5%EF%BC%B8+%23ero+%23douga+%23agesage' benign\n",
      "b'http://distractify.com/post/related/id/5552931a4a0c4b5b10d5da74/skip/30/limit/10/back/0' benign\n",
      "b'http://codecanyon.net/item/sitecloner-make-clones-or-copies-of-any-website/11172863' benign\n",
      "b'http://codecanyon.net/item/cloud-slider-responsive-wordpress-slider/full_screen_preview/11270213' benign\n",
      "b'http://web.de/magazine/unterhaltung/lifestyle/blog/jessica-labbadia/sommerhaus-fertigbauweise-30508184' benign\n",
      "b'http://comicbook.com/blog/category/batman-vs-superman?utm_campaign=rbm&utm_medium=popularcat3&utm_source=home' benign\n",
      "b'http://babal.net/news/view/50968/%D9%8A%D8%A7%D9%85%D8%A7%D9%87%D8%A7-%D8%AA%D8%B9%D9%8A%D8%AF-XJR1300-%D8%A8%D9%82%D9%88%D8%A9-%D9%84%D9%84%D8%A3%D8%B3%D9%88%D8%A7%D9%82' benign\n",
      "b'http://motthegioi.vn/the-gioi-xe/top-oto-giam-gia-trong-thang-5-dang-de-mua-188026.html' benign\n",
      "b'http://www.rybkj.cn/jpg/?us.battle.net/login/en/?ref=http://us.battle.net/d3/en/index&amp;app=com-d3' phishing\n"
     ]
    }
   ],
   "source": [
    "for url, label in zip(test_urls.numpy(), test_labels.numpy()):\n",
    "    print(url, class_names[int(label[0])])"
   ]
  },
  {
   "cell_type": "markdown",
   "metadata": {},
   "source": [
    "## Vectorize"
   ]
  },
  {
   "cell_type": "markdown",
   "metadata": {},
   "source": [
    "Cannot use the vectorization layers since it is not supported in TFJS; we can rather have a custom tokenizer which can be then exported as json then loaded in JS"
   ]
  },
  {
   "cell_type": "code",
   "execution_count": 15,
   "metadata": {},
   "outputs": [],
   "source": [
    "tokenizer = tf_text.UnicodeCharTokenizer()"
   ]
  },
  {
   "cell_type": "code",
   "execution_count": 16,
   "metadata": {},
   "outputs": [],
   "source": [
    "tokenized_urls = tokenizer.tokenize(test_urls)"
   ]
  },
  {
   "cell_type": "markdown",
   "metadata": {
    "id": "ZgRCssRQOuSG",
    "tags": []
   },
   "source": [
    "## Load model"
   ]
  },
  {
   "cell_type": "code",
   "execution_count": 17,
   "metadata": {
    "id": "GvIygUewOwKU"
   },
   "outputs": [],
   "source": [
    "# change filename to the model you want to load\n",
    "model_filename = \"2021-08-19_20;05;32.036830_lstm1_valacc0.9948_e10_b16.tf\"\n",
    "model = keras.models.load_model(\n",
    "    model_dir / model_filename,\n",
    "    compile=True)"
   ]
  },
  {
   "cell_type": "markdown",
   "metadata": {},
   "source": [
    "## Test the model"
   ]
  },
  {
   "cell_type": "code",
   "execution_count": 48,
   "metadata": {},
   "outputs": [
    {
     "data": {
      "text/plain": [
       "<tf.Tensor: shape=(50,), dtype=float32, numpy=\n",
       "array([104., 116., 116., 112.,  58.,  47.,  47., 119., 119., 119.,  46.,\n",
       "       116., 115., 101., 107., 111., 117., 114.,  97., 115., 112.,  46.,\n",
       "       103., 114.,  47., 108.,  97., 110., 103., 117.,  97., 103., 101.,\n",
       "        47., 101., 110.,  45.,  71.,  66.,  47., 109., 115., 103.,  47.,\n",
       "       108., 110.,  46., 112., 104., 112.], dtype=float32)>"
      ]
     },
     "execution_count": 48,
     "metadata": {},
     "output_type": "execute_result"
    }
   ],
   "source": [
    "tu"
   ]
  },
  {
   "cell_type": "code",
   "execution_count": 46,
   "metadata": {},
   "outputs": [],
   "source": [
    "tu=tf.cast(tokenized_urls[2], tf.float32)"
   ]
  },
  {
   "cell_type": "code",
   "execution_count": 47,
   "metadata": {
    "tags": []
   },
   "outputs": [
    {
     "data": {
      "text/plain": [
       "array([[0.99999464]], dtype=float32)"
      ]
     },
     "execution_count": 47,
     "metadata": {},
     "output_type": "execute_result"
    }
   ],
   "source": [
    "tf.sigmoid(model.predict(tf.expand_dims(tu, 0))).numpy()"
   ]
  },
  {
   "cell_type": "code",
   "execution_count": 49,
   "metadata": {},
   "outputs": [],
   "source": [
    "url = \"http://example.com\""
   ]
  },
  {
   "cell_type": "code",
   "execution_count": 50,
   "metadata": {},
   "outputs": [
    {
     "data": {
      "text/plain": [
       "<tf.Tensor: shape=(18,), dtype=int32, numpy=\n",
       "array([104, 116, 116, 112,  58,  47,  47, 101, 120,  97, 109, 112, 108,\n",
       "       101,  46,  99, 111, 109])>"
      ]
     },
     "execution_count": 50,
     "metadata": {},
     "output_type": "execute_result"
    }
   ],
   "source": [
    "tokenizer.tokenize(url)"
   ]
  },
  {
   "cell_type": "code",
   "execution_count": 51,
   "metadata": {
    "tags": []
   },
   "outputs": [
    {
     "data": {
      "text/plain": [
       "array([[0.40307313]], dtype=float32)"
      ]
     },
     "execution_count": 51,
     "metadata": {},
     "output_type": "execute_result"
    }
   ],
   "source": [
    "tf.sigmoid(model.predict(tf.expand_dims(tokenizer.tokenize(url), 0))).numpy()"
   ]
  },
  {
   "cell_type": "code",
   "execution_count": null,
   "metadata": {},
   "outputs": [],
   "source": []
  },
  {
   "cell_type": "code",
   "execution_count": null,
   "metadata": {},
   "outputs": [],
   "source": [
    "i = 2"
   ]
  },
  {
   "cell_type": "code",
   "execution_count": 29,
   "metadata": {},
   "outputs": [],
   "source": [
    "p = tf.sigmoid(model.predict(tf.expand_dims(tokenized_urls[i], 0))).numpy()"
   ]
  },
  {
   "cell_type": "code",
   "execution_count": 32,
   "metadata": {},
   "outputs": [
    {
     "ename": "AttributeError",
     "evalue": "\n        'EagerTensor' object has no attribute 'astype'.\n        If you are looking for numpy-related methods, please run the following:\n        import tensorflow.python.ops.numpy_ops.np_config\n        np_config.enable_numpy_behavior()",
     "output_type": "error",
     "traceback": [
      "\u001b[1;31m---------------------------------------------------------------------------\u001b[0m",
      "\u001b[1;31mAttributeError\u001b[0m                            Traceback (most recent call last)",
      "\u001b[1;32m~\\AppData\\Local\\Temp/ipykernel_23660/2214651417.py\u001b[0m in \u001b[0;36m<module>\u001b[1;34m\u001b[0m\n\u001b[1;32m----> 1\u001b[1;33m \u001b[0mtf\u001b[0m\u001b[1;33m.\u001b[0m\u001b[0mexpand_dims\u001b[0m\u001b[1;33m(\u001b[0m\u001b[0mtokenized_urls\u001b[0m\u001b[1;33m[\u001b[0m\u001b[0mi\u001b[0m\u001b[1;33m]\u001b[0m\u001b[1;33m.\u001b[0m\u001b[0mastype\u001b[0m\u001b[1;33m(\u001b[0m\u001b[0mtf\u001b[0m\u001b[1;33m.\u001b[0m\u001b[0mfloat32\u001b[0m\u001b[1;33m)\u001b[0m\u001b[1;33m,\u001b[0m \u001b[1;36m0\u001b[0m\u001b[1;33m)\u001b[0m\u001b[1;33m\u001b[0m\u001b[1;33m\u001b[0m\u001b[0m\n\u001b[0m",
      "\u001b[1;32m~\\AppData\\Roaming\\Python\\Python39\\site-packages\\tensorflow\\python\\framework\\ops.py\u001b[0m in \u001b[0;36m__getattr__\u001b[1;34m(self, name)\u001b[0m\n\u001b[0;32m    394\u001b[0m                 \"tolist\", \"data\"}:\n\u001b[0;32m    395\u001b[0m       \u001b[1;31m# TODO(wangpeng): Export the enable_numpy_behavior knob\u001b[0m\u001b[1;33m\u001b[0m\u001b[1;33m\u001b[0m\u001b[1;33m\u001b[0m\u001b[0m\n\u001b[1;32m--> 396\u001b[1;33m       raise AttributeError(\"\"\"\n\u001b[0m\u001b[0;32m    397\u001b[0m         \u001b[1;34m'{}'\u001b[0m \u001b[0mobject\u001b[0m \u001b[0mhas\u001b[0m \u001b[0mno\u001b[0m \u001b[0mattribute\u001b[0m \u001b[1;34m'{}'\u001b[0m\u001b[1;33m.\u001b[0m\u001b[1;33m\u001b[0m\u001b[1;33m\u001b[0m\u001b[0m\n\u001b[0;32m    398\u001b[0m         \u001b[0mIf\u001b[0m \u001b[0myou\u001b[0m \u001b[0mare\u001b[0m \u001b[0mlooking\u001b[0m \u001b[1;32mfor\u001b[0m \u001b[0mnumpy\u001b[0m\u001b[1;33m-\u001b[0m\u001b[0mrelated\u001b[0m \u001b[0mmethods\u001b[0m\u001b[1;33m,\u001b[0m \u001b[0mplease\u001b[0m \u001b[0mrun\u001b[0m \u001b[0mthe\u001b[0m \u001b[0mfollowing\u001b[0m\u001b[1;33m:\u001b[0m\u001b[1;33m\u001b[0m\u001b[1;33m\u001b[0m\u001b[0m\n",
      "\u001b[1;31mAttributeError\u001b[0m: \n        'EagerTensor' object has no attribute 'astype'.\n        If you are looking for numpy-related methods, please run the following:\n        import tensorflow.python.ops.numpy_ops.np_config\n        np_config.enable_numpy_behavior()"
     ]
    }
   ],
   "source": [
    "tf.expand_dims(tokenized_urls[i], 0)"
   ]
  },
  {
   "cell_type": "code",
   "execution_count": 31,
   "metadata": {},
   "outputs": [
    {
     "data": {
      "text/plain": [
       "array([[0.9999989]], dtype=float32)"
      ]
     },
     "execution_count": 31,
     "metadata": {},
     "output_type": "execute_result"
    }
   ],
   "source": [
    "p"
   ]
  },
  {
   "cell_type": "code",
   "execution_count": 23,
   "metadata": {},
   "outputs": [],
   "source": [
    "pred = tf.round(tf.sigmoid(model.predict(tokenized_urls))).numpy().astype(int)"
   ]
  },
  {
   "cell_type": "code",
   "execution_count": 30,
   "metadata": {},
   "outputs": [],
   "source": [
    "predictions = [class_names[p[0]] for p in pred]"
   ]
  },
  {
   "cell_type": "code",
   "execution_count": 33,
   "metadata": {},
   "outputs": [
    {
     "name": "stdout",
     "output_type": "stream",
     "text": [
      "b'http://perezhilton.com/2015-05-12-prince-harry-baby-fever-adorable-new-zealand-visit/?from=featured' Prediction (model): benign Truth: benign\n",
      "tf.Tensor(\n",
      "[104 116 116 112  58  47  47 112 101 114 101 122 104 105 108 116 111 110\n",
      "  46  99 111 109  47  50  48  49  53  45  48  53  45  49  50  45 112 114\n",
      " 105 110  99 101  45 104  97 114 114 121  45  98  97  98 121  45 102 101\n",
      " 118 101 114  45  97 100 111 114  97  98 108 101  45 110 101 119  45 122\n",
      " 101  97 108  97 110 100  45 118 105 115 105 116  47  63 102 114 111 109\n",
      "  61 102 101  97 116 117 114 101 100], shape=(99,), dtype=int32)\n",
      "b'http://distractify.com/post/related/id/553568574a0c4b4443bec65b/skip/20/limit/10/back/0' Prediction (model): benign Truth: benign\n",
      "tf.Tensor(\n",
      "[104 116 116 112  58  47  47 100 105 115 116 114  97  99 116 105 102 121\n",
      "  46  99 111 109  47 112 111 115 116  47 114 101 108  97 116 101 100  47\n",
      " 105 100  47  53  53  51  53  54  56  53  55  52  97  48  99  52  98  52\n",
      "  52  52  51  98 101  99  54  53  98  47 115 107 105 112  47  50  48  47\n",
      " 108 105 109 105 116  47  49  48  47  98  97  99 107  47  48], shape=(87,), dtype=int32)\n",
      "b'http://www.tsekourasp.gr/language/en-GB/msg/ln.php' Prediction (model): phishing Truth: phishing\n",
      "tf.Tensor(\n",
      "[104 116 116 112  58  47  47 119 119 119  46 116 115 101 107 111 117 114\n",
      "  97 115 112  46 103 114  47 108  97 110 103 117  97 103 101  47 101 110\n",
      "  45  71  66  47 109 115 103  47 108 110  46 112 104 112], shape=(50,), dtype=int32)\n",
      "b'http://hollywoodlife.com/2015/05/02/ian-somerhalder-engagement-nikki-reed-khloe-kardashian-lamar-odom-wedding-pics/' Prediction (model): benign Truth: benign\n",
      "tf.Tensor(\n",
      "[104 116 116 112  58  47  47 104 111 108 108 121 119 111 111 100 108 105\n",
      " 102 101  46  99 111 109  47  50  48  49  53  47  48  53  47  48  50  47\n",
      " 105  97 110  45 115 111 109 101 114 104  97 108 100 101 114  45 101 110\n",
      " 103  97 103 101 109 101 110 116  45 110 105 107 107 105  45 114 101 101\n",
      " 100  45 107 104 108 111 101  45 107  97 114 100  97 115 104 105  97 110\n",
      "  45 108  97 109  97 114  45 111 100 111 109  45 119 101 100 100 105 110\n",
      " 103  45 112 105  99 115  47], shape=(115,), dtype=int32)\n",
      "b'http://www.sz-leteng.com/images/?http://us.battle.net/login/en/?ref=http://bopgkotus.battle.net/d3/en/index&amp;app=com-d3' Prediction (model): phishing Truth: phishing\n",
      "tf.Tensor(\n",
      "[104 116 116 112  58  47  47 119 119 119  46 115 122  45 108 101 116 101\n",
      " 110 103  46  99 111 109  47 105 109  97 103 101 115  47  63 104 116 116\n",
      " 112  58  47  47 117 115  46  98  97 116 116 108 101  46 110 101 116  47\n",
      " 108 111 103 105 110  47 101 110  47  63 114 101 102  61 104 116 116 112\n",
      "  58  47  47  98 111 112 103 107 111 116 117 115  46  98  97 116 116 108\n",
      " 101  46 110 101 116  47 100  51  47 101 110  47 105 110 100 101 120  38\n",
      "  97 109 112  59  97 112 112  61  99 111 109  45 100  51], shape=(122,), dtype=int32)\n",
      "b'http://askubuntu.com/questions/106028/is-it-possible-to-run-64-bit-mongo-db-on-my-32-bit-pae-enabled-ubuntu' Prediction (model): benign Truth: benign\n",
      "tf.Tensor(\n",
      "[104 116 116 112  58  47  47  97 115 107 117  98 117 110 116 117  46  99\n",
      " 111 109  47 113 117 101 115 116 105 111 110 115  47  49  48  54  48  50\n",
      "  56  47 105 115  45 105 116  45 112 111 115 115 105  98 108 101  45 116\n",
      " 111  45 114 117 110  45  54  52  45  98 105 116  45 109 111 110 103 111\n",
      "  45 100  98  45 111 110  45 109 121  45  51  50  45  98 105 116  45 112\n",
      "  97 101  45 101 110  97  98 108 101 100  45 117  98 117 110 116 117], shape=(107,), dtype=int32)\n",
      "b'http://serverfault.com/questions/528627/nginx-returning-404-with-python-urllib-but-fine-if-accessed-from-browser' Prediction (model): benign Truth: benign\n",
      "tf.Tensor(\n",
      "[104 116 116 112  58  47  47 115 101 114 118 101 114 102  97 117 108 116\n",
      "  46  99 111 109  47 113 117 101 115 116 105 111 110 115  47  53  50  56\n",
      "  54  50  55  47 110 103 105 110 120  45 114 101 116 117 114 110 105 110\n",
      " 103  45  52  48  52  45 119 105 116 104  45 112 121 116 104 111 110  45\n",
      " 117 114 108 108 105  98  45  98 117 116  45 102 105 110 101  45 105 102\n",
      "  45  97  99  99 101 115 115 101 100  45 102 114 111 109  45  98 114 111\n",
      " 119 115 101 114], shape=(112,), dtype=int32)\n",
      "b'http://twitter.com/home?status=%E3%83%8C%E3%81%91%E3%82%8B%EF%BC%81%E3%80%90%E4%BA%BA%E5%A6%BB%E3%83%BB%E7%86%9F%E5%A5%B3%E3%80%91+http%3A%2F%2Fero-video.net%2Ft%2FRVIEW8Nj0X3Idi8o+%E5%B7%A8%E4%B9%B3%E4%BA%BA%E5%A6%BB%E3%81%A8%E4%B8%AD%E5%87%BA%E3%81%97%EF%BC%B3%EF%BC%A5%EF%BC%B8+%23ero+%23douga+%23agesage' Prediction (model): benign Truth: benign\n",
      "tf.Tensor(\n",
      "[104 116 116 112  58  47  47 116 119 105 116 116 101 114  46  99 111 109\n",
      "  47 104 111 109 101  63 115 116  97 116 117 115  61  37  69  51  37  56\n",
      "  51  37  56  67  37  69  51  37  56  49  37  57  49  37  69  51  37  56\n",
      "  50  37  56  66  37  69  70  37  66  67  37  56  49  37  69  51  37  56\n",
      "  48  37  57  48  37  69  52  37  66  65  37  66  65  37  69  53  37  65\n",
      "  54  37  66  66  37  69  51  37  56  51  37  66  66  37  69  55  37  56\n",
      "  54  37  57  70  37  69  53  37  65  53  37  66  51  37  69  51  37  56\n",
      "  48  37  57  49  43 104 116 116 112  37  51  65  37  50  70  37  50  70\n",
      " 101 114 111  45 118 105 100 101 111  46 110 101 116  37  50  70 116  37\n",
      "  50  70  82  86  73  69  87  56  78 106  48  88  51  73 100 105  56 111\n",
      "  43  37  69  53  37  66  55  37  65  56  37  69  52  37  66  57  37  66\n",
      "  51  37  69  52  37  66  65  37  66  65  37  69  53  37  65  54  37  66\n",
      "  66  37  69  51  37  56  49  37  65  56  37  69  52  37  66  56  37  65\n",
      "  68  37  69  53  37  56  55  37  66  65  37  69  51  37  56  49  37  57\n",
      "  55  37  69  70  37  66  67  37  66  51  37  69  70  37  66  67  37  65\n",
      "  53  37  69  70  37  66  67  37  66  56  43  37  50  51 101 114 111  43\n",
      "  37  50  51 100 111 117 103  97  43  37  50  51  97 103 101 115  97 103\n",
      " 101], shape=(307,), dtype=int32)\n",
      "b'http://distractify.com/post/related/id/5552931a4a0c4b5b10d5da74/skip/30/limit/10/back/0' Prediction (model): benign Truth: benign\n",
      "tf.Tensor(\n",
      "[104 116 116 112  58  47  47 100 105 115 116 114  97  99 116 105 102 121\n",
      "  46  99 111 109  47 112 111 115 116  47 114 101 108  97 116 101 100  47\n",
      " 105 100  47  53  53  53  50  57  51  49  97  52  97  48  99  52  98  53\n",
      "  98  49  48 100  53 100  97  55  52  47 115 107 105 112  47  51  48  47\n",
      " 108 105 109 105 116  47  49  48  47  98  97  99 107  47  48], shape=(87,), dtype=int32)\n",
      "b'http://codecanyon.net/item/sitecloner-make-clones-or-copies-of-any-website/11172863' Prediction (model): benign Truth: benign\n",
      "tf.Tensor(\n",
      "[104 116 116 112  58  47  47  99 111 100 101  99  97 110 121 111 110  46\n",
      " 110 101 116  47 105 116 101 109  47 115 105 116 101  99 108 111 110 101\n",
      " 114  45 109  97 107 101  45  99 108 111 110 101 115  45 111 114  45  99\n",
      " 111 112 105 101 115  45 111 102  45  97 110 121  45 119 101  98 115 105\n",
      " 116 101  47  49  49  49  55  50  56  54  51], shape=(83,), dtype=int32)\n",
      "b'http://codecanyon.net/item/cloud-slider-responsive-wordpress-slider/full_screen_preview/11270213' Prediction (model): benign Truth: benign\n",
      "tf.Tensor(\n",
      "[104 116 116 112  58  47  47  99 111 100 101  99  97 110 121 111 110  46\n",
      " 110 101 116  47 105 116 101 109  47  99 108 111 117 100  45 115 108 105\n",
      " 100 101 114  45 114 101 115 112 111 110 115 105 118 101  45 119 111 114\n",
      " 100 112 114 101 115 115  45 115 108 105 100 101 114  47 102 117 108 108\n",
      "  95 115  99 114 101 101 110  95 112 114 101 118 105 101 119  47  49  49\n",
      "  50  55  48  50  49  51], shape=(96,), dtype=int32)\n",
      "b'http://web.de/magazine/unterhaltung/lifestyle/blog/jessica-labbadia/sommerhaus-fertigbauweise-30508184' Prediction (model): benign Truth: benign\n",
      "tf.Tensor(\n",
      "[104 116 116 112  58  47  47 119 101  98  46 100 101  47 109  97 103  97\n",
      " 122 105 110 101  47 117 110 116 101 114 104  97 108 116 117 110 103  47\n",
      " 108 105 102 101 115 116 121 108 101  47  98 108 111 103  47 106 101 115\n",
      " 115 105  99  97  45 108  97  98  98  97 100 105  97  47 115 111 109 109\n",
      " 101 114 104  97 117 115  45 102 101 114 116 105 103  98  97 117 119 101\n",
      " 105 115 101  45  51  48  53  48  56  49  56  52], shape=(102,), dtype=int32)\n",
      "b'http://comicbook.com/blog/category/batman-vs-superman?utm_campaign=rbm&utm_medium=popularcat3&utm_source=home' Prediction (model): benign Truth: benign\n",
      "tf.Tensor(\n",
      "[104 116 116 112  58  47  47  99 111 109 105  99  98 111 111 107  46  99\n",
      " 111 109  47  98 108 111 103  47  99  97 116 101 103 111 114 121  47  98\n",
      "  97 116 109  97 110  45 118 115  45 115 117 112 101 114 109  97 110  63\n",
      " 117 116 109  95  99  97 109 112  97 105 103 110  61 114  98 109  38 117\n",
      " 116 109  95 109 101 100 105 117 109  61 112 111 112 117 108  97 114  99\n",
      "  97 116  51  38 117 116 109  95 115 111 117 114  99 101  61 104 111 109\n",
      " 101], shape=(109,), dtype=int32)\n",
      "b'http://babal.net/news/view/50968/%D9%8A%D8%A7%D9%85%D8%A7%D9%87%D8%A7-%D8%AA%D8%B9%D9%8A%D8%AF-XJR1300-%D8%A8%D9%82%D9%88%D8%A9-%D9%84%D9%84%D8%A3%D8%B3%D9%88%D8%A7%D9%82' Prediction (model): benign Truth: benign\n",
      "tf.Tensor(\n",
      "[104 116 116 112  58  47  47  98  97  98  97 108  46 110 101 116  47 110\n",
      " 101 119 115  47 118 105 101 119  47  53  48  57  54  56  47  37  68  57\n",
      "  37  56  65  37  68  56  37  65  55  37  68  57  37  56  53  37  68  56\n",
      "  37  65  55  37  68  57  37  56  55  37  68  56  37  65  55  45  37  68\n",
      "  56  37  65  65  37  68  56  37  66  57  37  68  57  37  56  65  37  68\n",
      "  56  37  65  70  45  88  74  82  49  51  48  48  45  37  68  56  37  65\n",
      "  56  37  68  57  37  56  50  37  68  57  37  56  56  37  68  56  37  65\n",
      "  57  45  37  68  57  37  56  52  37  68  57  37  56  52  37  68  56  37\n",
      "  65  51  37  68  56  37  66  51  37  68  57  37  56  56  37  68  56  37\n",
      "  65  55  37  68  57  37  56  50], shape=(170,), dtype=int32)\n",
      "b'http://motthegioi.vn/the-gioi-xe/top-oto-giam-gia-trong-thang-5-dang-de-mua-188026.html' Prediction (model): benign Truth: benign\n",
      "tf.Tensor(\n",
      "[104 116 116 112  58  47  47 109 111 116 116 104 101 103 105 111 105  46\n",
      " 118 110  47 116 104 101  45 103 105 111 105  45 120 101  47 116 111 112\n",
      "  45 111 116 111  45 103 105  97 109  45 103 105  97  45 116 114 111 110\n",
      " 103  45 116 104  97 110 103  45  53  45 100  97 110 103  45 100 101  45\n",
      " 109 117  97  45  49  56  56  48  50  54  46 104 116 109 108], shape=(87,), dtype=int32)\n",
      "b'http://www.rybkj.cn/jpg/?us.battle.net/login/en/?ref=http://us.battle.net/d3/en/index&amp;app=com-d3' Prediction (model): phishing Truth: phishing\n",
      "tf.Tensor(\n",
      "[104 116 116 112  58  47  47 119 119 119  46 114 121  98 107 106  46  99\n",
      " 110  47 106 112 103  47  63 117 115  46  98  97 116 116 108 101  46 110\n",
      " 101 116  47 108 111 103 105 110  47 101 110  47  63 114 101 102  61 104\n",
      " 116 116 112  58  47  47 117 115  46  98  97 116 116 108 101  46 110 101\n",
      " 116  47 100  51  47 101 110  47 105 110 100 101 120  38  97 109 112  59\n",
      "  97 112 112  61  99 111 109  45 100  51], shape=(100,), dtype=int32)\n"
     ]
    }
   ],
   "source": [
    "for i, (url, p, label) in enumerate(zip(test_urls.numpy(), predictions, test_labels.numpy())):\n",
    "    print(url, \"Prediction (model):\", p, \"Truth:\", class_names[int(label[0])])\n",
    "    print(tokenized_urls[i])"
   ]
  },
  {
   "cell_type": "markdown",
   "metadata": {
    "id": "aIrHRI2QEx_u",
    "tags": []
   },
   "source": [
    "## Evaluate (test)"
   ]
  },
  {
   "cell_type": "code",
   "execution_count": 18,
   "metadata": {
    "tags": []
   },
   "outputs": [
    {
     "name": "stdout",
     "output_type": "stream",
     "text": [
      "1/1 [==============================] - 1s 953ms/step - loss: 3.3692e-04 - accuracy: 1.0000\n",
      "test loss, test acc: [0.00033692337456159294, 1.0]\n"
     ]
    }
   ],
   "source": [
    "test_results = model.evaluate(tokenized_urls, test_labels, batch_size=16)\n",
    "print(\"test loss, test acc:\", test_results)"
   ]
  }
 ],
 "metadata": {
  "accelerator": "GPU",
  "colab": {
   "authorship_tag": "ABX9TyNqKpFqEFCkBkAyw9y52SGT",
   "collapsed_sections": [
    "dHlUmDItlkDG",
    "eyBLm8_g46iI"
   ],
   "name": "train_custom1.ipynb",
   "provenance": []
  },
  "kernelspec": {
   "display_name": "Python 3 (ipykernel)",
   "language": "python",
   "name": "python3"
  },
  "language_info": {
   "codemirror_mode": {
    "name": "ipython",
    "version": 3
   },
   "file_extension": ".py",
   "mimetype": "text/x-python",
   "name": "python",
   "nbconvert_exporter": "python",
   "pygments_lexer": "ipython3",
   "version": "3.9.1"
  },
  "toc-showmarkdowntxt": false
 },
 "nbformat": 4,
 "nbformat_minor": 4
}
