{
 "cells": [
  {
   "cell_type": "markdown",
   "metadata": {
    "id": "soMhYc4P77fV",
    "tags": []
   },
   "source": [
    "# Test lstm3 model for phishing URL detection"
   ]
  },
  {
   "cell_type": "markdown",
   "metadata": {
    "id": "u2YTssE57qRc",
    "tags": []
   },
   "source": [
    "## Imports"
   ]
  },
  {
   "cell_type": "code",
   "execution_count": 27,
   "metadata": {
    "executionInfo": {
     "elapsed": 8574,
     "status": "ok",
     "timestamp": 1627036881636,
     "user": {
      "displayName": "Ali Aldakheel",
      "photoUrl": "",
      "userId": "12596700705790486557"
     },
     "user_tz": -180
    },
    "id": "4exj7qwIelgQ"
   },
   "outputs": [],
   "source": [
    "import numpy as np\n",
    "import os\n",
    "import pathlib\n",
    "\n",
    "import tensorflow as tf\n",
    "from tensorflow import keras\n",
    "from tensorflow.keras import layers, regularizers\n",
    "from tensorflow.keras.models import Sequential\n",
    "\n",
    "import tensorflow_text as tf_text"
   ]
  },
  {
   "cell_type": "markdown",
   "metadata": {
    "id": "VQa6ueGT7kYf",
    "tags": []
   },
   "source": [
    "## Params"
   ]
  },
  {
   "cell_type": "code",
   "execution_count": 28,
   "metadata": {
    "executionInfo": {
     "elapsed": 14,
     "status": "ok",
     "timestamp": 1627036881642,
     "user": {
      "displayName": "Ali Aldakheel",
      "photoUrl": "",
      "userId": "12596700705790486557"
     },
     "user_tz": -180
    },
    "id": "8M-gp20qghxf"
   },
   "outputs": [],
   "source": [
    "dataset_dir = pathlib.Path(\"../URL_dataset/\")\n",
    "model_dir = pathlib.Path('../URL_models/')\n",
    "checkpoint_dir = pathlib.Path('../URL_checkpoints/')"
   ]
  },
  {
   "cell_type": "code",
   "execution_count": 29,
   "metadata": {
    "executionInfo": {
     "elapsed": 569,
     "status": "ok",
     "timestamp": 1627036888443,
     "user": {
      "displayName": "Ali Aldakheel",
      "photoUrl": "",
      "userId": "12596700705790486557"
     },
     "user_tz": -180
    },
    "id": "ek7tR5IDhNz_"
   },
   "outputs": [],
   "source": [
    "model_name = \"lstm3\"\n",
    "batch_size = 32\n",
    "rest_split_ratio = 0.2\n",
    "test_split_ratio = 0.2\n",
    "\n",
    "unicode_max = 1114111"
   ]
  },
  {
   "cell_type": "markdown",
   "metadata": {
    "tags": []
   },
   "source": [
    "## Load dataset"
   ]
  },
  {
   "cell_type": "code",
   "execution_count": 30,
   "metadata": {
    "colab": {
     "base_uri": "https://localhost:8080/"
    },
    "executionInfo": {
     "elapsed": 6922,
     "status": "ok",
     "timestamp": 1627036896890,
     "user": {
      "displayName": "Ali Aldakheel",
      "photoUrl": "",
      "userId": "12596700705790486557"
     },
     "user_tz": -180
    },
    "id": "PRnzdwr0iEJH",
    "outputId": "716cdd80-319b-4a9a-e19b-bf1aea153282"
   },
   "outputs": [
    {
     "name": "stdout",
     "output_type": "stream",
     "text": [
      "Found 45343 files belonging to 2 classes.\n",
      "Using 36275 files for training.\n"
     ]
    }
   ],
   "source": [
    "train_ds = keras.preprocessing.text_dataset_from_directory(\n",
    "  dataset_dir,\n",
    "  validation_split=rest_split_ratio,\n",
    "  subset=\"training\",\n",
    "  label_mode = 'binary',\n",
    "  seed=132,\n",
    "  batch_size=batch_size)"
   ]
  },
  {
   "cell_type": "code",
   "execution_count": 31,
   "metadata": {
    "colab": {
     "base_uri": "https://localhost:8080/"
    },
    "executionInfo": {
     "elapsed": 625,
     "status": "ok",
     "timestamp": 1627036899112,
     "user": {
      "displayName": "Ali Aldakheel",
      "photoUrl": "",
      "userId": "12596700705790486557"
     },
     "user_tz": -180
    },
    "id": "WK0GzS01jr6f",
    "outputId": "cd973b86-a058-4780-9d4c-0d73e8bda940"
   },
   "outputs": [
    {
     "name": "stdout",
     "output_type": "stream",
     "text": [
      "Found 45343 files belonging to 2 classes.\n",
      "Using 9068 files for validation.\n"
     ]
    }
   ],
   "source": [
    "rest_ds = keras.preprocessing.text_dataset_from_directory(\n",
    "  dataset_dir,\n",
    "  validation_split=rest_split_ratio,\n",
    "  subset=\"validation\",\n",
    "  label_mode='binary',\n",
    "  seed=132,\n",
    "  batch_size=batch_size)"
   ]
  },
  {
   "cell_type": "code",
   "execution_count": 32,
   "metadata": {},
   "outputs": [
    {
     "name": "stdout",
     "output_type": "stream",
     "text": [
      "284\n"
     ]
    }
   ],
   "source": [
    "rest_batches = rest_ds.cardinality().numpy()\n",
    "print(rest_batches)"
   ]
  },
  {
   "cell_type": "code",
   "execution_count": 33,
   "metadata": {
    "executionInfo": {
     "elapsed": 4,
     "status": "ok",
     "timestamp": 1627036900606,
     "user": {
      "displayName": "Ali Aldakheel",
      "photoUrl": "",
      "userId": "12596700705790486557"
     },
     "user_tz": -180
    },
    "id": "sqPRjan5JGnW"
   },
   "outputs": [],
   "source": [
    "val_ds = rest_ds.skip(int(rest_batches * test_split_ratio))\n",
    "test_ds = rest_ds.take(int(rest_batches * test_split_ratio))"
   ]
  },
  {
   "cell_type": "code",
   "execution_count": 34,
   "metadata": {
    "executionInfo": {
     "elapsed": 430,
     "status": "ok",
     "timestamp": 1627036908402,
     "user": {
      "displayName": "Ali Aldakheel",
      "photoUrl": "",
      "userId": "12596700705790486557"
     },
     "user_tz": -180
    },
    "id": "k2b1o4O3ZdUd"
   },
   "outputs": [],
   "source": [
    "class_names = train_ds.class_names"
   ]
  },
  {
   "cell_type": "code",
   "execution_count": 35,
   "metadata": {
    "colab": {
     "base_uri": "https://localhost:8080/"
    },
    "executionInfo": {
     "elapsed": 4,
     "status": "ok",
     "timestamp": 1627036909617,
     "user": {
      "displayName": "Ali Aldakheel",
      "photoUrl": "",
      "userId": "12596700705790486557"
     },
     "user_tz": -180
    },
    "id": "j2cn01Nrk91s",
    "outputId": "0f358a96-666d-43d4-bee0-76eb122e6b6a"
   },
   "outputs": [
    {
     "data": {
      "text/plain": [
       "['benign', 'phishing']"
      ]
     },
     "execution_count": 35,
     "metadata": {},
     "output_type": "execute_result"
    }
   ],
   "source": [
    "class_names"
   ]
  },
  {
   "cell_type": "markdown",
   "metadata": {
    "id": "ZgRCssRQOuSG",
    "tags": []
   },
   "source": [
    "## Load model"
   ]
  },
  {
   "cell_type": "code",
   "execution_count": 92,
   "metadata": {
    "id": "GvIygUewOwKU"
   },
   "outputs": [],
   "source": [
    "# change filename to the model you want to load\n",
    "model_filename = \"2021-09-10_19;13;08.969881_lstm3_valacc0.9964_e15_b32.tf\"\n",
    "model = keras.models.load_model(\n",
    "    model_dir / model_filename,\n",
    "    compile=True)"
   ]
  },
  {
   "cell_type": "markdown",
   "metadata": {
    "tags": []
   },
   "source": [
    "## Explore dataset"
   ]
  },
  {
   "cell_type": "code",
   "execution_count": 70,
   "metadata": {},
   "outputs": [],
   "source": [
    "b = test_ds.take(1)"
   ]
  },
  {
   "cell_type": "code",
   "execution_count": 149,
   "metadata": {},
   "outputs": [],
   "source": [
    "for batch in b:\n",
    "    test_urls = batch[0]\n",
    "    test_labels = batch[1]"
   ]
  },
  {
   "cell_type": "code",
   "execution_count": 150,
   "metadata": {},
   "outputs": [
    {
     "name": "stdout",
     "output_type": "stream",
     "text": [
      "b'http://depositphotos.com/58703015/stock-illustration-road-infographic-timeline-element-layout.html' benign\n",
      "b'http://www.itfindia.org/confirmation-account/c85652703f710065c1255aa03a9aefae/fed65c93bcc26a7c2727b52e7ad57a9b/login.php' phishing\n",
      "b'http://venturebeat.com/2015/04/22/itunes-stops-working-for-windows-xp-users-apple-security-change-likely-to-blame/' benign\n",
      "b'http://distractify.com/post/related/id/541839304a0c4be1088b6b86/skip/20/limit/10/back/0' benign\n",
      "b'http://hubpages.com/hub/Automotive-Preventative-Maintenance-Checklist-and-Estimated-Repair-Costs' benign\n",
      "b'https://myspace.com/article/2015/5/11/watch-the-new-series-trailer-for-orange-is-the-new-black-season-3' benign\n",
      "b'http://europa.eu/about-eu/agencies/regulatory_agencies_bodies/pol_agencies/eurojust/index_en.htm' benign\n",
      "b'http://appleid.apple.co.uk.cgi-bin.webobjects.myappleid.woa.verify7.id8-eu.co.uk/identify-customer=1hJmtMByghjwxGNNZnsoQbzKTqZH175F5K1qN5RytnnQU9KkJ0999aDq3z1pncQ7SBcr7bnYr4aiQQ15XBXVmeiitv9kRHGhTS3k/' phishing\n",
      "b'http://noticias.uol.com.br/infograficos/2014/02/14/veja-quais-sao-os-reservatorios-de-agua-da-grande-sp.htm' benign\n",
      "b'http://twitter.com/home?status=%E3%83%8C%E3%81%91%E3%82%8B%EF%BC%81%E3%80%90%E4%BA%BA%E5%A6%BB%E3%83%BB%E7%86%9F%E5%A5%B3%E3%80%91+http%3A%2F%2Fero-video.net%2Ft%2FRVIEW8Nj0X3Idi8o+%E5%B7%A8%E4%B9%B3%E4%BA%BA%E5%A6%BB%E3%81%A8%E4%B8%AD%E5%87%BA%E3%81%97%EF%BC%B3%EF%BC%A5%EF%BC%B8+%23ero+%23douga+%23agesage' benign\n",
      "b'http://maybank2u.com.my/mbb_info/m2u/public/personalDetail04.do?channelId=INV-Investment&cntTypeId=0&cntKey=INV03.01&programId=INV03-Gold&chCatId=/mbb/Personal/INV-Investment' benign\n",
      "b'http://techcrunch.com/2014/07/14/autobutler-raises-e5-8m-to-vet-garages-for-european-car-owners/' benign\n",
      "b'http://www.cqpszx.com/images/?ref=cmgavkpus.battle.net/d3/en/index' phishing\n",
      "b'http://distractify.com/post/related/id/5547b0ad4a0c4b3e14941a85/skip/40/limit/10/back/0' benign\n",
      "b'http://mylust.com/videos/82159/anonymous-light-haired-babe-demosntrates-her-milky-tits/' benign\n",
      "b'http://pastehtml.com/view/bdpp648dg.html' phishing\n",
      "b'http://confirmation-account-apple.marijuanafigures.com/6be949fa8997ccd3da7d06036f684348/' phishing\n",
      "b'http://www.naturesway2health.com/store/Apple@1/7ffcaed16b1d58eef6068d7569454ef5/' phishing\n",
      "b'http://torbaytraders.co.uk/web1134_1662_10787_0_833_14345_349049881.htm' phishing\n",
      "b'http://khabaronline.ir/(X(1)S(eec3vj00uqdqzt3ms3s30xki))/detail/416218/Politics/parties' benign\n",
      "b'http://nymag.com/thecut/2015/05/portraits-from-a-pioneering-female-photographer.html' benign\n",
      "b'http://motthegioi.vn/khach-san-resort/cung-dien-taj-lake-palace-vang-son-muon-thuo-184174.html' benign\n",
      "b'http://bdnews24.com/health/2015/05/04/bangladeshs-midwifery-programme-earns-swedish-plaudits' benign\n",
      "b'http://web.de/magazine/sport/mehr-sport/kampf-jahrhunderts-mayweather-vs-pacquiao-30610752' benign\n",
      "b'http://zozo.jp/shop/anrealage/?price=proper&p_ssy=2015&p_ssm=5&p_ssd=13&p_sey=2015&p_sem=5&p_sed=13&dstk=2' benign\n",
      "b'http://wikiwiki.jp/sample/?%A5%C7%A5%B6%A5%A4%A5%F3%A5%C6%A5%F3%A5%D7%A5%EC%A1%BC%A5%C8%2Fdefault_darkblue_z' benign\n",
      "b'http://pastehtml.com/view/bb8aqq8w2.html' phishing\n",
      "b'http://tobogo.net/cdsb/board.php?board=musicvideo&bm=view&no=2487&category=&auth=&page=1&search=&keyword=&recom=' benign\n",
      "b'http://maybank2u.com.my/mbb_info/m2u/public/promoDetail.do?channelId=PRO-Promotions&cntTypeId=1&cntKey=PRO03.45&programId=PRO02-Cards:AmericanExpress&chCatId=/mbb/Personal/PRO-Promotions' benign\n",
      "b'http://hubpages.com/hub/Top-10-Best-High-Demand-High-Paying-Jobs-in-Phoenix-AZ-2013-2023' benign\n",
      "b'http://jalopnik.com/saying-that-autonomous-cars-will-kill-millions-of-jobs-1704200122/module/' benign\n",
      "b'http://www.cnsatlas.com/imagedrag/aol/index.htm' phishing\n"
     ]
    }
   ],
   "source": [
    "for url, label in zip(test_urls.numpy(), test_labels.numpy()):\n",
    "    print(url, class_names[int(label[0])])"
   ]
  },
  {
   "cell_type": "markdown",
   "metadata": {},
   "source": [
    "## Vectorize"
   ]
  },
  {
   "cell_type": "markdown",
   "metadata": {},
   "source": [
    "Cannot use the vectorization layers since it is not supported in TFJS; we can rather have a custom tokenizer which can be then exported as json then loaded in JS"
   ]
  },
  {
   "cell_type": "code",
   "execution_count": 151,
   "metadata": {},
   "outputs": [],
   "source": [
    "tokenizer = tf_text.UnicodeCharTokenizer()"
   ]
  },
  {
   "cell_type": "code",
   "execution_count": 152,
   "metadata": {},
   "outputs": [],
   "source": [
    "tokenized_urls = tokenizer.tokenize(test_urls)"
   ]
  },
  {
   "cell_type": "markdown",
   "metadata": {},
   "source": [
    "## Test the model"
   ]
  },
  {
   "cell_type": "code",
   "execution_count": 153,
   "metadata": {
    "tags": []
   },
   "outputs": [],
   "source": [
    "pred = tf.round(tf.sigmoid(model.predict(tokenized_urls))).numpy().astype(int)"
   ]
  },
  {
   "cell_type": "code",
   "execution_count": 154,
   "metadata": {},
   "outputs": [],
   "source": [
    "predictions = [class_names[p[0]] for p in pred]"
   ]
  },
  {
   "cell_type": "code",
   "execution_count": 155,
   "metadata": {},
   "outputs": [
    {
     "name": "stdout",
     "output_type": "stream",
     "text": [
      "b'http://depositphotos.com/58703015/stock-illustration-road-infographic-timeline-element-layout.html' Prediction (model): benign Truth: benign\n",
      "b'http://www.itfindia.org/confirmation-account/c85652703f710065c1255aa03a9aefae/fed65c93bcc26a7c2727b52e7ad57a9b/login.php' Prediction (model): phishing Truth: phishing\n",
      "b'http://venturebeat.com/2015/04/22/itunes-stops-working-for-windows-xp-users-apple-security-change-likely-to-blame/' Prediction (model): benign Truth: benign\n",
      "b'http://distractify.com/post/related/id/541839304a0c4be1088b6b86/skip/20/limit/10/back/0' Prediction (model): benign Truth: benign\n",
      "b'http://hubpages.com/hub/Automotive-Preventative-Maintenance-Checklist-and-Estimated-Repair-Costs' Prediction (model): benign Truth: benign\n",
      "b'https://myspace.com/article/2015/5/11/watch-the-new-series-trailer-for-orange-is-the-new-black-season-3' Prediction (model): benign Truth: benign\n",
      "b'http://europa.eu/about-eu/agencies/regulatory_agencies_bodies/pol_agencies/eurojust/index_en.htm' Prediction (model): benign Truth: benign\n",
      "b'http://appleid.apple.co.uk.cgi-bin.webobjects.myappleid.woa.verify7.id8-eu.co.uk/identify-customer=1hJmtMByghjwxGNNZnsoQbzKTqZH175F5K1qN5RytnnQU9KkJ0999aDq3z1pncQ7SBcr7bnYr4aiQQ15XBXVmeiitv9kRHGhTS3k/' Prediction (model): phishing Truth: phishing\n",
      "b'http://noticias.uol.com.br/infograficos/2014/02/14/veja-quais-sao-os-reservatorios-de-agua-da-grande-sp.htm' Prediction (model): benign Truth: benign\n",
      "b'http://twitter.com/home?status=%E3%83%8C%E3%81%91%E3%82%8B%EF%BC%81%E3%80%90%E4%BA%BA%E5%A6%BB%E3%83%BB%E7%86%9F%E5%A5%B3%E3%80%91+http%3A%2F%2Fero-video.net%2Ft%2FRVIEW8Nj0X3Idi8o+%E5%B7%A8%E4%B9%B3%E4%BA%BA%E5%A6%BB%E3%81%A8%E4%B8%AD%E5%87%BA%E3%81%97%EF%BC%B3%EF%BC%A5%EF%BC%B8+%23ero+%23douga+%23agesage' Prediction (model): benign Truth: benign\n",
      "b'http://maybank2u.com.my/mbb_info/m2u/public/personalDetail04.do?channelId=INV-Investment&cntTypeId=0&cntKey=INV03.01&programId=INV03-Gold&chCatId=/mbb/Personal/INV-Investment' Prediction (model): benign Truth: benign\n",
      "b'http://techcrunch.com/2014/07/14/autobutler-raises-e5-8m-to-vet-garages-for-european-car-owners/' Prediction (model): benign Truth: benign\n",
      "b'http://www.cqpszx.com/images/?ref=cmgavkpus.battle.net/d3/en/index' Prediction (model): phishing Truth: phishing\n",
      "b'http://distractify.com/post/related/id/5547b0ad4a0c4b3e14941a85/skip/40/limit/10/back/0' Prediction (model): benign Truth: benign\n",
      "b'http://mylust.com/videos/82159/anonymous-light-haired-babe-demosntrates-her-milky-tits/' Prediction (model): benign Truth: benign\n",
      "b'http://pastehtml.com/view/bdpp648dg.html' Prediction (model): phishing Truth: phishing\n",
      "b'http://confirmation-account-apple.marijuanafigures.com/6be949fa8997ccd3da7d06036f684348/' Prediction (model): phishing Truth: phishing\n",
      "b'http://www.naturesway2health.com/store/Apple@1/7ffcaed16b1d58eef6068d7569454ef5/' Prediction (model): phishing Truth: phishing\n",
      "b'http://torbaytraders.co.uk/web1134_1662_10787_0_833_14345_349049881.htm' Prediction (model): phishing Truth: phishing\n",
      "b'http://khabaronline.ir/(X(1)S(eec3vj00uqdqzt3ms3s30xki))/detail/416218/Politics/parties' Prediction (model): benign Truth: benign\n",
      "b'http://nymag.com/thecut/2015/05/portraits-from-a-pioneering-female-photographer.html' Prediction (model): benign Truth: benign\n",
      "b'http://motthegioi.vn/khach-san-resort/cung-dien-taj-lake-palace-vang-son-muon-thuo-184174.html' Prediction (model): benign Truth: benign\n",
      "b'http://bdnews24.com/health/2015/05/04/bangladeshs-midwifery-programme-earns-swedish-plaudits' Prediction (model): benign Truth: benign\n",
      "b'http://web.de/magazine/sport/mehr-sport/kampf-jahrhunderts-mayweather-vs-pacquiao-30610752' Prediction (model): benign Truth: benign\n",
      "b'http://zozo.jp/shop/anrealage/?price=proper&p_ssy=2015&p_ssm=5&p_ssd=13&p_sey=2015&p_sem=5&p_sed=13&dstk=2' Prediction (model): benign Truth: benign\n",
      "b'http://wikiwiki.jp/sample/?%A5%C7%A5%B6%A5%A4%A5%F3%A5%C6%A5%F3%A5%D7%A5%EC%A1%BC%A5%C8%2Fdefault_darkblue_z' Prediction (model): benign Truth: benign\n",
      "b'http://pastehtml.com/view/bb8aqq8w2.html' Prediction (model): phishing Truth: phishing\n",
      "b'http://tobogo.net/cdsb/board.php?board=musicvideo&bm=view&no=2487&category=&auth=&page=1&search=&keyword=&recom=' Prediction (model): benign Truth: benign\n",
      "b'http://maybank2u.com.my/mbb_info/m2u/public/promoDetail.do?channelId=PRO-Promotions&cntTypeId=1&cntKey=PRO03.45&programId=PRO02-Cards:AmericanExpress&chCatId=/mbb/Personal/PRO-Promotions' Prediction (model): benign Truth: benign\n",
      "b'http://hubpages.com/hub/Top-10-Best-High-Demand-High-Paying-Jobs-in-Phoenix-AZ-2013-2023' Prediction (model): benign Truth: benign\n",
      "b'http://jalopnik.com/saying-that-autonomous-cars-will-kill-millions-of-jobs-1704200122/module/' Prediction (model): benign Truth: benign\n",
      "b'http://www.cnsatlas.com/imagedrag/aol/index.htm' Prediction (model): phishing Truth: phishing\n"
     ]
    }
   ],
   "source": [
    "for i, (url, p, label) in enumerate(zip(test_urls.numpy(), predictions, test_labels.numpy())):\n",
    "    print(url, \"Prediction (model):\", p, \"Truth:\", class_names[int(label[0])])\n",
    "#     print(tokenized_urls[i])"
   ]
  },
  {
   "cell_type": "markdown",
   "metadata": {
    "id": "aIrHRI2QEx_u",
    "tags": []
   },
   "source": [
    "## Evaluate (test)"
   ]
  },
  {
   "cell_type": "code",
   "execution_count": 156,
   "metadata": {
    "tags": []
   },
   "outputs": [
    {
     "name": "stdout",
     "output_type": "stream",
     "text": [
      "1/1 [==============================] - 0s 354ms/step - loss: 0.0185 - accuracy: 0.9688\n",
      "test loss, test acc: [0.018451431766152382, 0.96875]\n"
     ]
    }
   ],
   "source": [
    "test_results = model.evaluate(tokenized_urls, test_labels)\n",
    "print(\"test loss, test acc:\", test_results)"
   ]
  },
  {
   "cell_type": "code",
   "execution_count": null,
   "metadata": {},
   "outputs": [],
   "source": []
  }
 ],
 "metadata": {
  "accelerator": "GPU",
  "colab": {
   "authorship_tag": "ABX9TyNqKpFqEFCkBkAyw9y52SGT",
   "collapsed_sections": [
    "dHlUmDItlkDG",
    "eyBLm8_g46iI"
   ],
   "name": "train_custom1.ipynb",
   "provenance": []
  },
  "kernelspec": {
   "display_name": "Python 3 (ipykernel)",
   "language": "python",
   "name": "python3"
  },
  "language_info": {
   "codemirror_mode": {
    "name": "ipython",
    "version": 3
   },
   "file_extension": ".py",
   "mimetype": "text/x-python",
   "name": "python",
   "nbconvert_exporter": "python",
   "pygments_lexer": "ipython3",
   "version": "3.9.1"
  },
  "toc-showmarkdowntxt": false
 },
 "nbformat": 4,
 "nbformat_minor": 4
}
