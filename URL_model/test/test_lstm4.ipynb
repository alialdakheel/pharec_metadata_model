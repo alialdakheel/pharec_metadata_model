{
 "cells": [
  {
   "cell_type": "markdown",
   "metadata": {
    "id": "soMhYc4P77fV",
    "tags": []
   },
   "source": [
    "# Test lstm4 model for phishing URL detection"
   ]
  },
  {
   "cell_type": "markdown",
   "metadata": {
    "id": "u2YTssE57qRc",
    "tags": []
   },
   "source": [
    "## Imports"
   ]
  },
  {
   "cell_type": "code",
   "execution_count": 17,
   "metadata": {
    "executionInfo": {
     "elapsed": 8574,
     "status": "ok",
     "timestamp": 1627036881636,
     "user": {
      "displayName": "Ali Aldakheel",
      "photoUrl": "",
      "userId": "12596700705790486557"
     },
     "user_tz": -180
    },
    "id": "4exj7qwIelgQ"
   },
   "outputs": [],
   "source": [
    "import numpy as np\n",
    "import os\n",
    "import pathlib\n",
    "\n",
    "import tensorflow as tf\n",
    "from tensorflow import keras\n",
    "from tensorflow.keras import layers, regularizers\n",
    "from tensorflow.keras.models import Sequential\n",
    "\n",
    "import tensorflow_text as tf_text"
   ]
  },
  {
   "cell_type": "markdown",
   "metadata": {
    "id": "VQa6ueGT7kYf",
    "tags": []
   },
   "source": [
    "## Params"
   ]
  },
  {
   "cell_type": "code",
   "execution_count": 18,
   "metadata": {
    "executionInfo": {
     "elapsed": 14,
     "status": "ok",
     "timestamp": 1627036881642,
     "user": {
      "displayName": "Ali Aldakheel",
      "photoUrl": "",
      "userId": "12596700705790486557"
     },
     "user_tz": -180
    },
    "id": "8M-gp20qghxf"
   },
   "outputs": [],
   "source": [
    "dataset_dir = pathlib.Path(\"../URL_dataset/\")\n",
    "model_dir = pathlib.Path('../URL_models/')\n",
    "checkpoint_dir = pathlib.Path('../URL_checkpoints/')"
   ]
  },
  {
   "cell_type": "code",
   "execution_count": 19,
   "metadata": {
    "executionInfo": {
     "elapsed": 569,
     "status": "ok",
     "timestamp": 1627036888443,
     "user": {
      "displayName": "Ali Aldakheel",
      "photoUrl": "",
      "userId": "12596700705790486557"
     },
     "user_tz": -180
    },
    "id": "ek7tR5IDhNz_"
   },
   "outputs": [],
   "source": [
    "model_name = \"lstm4\"\n",
    "batch_size = 32\n",
    "rest_split_ratio = 0.2\n",
    "test_split_ratio = 0.2\n",
    "\n",
    "unicode_max = 1114111"
   ]
  },
  {
   "cell_type": "markdown",
   "metadata": {
    "tags": []
   },
   "source": [
    "## Load dataset"
   ]
  },
  {
   "cell_type": "code",
   "execution_count": 20,
   "metadata": {
    "colab": {
     "base_uri": "https://localhost:8080/"
    },
    "executionInfo": {
     "elapsed": 6922,
     "status": "ok",
     "timestamp": 1627036896890,
     "user": {
      "displayName": "Ali Aldakheel",
      "photoUrl": "",
      "userId": "12596700705790486557"
     },
     "user_tz": -180
    },
    "id": "PRnzdwr0iEJH",
    "outputId": "716cdd80-319b-4a9a-e19b-bf1aea153282"
   },
   "outputs": [
    {
     "name": "stdout",
     "output_type": "stream",
     "text": [
      "Found 45343 files belonging to 2 classes.\n",
      "Using 36275 files for training.\n"
     ]
    }
   ],
   "source": [
    "train_ds = keras.preprocessing.text_dataset_from_directory(\n",
    "  dataset_dir,\n",
    "  validation_split=rest_split_ratio,\n",
    "  subset=\"training\",\n",
    "  label_mode = 'binary',\n",
    "  seed=132,\n",
    "  batch_size=batch_size)"
   ]
  },
  {
   "cell_type": "code",
   "execution_count": 21,
   "metadata": {
    "colab": {
     "base_uri": "https://localhost:8080/"
    },
    "executionInfo": {
     "elapsed": 625,
     "status": "ok",
     "timestamp": 1627036899112,
     "user": {
      "displayName": "Ali Aldakheel",
      "photoUrl": "",
      "userId": "12596700705790486557"
     },
     "user_tz": -180
    },
    "id": "WK0GzS01jr6f",
    "outputId": "cd973b86-a058-4780-9d4c-0d73e8bda940"
   },
   "outputs": [
    {
     "name": "stdout",
     "output_type": "stream",
     "text": [
      "Found 45343 files belonging to 2 classes.\n",
      "Using 9068 files for validation.\n"
     ]
    }
   ],
   "source": [
    "rest_ds = keras.preprocessing.text_dataset_from_directory(\n",
    "  dataset_dir,\n",
    "  validation_split=rest_split_ratio,\n",
    "  subset=\"validation\",\n",
    "  label_mode='binary',\n",
    "  seed=132,\n",
    "  batch_size=batch_size)"
   ]
  },
  {
   "cell_type": "code",
   "execution_count": 22,
   "metadata": {},
   "outputs": [
    {
     "name": "stdout",
     "output_type": "stream",
     "text": [
      "284\n"
     ]
    }
   ],
   "source": [
    "rest_batches = rest_ds.cardinality().numpy()\n",
    "print(rest_batches)"
   ]
  },
  {
   "cell_type": "code",
   "execution_count": 23,
   "metadata": {
    "executionInfo": {
     "elapsed": 4,
     "status": "ok",
     "timestamp": 1627036900606,
     "user": {
      "displayName": "Ali Aldakheel",
      "photoUrl": "",
      "userId": "12596700705790486557"
     },
     "user_tz": -180
    },
    "id": "sqPRjan5JGnW"
   },
   "outputs": [],
   "source": [
    "val_ds = rest_ds.skip(int(rest_batches * test_split_ratio))\n",
    "test_ds = rest_ds.take(int(rest_batches * test_split_ratio))"
   ]
  },
  {
   "cell_type": "code",
   "execution_count": 24,
   "metadata": {
    "executionInfo": {
     "elapsed": 430,
     "status": "ok",
     "timestamp": 1627036908402,
     "user": {
      "displayName": "Ali Aldakheel",
      "photoUrl": "",
      "userId": "12596700705790486557"
     },
     "user_tz": -180
    },
    "id": "k2b1o4O3ZdUd"
   },
   "outputs": [],
   "source": [
    "class_names = train_ds.class_names"
   ]
  },
  {
   "cell_type": "code",
   "execution_count": 25,
   "metadata": {
    "colab": {
     "base_uri": "https://localhost:8080/"
    },
    "executionInfo": {
     "elapsed": 4,
     "status": "ok",
     "timestamp": 1627036909617,
     "user": {
      "displayName": "Ali Aldakheel",
      "photoUrl": "",
      "userId": "12596700705790486557"
     },
     "user_tz": -180
    },
    "id": "j2cn01Nrk91s",
    "outputId": "0f358a96-666d-43d4-bee0-76eb122e6b6a"
   },
   "outputs": [
    {
     "data": {
      "text/plain": [
       "['benign', 'phishing']"
      ]
     },
     "execution_count": 25,
     "metadata": {},
     "output_type": "execute_result"
    }
   ],
   "source": [
    "class_names"
   ]
  },
  {
   "cell_type": "markdown",
   "metadata": {
    "tags": []
   },
   "source": [
    "## Explore dataset"
   ]
  },
  {
   "cell_type": "code",
   "execution_count": 54,
   "metadata": {},
   "outputs": [],
   "source": [
    "b = test_ds.take(2)"
   ]
  },
  {
   "cell_type": "code",
   "execution_count": 55,
   "metadata": {},
   "outputs": [],
   "source": [
    "for batch in b:\n",
    "    test_urls = batch[0]\n",
    "    test_labels = batch[1]"
   ]
  },
  {
   "cell_type": "code",
   "execution_count": 56,
   "metadata": {},
   "outputs": [
    {
     "name": "stdout",
     "output_type": "stream",
     "text": [
      "b'http://serverfault.com/questions/484707/is-it-possible-to-have-a-100-secure-virtual-private-server' benign\n",
      "b'http://techcrunch.com/2015/05/08/rewinds-new-app-lets-you-create-photo-timelines-that-disappear-after-a-day/' benign\n",
      "b'http://ns303913.ovh.net/theme/js/images/ok/c7060c871fcdb4d12ea8f18374f4b441/Login.php' phishing\n",
      "b'http://codecanyon.net/item/sitecloner-make-clones-or-copies-of-any-website/11172863' benign\n",
      "b'http://www.cnsatlas.com/imagedrag/aol/index.htm' phishing\n",
      "b'http://www.preferredcontracts.co.uk/js/ing.be/default.htm' phishing\n",
      "b'http://web.de/magazine/unterhaltung/lifestyle/blog/jessica-labbadia/sommerhaus-fertigbauweise-30508184' benign\n",
      "b'http://www.acts17leadership.com/wp-admin/css/gmailen_webmail.htm' phishing\n",
      "b'http://censor.net.ua/news/335966/na_donbasse_esche_ne_dostigli_togo_chego_hoteli_merkel_o_vypolnenii_minskih_soglasheniyi' benign\n",
      "b'http://motthegioi.vn/tuong-tinh-bao-chien-luoc-pham-xuan-an/ky-7-hai-su-that-cua-ong-pham-xuan-an-188405.html' benign\n",
      "b'http://interpark.com/product/MallDisplay.do?_method=Detail&sc.shopNo=0000100000&sc.dispNo=001930&sc.prdNo=1560681269&bm1=mid&bm2=bestseller' benign\n",
      "b'http://katproxy.com/eric-clapton-2015-forever-man-3cd-deluxe-edition-reprise-9362-49278-9-eu-t10637121.html' benign\n",
      "b'http://tobogo.net/cdsb/board.php?board=musicvideo&bm=view&no=2487&category=&auth=&page=1&search=&keyword=&recom=' benign\n",
      "b'http://sourceforge.net/directory/communications/add_facet_filter?facet=os&constraint=Grouping+and+Descriptive+Categories+%3A%3A+OS+Independent+%28Written+in+an+interpreted+language%29' benign\n",
      "b'http://mediaset.it/mediasetextra/articoli/dolce-valentina-le-trame-dal-16-al-20-febbraio_11331.shtml' benign\n",
      "b'http://indianexpress.com/article/business/business-others/modis-visit-may-pave-way-for-agro-exports-to-china/' benign\n",
      "b'http://venturebeat.com/2015/04/22/itunes-stops-working-for-windows-xp-users-apple-security-change-likely-to-blame/' benign\n",
      "b'http://interpark.com/displaycorner/FreeMarket.do?_method=itemCateList&free1=pc&free2=007001009014&free3=item&disp_no=007001009014' benign\n",
      "b'http://thenextweb.com/entrepreneur/2014/02/25/best-entrepreneurs-dont-start-companies-invent-categories/gtm.js/gtm.start' benign\n",
      "b'http://perezhilton.com/2015-05-12-jennifer-lopez-casper-smart-man-crush-monday-instagram-post/?from=readmore_perezhilton&' benign\n",
      "b'http://deadspin.com/jameis-winston-isnt-the-only-problem-here-an-fsu-teac-1467707410' benign\n",
      "b'http://perezhilton.com/2015-05-12-weird-japanese-game-show-2-girls-1-cockroach/?from=featured' benign\n",
      "b'https://myspace.com/article/2015/5/11/watch-the-new-series-trailer-for-orange-is-the-new-black-season-3' benign\n",
      "b'http://bestblackhatforum.com/Thread-BIG-CONGRATULATIONS-TO-JOHNNY-SHADOW-Aka-Mr-20k-Reps-we-all-thank-you?page=2' benign\n",
      "b'http://drive-google-com.fanalav.com/94b3133c1e9369f2f4982df24c606db3/' phishing\n",
      "b'http://ap.org/Content/AP-In-The-News/2014/Brad-Foss-is-promoted-to-AP-deputy-business-editor' benign\n",
      "b'http://thenextweb.com/insider/2014/11/21/livefyre-upgrades-platform-studio-real-time-cms-user-generated-content/' benign\n",
      "b'http://www.atendimentoaocliente.voovq.com/cooperado_sicredi/index.php' phishing\n",
      "b'http://pikabu.ru/tag/%D0%BA%D0%B8%D0%BD%D0%B4%D0%B5%D1%80%20%D1%81%D1%8E%D1%80%D0%BF%D1%80%D0%B8%D0%B7/hot' benign\n",
      "b'http://motthegioi.vn/khach-san-resort/cung-dien-taj-lake-palace-vang-son-muon-thuo-184174.html' benign\n",
      "b'http://otomoto.pl/osobowe/bmw/seria-5/e39-1996-2003/?search%5Bfilter_enum_color%5D%5B0%5D=silver' benign\n",
      "b'http://skyrock.com/videos/eDJiMXBlMDoxMw==-Interview-Stephane-Bak-Les-Heritiers-Skyrock-com.html?top=4&period=recent' benign\n"
     ]
    }
   ],
   "source": [
    "for url, label in zip(test_urls.numpy(), test_labels.numpy()):\n",
    "    print(url, class_names[int(label[0])])"
   ]
  },
  {
   "cell_type": "markdown",
   "metadata": {},
   "source": [
    "## Vectorize"
   ]
  },
  {
   "cell_type": "markdown",
   "metadata": {},
   "source": [
    "Cannot use the vectorization layers since it is not supported in TFJS; we can rather have a custom tokenizer which can be then exported as json then loaded in JS"
   ]
  },
  {
   "cell_type": "code",
   "execution_count": 57,
   "metadata": {},
   "outputs": [],
   "source": [
    "tokenizer = tf_text.UnicodeCharTokenizer()"
   ]
  },
  {
   "cell_type": "code",
   "execution_count": 58,
   "metadata": {},
   "outputs": [],
   "source": [
    "tokenized_urls = tokenizer.tokenize(test_urls)"
   ]
  },
  {
   "cell_type": "markdown",
   "metadata": {
    "id": "ZgRCssRQOuSG",
    "tags": []
   },
   "source": [
    "## Load model"
   ]
  },
  {
   "cell_type": "code",
   "execution_count": 59,
   "metadata": {
    "id": "GvIygUewOwKU"
   },
   "outputs": [],
   "source": [
    "# change filename to the model you want to load\n",
    "model_filename = \"2021-09-11_12;38;14.218039_lstm4_valacc0.9136_e15_b32.tf\"\n",
    "model = keras.models.load_model(\n",
    "    model_dir / model_filename,\n",
    "    compile=True)"
   ]
  },
  {
   "cell_type": "markdown",
   "metadata": {},
   "source": [
    "## Test the model"
   ]
  },
  {
   "cell_type": "code",
   "execution_count": 60,
   "metadata": {
    "tags": []
   },
   "outputs": [],
   "source": [
    "pred = tf.round(tf.sigmoid(model.predict(tokenized_urls))).numpy().astype(int)"
   ]
  },
  {
   "cell_type": "code",
   "execution_count": 61,
   "metadata": {},
   "outputs": [],
   "source": [
    "predictions = [class_names[p[0]] for p in pred]"
   ]
  },
  {
   "cell_type": "code",
   "execution_count": 62,
   "metadata": {},
   "outputs": [
    {
     "name": "stdout",
     "output_type": "stream",
     "text": [
      "b'http://serverfault.com/questions/484707/is-it-possible-to-have-a-100-secure-virtual-private-server' Prediction (model): benign Truth: benign\n",
      "b'http://techcrunch.com/2015/05/08/rewinds-new-app-lets-you-create-photo-timelines-that-disappear-after-a-day/' Prediction (model): benign Truth: benign\n",
      "b'http://ns303913.ovh.net/theme/js/images/ok/c7060c871fcdb4d12ea8f18374f4b441/Login.php' Prediction (model): benign Truth: phishing\n",
      "b'http://codecanyon.net/item/sitecloner-make-clones-or-copies-of-any-website/11172863' Prediction (model): benign Truth: benign\n",
      "b'http://www.cnsatlas.com/imagedrag/aol/index.htm' Prediction (model): phishing Truth: phishing\n",
      "b'http://www.preferredcontracts.co.uk/js/ing.be/default.htm' Prediction (model): phishing Truth: phishing\n",
      "b'http://web.de/magazine/unterhaltung/lifestyle/blog/jessica-labbadia/sommerhaus-fertigbauweise-30508184' Prediction (model): benign Truth: benign\n",
      "b'http://www.acts17leadership.com/wp-admin/css/gmailen_webmail.htm' Prediction (model): phishing Truth: phishing\n",
      "b'http://censor.net.ua/news/335966/na_donbasse_esche_ne_dostigli_togo_chego_hoteli_merkel_o_vypolnenii_minskih_soglasheniyi' Prediction (model): benign Truth: benign\n",
      "b'http://motthegioi.vn/tuong-tinh-bao-chien-luoc-pham-xuan-an/ky-7-hai-su-that-cua-ong-pham-xuan-an-188405.html' Prediction (model): benign Truth: benign\n",
      "b'http://interpark.com/product/MallDisplay.do?_method=Detail&sc.shopNo=0000100000&sc.dispNo=001930&sc.prdNo=1560681269&bm1=mid&bm2=bestseller' Prediction (model): benign Truth: benign\n",
      "b'http://katproxy.com/eric-clapton-2015-forever-man-3cd-deluxe-edition-reprise-9362-49278-9-eu-t10637121.html' Prediction (model): benign Truth: benign\n",
      "b'http://tobogo.net/cdsb/board.php?board=musicvideo&bm=view&no=2487&category=&auth=&page=1&search=&keyword=&recom=' Prediction (model): benign Truth: benign\n",
      "b'http://sourceforge.net/directory/communications/add_facet_filter?facet=os&constraint=Grouping+and+Descriptive+Categories+%3A%3A+OS+Independent+%28Written+in+an+interpreted+language%29' Prediction (model): benign Truth: benign\n",
      "b'http://mediaset.it/mediasetextra/articoli/dolce-valentina-le-trame-dal-16-al-20-febbraio_11331.shtml' Prediction (model): benign Truth: benign\n",
      "b'http://indianexpress.com/article/business/business-others/modis-visit-may-pave-way-for-agro-exports-to-china/' Prediction (model): benign Truth: benign\n",
      "b'http://venturebeat.com/2015/04/22/itunes-stops-working-for-windows-xp-users-apple-security-change-likely-to-blame/' Prediction (model): benign Truth: benign\n",
      "b'http://interpark.com/displaycorner/FreeMarket.do?_method=itemCateList&free1=pc&free2=007001009014&free3=item&disp_no=007001009014' Prediction (model): benign Truth: benign\n",
      "b'http://thenextweb.com/entrepreneur/2014/02/25/best-entrepreneurs-dont-start-companies-invent-categories/gtm.js/gtm.start' Prediction (model): benign Truth: benign\n",
      "b'http://perezhilton.com/2015-05-12-jennifer-lopez-casper-smart-man-crush-monday-instagram-post/?from=readmore_perezhilton&' Prediction (model): benign Truth: benign\n",
      "b'http://deadspin.com/jameis-winston-isnt-the-only-problem-here-an-fsu-teac-1467707410' Prediction (model): benign Truth: benign\n",
      "b'http://perezhilton.com/2015-05-12-weird-japanese-game-show-2-girls-1-cockroach/?from=featured' Prediction (model): benign Truth: benign\n",
      "b'https://myspace.com/article/2015/5/11/watch-the-new-series-trailer-for-orange-is-the-new-black-season-3' Prediction (model): benign Truth: benign\n",
      "b'http://bestblackhatforum.com/Thread-BIG-CONGRATULATIONS-TO-JOHNNY-SHADOW-Aka-Mr-20k-Reps-we-all-thank-you?page=2' Prediction (model): benign Truth: benign\n",
      "b'http://drive-google-com.fanalav.com/94b3133c1e9369f2f4982df24c606db3/' Prediction (model): phishing Truth: phishing\n",
      "b'http://ap.org/Content/AP-In-The-News/2014/Brad-Foss-is-promoted-to-AP-deputy-business-editor' Prediction (model): benign Truth: benign\n",
      "b'http://thenextweb.com/insider/2014/11/21/livefyre-upgrades-platform-studio-real-time-cms-user-generated-content/' Prediction (model): benign Truth: benign\n",
      "b'http://www.atendimentoaocliente.voovq.com/cooperado_sicredi/index.php' Prediction (model): phishing Truth: phishing\n",
      "b'http://pikabu.ru/tag/%D0%BA%D0%B8%D0%BD%D0%B4%D0%B5%D1%80%20%D1%81%D1%8E%D1%80%D0%BF%D1%80%D0%B8%D0%B7/hot' Prediction (model): benign Truth: benign\n",
      "b'http://motthegioi.vn/khach-san-resort/cung-dien-taj-lake-palace-vang-son-muon-thuo-184174.html' Prediction (model): benign Truth: benign\n",
      "b'http://otomoto.pl/osobowe/bmw/seria-5/e39-1996-2003/?search%5Bfilter_enum_color%5D%5B0%5D=silver' Prediction (model): benign Truth: benign\n",
      "b'http://skyrock.com/videos/eDJiMXBlMDoxMw==-Interview-Stephane-Bak-Les-Heritiers-Skyrock-com.html?top=4&period=recent' Prediction (model): benign Truth: benign\n"
     ]
    }
   ],
   "source": [
    "for i, (url, p, label) in enumerate(zip(test_urls.numpy(), predictions, test_labels.numpy())):\n",
    "    print(url, \"Prediction (model):\", p, \"Truth:\", class_names[int(label[0])])\n",
    "#     print(tokenized_urls[i])"
   ]
  },
  {
   "cell_type": "markdown",
   "metadata": {
    "id": "aIrHRI2QEx_u",
    "tags": []
   },
   "source": [
    "## Evaluate (test)"
   ]
  },
  {
   "cell_type": "code",
   "execution_count": 63,
   "metadata": {
    "tags": []
   },
   "outputs": [
    {
     "name": "stdout",
     "output_type": "stream",
     "text": [
      "1/1 [==============================] - 1s 545ms/step - loss: 0.2296 - accuracy: 0.9688\n",
      "test loss, test acc: [0.22960908710956573, 0.96875]\n"
     ]
    }
   ],
   "source": [
    "test_results = model.evaluate(tokenized_urls, test_labels)\n",
    "print(\"test loss, test acc:\", test_results)"
   ]
  },
  {
   "cell_type": "code",
   "execution_count": null,
   "metadata": {},
   "outputs": [],
   "source": []
  }
 ],
 "metadata": {
  "accelerator": "GPU",
  "colab": {
   "authorship_tag": "ABX9TyNqKpFqEFCkBkAyw9y52SGT",
   "collapsed_sections": [
    "dHlUmDItlkDG",
    "eyBLm8_g46iI"
   ],
   "name": "train_custom1.ipynb",
   "provenance": []
  },
  "kernelspec": {
   "display_name": "Python 3 (ipykernel)",
   "language": "python",
   "name": "python3"
  },
  "language_info": {
   "codemirror_mode": {
    "name": "ipython",
    "version": 3
   },
   "file_extension": ".py",
   "mimetype": "text/x-python",
   "name": "python",
   "nbconvert_exporter": "python",
   "pygments_lexer": "ipython3",
   "version": "3.9.1"
  },
  "toc-showmarkdowntxt": false
 },
 "nbformat": 4,
 "nbformat_minor": 4
}
