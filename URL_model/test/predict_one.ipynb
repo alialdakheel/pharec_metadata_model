{
 "cells": [
  {
   "cell_type": "code",
   "execution_count": null,
   "id": "86335140-74fa-4977-b0b3-b45975774e31",
   "metadata": {},
   "outputs": [],
   "source": []
  },
  {
   "cell_type": "code",
   "execution_count": null,
   "id": "81d34bda-2b7f-41c0-aa7a-5633c4d3a99d",
   "metadata": {},
   "outputs": [],
   "source": []
  },
  {
   "cell_type": "markdown",
   "id": "2c8bf938-b1d4-412c-ad63-378e13cf4aad",
   "metadata": {
    "id": "u2YTssE57qRc",
    "tags": []
   },
   "source": [
    "## Imports"
   ]
  },
  {
   "cell_type": "code",
   "execution_count": 27,
   "id": "1469f68b-215b-4e99-947f-f9a99e11dd53",
   "metadata": {
    "executionInfo": {
     "elapsed": 8574,
     "status": "ok",
     "timestamp": 1627036881636,
     "user": {
      "displayName": "Ali Aldakheel",
      "photoUrl": "",
      "userId": "12596700705790486557"
     },
     "user_tz": -180
    },
    "id": "4exj7qwIelgQ"
   },
   "outputs": [],
   "source": [
    "import numpy as np\n",
    "import os\n",
    "import pathlib\n",
    "\n",
    "import tensorflow as tf\n",
    "from tensorflow import keras\n",
    "from tensorflow.keras import layers, regularizers\n",
    "from tensorflow.keras.models import Sequential\n",
    "\n",
    "import tensorflow_text as tf_text"
   ]
  },
  {
   "cell_type": "markdown",
   "id": "08bf9ef0-365b-4a7c-b089-ff6a1a448f7e",
   "metadata": {
    "id": "VQa6ueGT7kYf",
    "tags": []
   },
   "source": [
    "## Params"
   ]
  },
  {
   "cell_type": "code",
   "execution_count": 28,
   "id": "bb208274-cca9-4aa1-a794-b602458a0fb2",
   "metadata": {
    "executionInfo": {
     "elapsed": 14,
     "status": "ok",
     "timestamp": 1627036881642,
     "user": {
      "displayName": "Ali Aldakheel",
      "photoUrl": "",
      "userId": "12596700705790486557"
     },
     "user_tz": -180
    },
    "id": "8M-gp20qghxf"
   },
   "outputs": [],
   "source": [
    "dataset_dir = pathlib.Path(\"../URL_dataset/\")\n",
    "model_dir = pathlib.Path('../URL_models/')\n",
    "checkpoint_dir = pathlib.Path('../URL_checkpoints/')"
   ]
  },
  {
   "cell_type": "code",
   "execution_count": 29,
   "id": "b6e8d12f-89ea-4b4b-9b74-0dfbeec0c0ed",
   "metadata": {
    "executionInfo": {
     "elapsed": 569,
     "status": "ok",
     "timestamp": 1627036888443,
     "user": {
      "displayName": "Ali Aldakheel",
      "photoUrl": "",
      "userId": "12596700705790486557"
     },
     "user_tz": -180
    },
    "id": "ek7tR5IDhNz_"
   },
   "outputs": [],
   "source": [
    "model_name = \"lstm3\"\n",
    "batch_size = 32\n",
    "rest_split_ratio = 0.2\n",
    "test_split_ratio = 0.2\n",
    "\n",
    "unicode_max = 1114111"
   ]
  },
  {
   "cell_type": "markdown",
   "id": "1b76216e-9cb9-42b6-86b5-b6386f59e8c3",
   "metadata": {
    "tags": []
   },
   "source": [
    "## Load dataset"
   ]
  },
  {
   "cell_type": "code",
   "execution_count": 30,
   "id": "21513f41-e2d5-4b78-93a7-6e0dceb006ca",
   "metadata": {
    "colab": {
     "base_uri": "https://localhost:8080/"
    },
    "executionInfo": {
     "elapsed": 6922,
     "status": "ok",
     "timestamp": 1627036896890,
     "user": {
      "displayName": "Ali Aldakheel",
      "photoUrl": "",
      "userId": "12596700705790486557"
     },
     "user_tz": -180
    },
    "id": "PRnzdwr0iEJH",
    "outputId": "716cdd80-319b-4a9a-e19b-bf1aea153282"
   },
   "outputs": [
    {
     "name": "stdout",
     "output_type": "stream",
     "text": [
      "Found 45343 files belonging to 2 classes.\n",
      "Using 36275 files for training.\n"
     ]
    }
   ],
   "source": [
    "train_ds = keras.preprocessing.text_dataset_from_directory(\n",
    "  dataset_dir,\n",
    "  validation_split=rest_split_ratio,\n",
    "  subset=\"training\",\n",
    "  label_mode = 'binary',\n",
    "  seed=132,\n",
    "  batch_size=batch_size)"
   ]
  },
  {
   "cell_type": "code",
   "execution_count": 31,
   "id": "b15de28a-6ee4-4ce9-8cc1-273dac1503f1",
   "metadata": {
    "colab": {
     "base_uri": "https://localhost:8080/"
    },
    "executionInfo": {
     "elapsed": 625,
     "status": "ok",
     "timestamp": 1627036899112,
     "user": {
      "displayName": "Ali Aldakheel",
      "photoUrl": "",
      "userId": "12596700705790486557"
     },
     "user_tz": -180
    },
    "id": "WK0GzS01jr6f",
    "outputId": "cd973b86-a058-4780-9d4c-0d73e8bda940"
   },
   "outputs": [
    {
     "name": "stdout",
     "output_type": "stream",
     "text": [
      "Found 45343 files belonging to 2 classes.\n",
      "Using 9068 files for validation.\n"
     ]
    }
   ],
   "source": [
    "rest_ds = keras.preprocessing.text_dataset_from_directory(\n",
    "  dataset_dir,\n",
    "  validation_split=rest_split_ratio,\n",
    "  subset=\"validation\",\n",
    "  label_mode='binary',\n",
    "  seed=132,\n",
    "  batch_size=batch_size)"
   ]
  },
  {
   "cell_type": "code",
   "execution_count": 32,
   "id": "4d270f6a-b7fd-494a-af32-f5b1d5bebc39",
   "metadata": {},
   "outputs": [
    {
     "name": "stdout",
     "output_type": "stream",
     "text": [
      "284\n"
     ]
    }
   ],
   "source": [
    "rest_batches = rest_ds.cardinality().numpy()\n",
    "print(rest_batches)"
   ]
  },
  {
   "cell_type": "code",
   "execution_count": 33,
   "id": "50563355-1759-48ad-b9fa-a4a7145fa2e8",
   "metadata": {
    "executionInfo": {
     "elapsed": 4,
     "status": "ok",
     "timestamp": 1627036900606,
     "user": {
      "displayName": "Ali Aldakheel",
      "photoUrl": "",
      "userId": "12596700705790486557"
     },
     "user_tz": -180
    },
    "id": "sqPRjan5JGnW"
   },
   "outputs": [],
   "source": [
    "val_ds = rest_ds.skip(int(rest_batches * test_split_ratio))\n",
    "test_ds = rest_ds.take(int(rest_batches * test_split_ratio))"
   ]
  },
  {
   "cell_type": "code",
   "execution_count": 34,
   "id": "65a92035-9587-4dda-906a-f41ef32cbf7f",
   "metadata": {
    "executionInfo": {
     "elapsed": 430,
     "status": "ok",
     "timestamp": 1627036908402,
     "user": {
      "displayName": "Ali Aldakheel",
      "photoUrl": "",
      "userId": "12596700705790486557"
     },
     "user_tz": -180
    },
    "id": "k2b1o4O3ZdUd"
   },
   "outputs": [],
   "source": [
    "class_names = train_ds.class_names"
   ]
  },
  {
   "cell_type": "code",
   "execution_count": 35,
   "id": "a8d5e9e2-7bde-4dbc-83f6-b18f4d8552f5",
   "metadata": {
    "colab": {
     "base_uri": "https://localhost:8080/"
    },
    "executionInfo": {
     "elapsed": 4,
     "status": "ok",
     "timestamp": 1627036909617,
     "user": {
      "displayName": "Ali Aldakheel",
      "photoUrl": "",
      "userId": "12596700705790486557"
     },
     "user_tz": -180
    },
    "id": "j2cn01Nrk91s",
    "outputId": "0f358a96-666d-43d4-bee0-76eb122e6b6a"
   },
   "outputs": [
    {
     "data": {
      "text/plain": [
       "['benign', 'phishing']"
      ]
     },
     "execution_count": 35,
     "metadata": {},
     "output_type": "execute_result"
    }
   ],
   "source": [
    "class_names"
   ]
  },
  {
   "cell_type": "markdown",
   "id": "ddb08909-0b1f-486d-8a98-997f41545f58",
   "metadata": {
    "id": "ZgRCssRQOuSG",
    "tags": []
   },
   "source": [
    "## Load model"
   ]
  },
  {
   "cell_type": "code",
   "execution_count": 92,
   "id": "254c520f-e64c-4d42-8c19-98a5c1bc4cbd",
   "metadata": {
    "id": "GvIygUewOwKU"
   },
   "outputs": [],
   "source": [
    "# change filename to the model you want to load\n",
    "model_filename = \"2021-09-10_19;13;08.969881_lstm3_valacc0.9964_e15_b32.tf\"\n",
    "model = keras.models.load_model(\n",
    "    model_dir / model_filename,\n",
    "    compile=True)"
   ]
  },
  {
   "cell_type": "markdown",
   "id": "934c46d5-0368-4ec3-8c4e-0cf722e15a82",
   "metadata": {
    "tags": []
   },
   "source": [
    "## Explore dataset"
   ]
  },
  {
   "cell_type": "code",
   "execution_count": 70,
   "id": "d783197c-d329-43c2-bd44-5ef0b715b819",
   "metadata": {},
   "outputs": [],
   "source": [
    "b = test_ds.take(1)"
   ]
  },
  {
   "cell_type": "code",
   "execution_count": 139,
   "id": "12a8e45e-3dae-4cb5-b2c3-60cc1cc77679",
   "metadata": {},
   "outputs": [],
   "source": [
    "for batch in b:\n",
    "    test_urls = batch[0]\n",
    "    test_labels = batch[1]"
   ]
  },
  {
   "cell_type": "code",
   "execution_count": 140,
   "id": "e6ce6082-ac45-4bfc-92ba-7db6fa6dbb5f",
   "metadata": {},
   "outputs": [
    {
     "name": "stdout",
     "output_type": "stream",
     "text": [
      "b'http://www.naturesway2health.com/store/Apple@1/7ffcaed16b1d58eef6068d7569454ef5/' phishing\n",
      "b'http://www.tarahenergy.com/wp-admin/js/login.alibaba.com/login.jsp.php' phishing\n",
      "b'http://interpark.com/displaycorner/FreeMarket.do?_method=itemCateList&free1=pc&free2=007001009014&free3=item&disp_no=007001009014' benign\n",
      "b'http://seekingalpha.com/article/3180326-10-top-dividend-aristocrats-aim-at-7-percent-to-12-percent-april-upsides-1-misses' benign\n",
      "b'http://sourceforge.net/directory/audio-video/add_facet_filter?facet=license&constraint=Public+Domain' benign\n",
      "b'http://babal.net/games/view/731/%D8%A7%D9%84%D8%B9%D8%A7%D8%A8-%D8%A7%D9%84%D9%82%D8%B7%D8%B7-%D8%A7%D9%84%D8%B4%D9%82%D9%8A%D8%A9' benign\n",
      "b'http://tinnhanh360.net/tim-thay-ca-tram-thi-the-nguoi-leo-nui-bi-tuyet-vui-o-nepal.html' benign\n",
      "b'http://emgn.com/entertainment/the-most-amazing-and-beautiful-bridges-you-will-ever-see/' benign\n",
      "b'http://hollywoodlife.com/2015/05/02/ian-somerhalder-engagement-nikki-reed-khloe-kardashian-lamar-odom-wedding-pics/' benign\n",
      "b'http://codecanyon.net/item/mymail-email-newsletter-plugin-for-wordpress/full_screen_preview/3078294' benign\n",
      "b'http://nypost.com/2015/05/11/deflategate-verdict-tom-brady-banned-4-games-pats-lose-picks/' benign\n",
      "b'http://mylust.com/videos/10068/saggy-boobies-of-my-wife-actually-look-nice-and-sweet-in-the-pushup-bra/' benign\n",
      "b'http://correios.com.br/Para-governo/governo-federal-e-estadual/solucoes-em-marketing/correios-entrega-direta' benign\n",
      "b'http://pikabu.ru/tag/%D1%82%D0%B5%D0%BE%D1%80%D0%B8%D1%8F%20%D0%BE%D1%82%D0%BD%D0%BE%D1%81%D0%B8%D1%82%D0%B5%D0%BB%D1%8C%D0%BD%D0%BE%D1%81%D1%82%D0%B8/hot' benign\n",
      "b'http://momoshop.com.tw/category/LgrpCategory.jsp?l_code=2106900000&Area=tooth&FTOOTH=21&mdiv=1000900000-bt_5_023_05&ctype=B' benign\n",
      "b'http://buzzfil.net/article/5295/vdm/ils-se-trompent-en-plantant-du-cannabis-a-la-place-du-gazon-le-resultat-est-epoustouflant-9.html?href=inner_website' benign\n",
      "b'https://chaturbate.com/tipping/spy_on_private_show_tokens_per_minute/missdeliciou_/' benign\n",
      "b'http://extratorrent.cc/torrent_download/4191161/Big+Tit+Centerfolds+2+-+Diamond+Kitty.mp4.torrent' benign\n",
      "b'http://www.acts17leadership.com/wp-admin/css/gmailen_webmail.htm' phishing\n",
      "b'http://codepen.io/api/oembed?url=http%3A%2F%2Fcodepen.io%2Fnoahblon%2Fpen%2FGKflw&format=json' benign\n",
      "b'http://appleid.apple.co.uk.cgi-bin.webobjects.myappleid.woa.verify0.id-app7.co.uk/identify-customer=za4v5L5NtXKa1OhPLPljofOMMfxygVsFfTrJi9BFLCRJNUve3Hu3oWzzlfz264pPQPv73N0w47ki7vAWMfP2bZt6UfaURJhMc1R2/' phishing\n",
      "b'http://kakaku.com/kaden/lcd-tv/ranking_2041/pricedown/limit=12/div-gpt-ad-k/header_text' benign\n",
      "b'http://confirmation-account-apple.marijuanafigures.com/6be949fa8997ccd3da7d06036f684348/' phishing\n",
      "b'http://9gag.tv/p/aKq8YL/boy-at-baseball-games-uses-smooth-ball-switch-move-to-impress-pretty-lady' benign\n",
      "b'https://medium.com/@maryjeanbabic/my-fathers-leg-9365fec4cf4f?source=most-recommended' benign\n",
      "b'http://torbaytraders.co.uk/web1134_1662_10787_0_833_14345_349049881.htm' phishing\n",
      "b'http://techcrunch.com/2015/05/08/rewinds-new-app-lets-you-create-photo-timelines-that-disappear-after-a-day/' benign\n",
      "b'https://tune.pk/video/6045664/set-fire-to-the-stars-official-us-trailer-2015-elijah-wood-hd' benign\n",
      "b'http://fazenda.gov.br/divulgacao/noticias/2015/maio/levy-destaca-importancia-da-aprovacao-de-ajustes-para-o-equilibrio-fiscal-do-pais' benign\n",
      "b'http://indianexpress.com/article/world/asia/2-dead-after-powerful-typhoon-passes-north-philippines/' benign\n",
      "b'https://500px.com/photo/88691579/bamby-by-wladimir-grigoruk?from=set&set_id=1853447' benign\n",
      "b'http://pikabu.ru/tag/%D0%BA%D0%B8%D0%BD%D0%B4%D0%B5%D1%80%20%D1%81%D1%8E%D1%80%D0%BF%D1%80%D0%B8%D0%B7/hot' benign\n"
     ]
    }
   ],
   "source": [
    "for url, label in zip(test_urls.numpy(), test_labels.numpy()):\n",
    "    print(url, class_names[int(label[0])])"
   ]
  },
  {
   "cell_type": "markdown",
   "id": "a1a95653-29a6-4da2-9f27-1ad6813ee67d",
   "metadata": {},
   "source": [
    "## Vectorize"
   ]
  },
  {
   "cell_type": "markdown",
   "id": "dd3705c4-7071-481b-a9dc-4f4bacf19ee7",
   "metadata": {},
   "source": [
    "Cannot use the vectorization layers since it is not supported in TFJS; we can rather have a custom tokenizer which can be then exported as json then loaded in JS"
   ]
  },
  {
   "cell_type": "code",
   "execution_count": 141,
   "id": "d5d52e41-e446-4113-ae92-9dd0d5b976df",
   "metadata": {},
   "outputs": [],
   "source": [
    "tokenizer = tf_text.UnicodeCharTokenizer()"
   ]
  },
  {
   "cell_type": "code",
   "execution_count": 142,
   "id": "6beec5c4-da43-4753-a0de-070386f58746",
   "metadata": {},
   "outputs": [],
   "source": [
    "tokenized_urls = tokenizer.tokenize(test_urls)"
   ]
  },
  {
   "cell_type": "markdown",
   "id": "601dbeff-790d-4a38-8f5d-2cadcbfe3aad",
   "metadata": {},
   "source": [
    "## Test the model"
   ]
  },
  {
   "cell_type": "code",
   "execution_count": 108,
   "id": "3c21e8ca-085b-4bc8-8720-a945100b0f80",
   "metadata": {},
   "outputs": [],
   "source": [
    "url = \"http://example.com\""
   ]
  },
  {
   "cell_type": "code",
   "execution_count": 109,
   "id": "e06738cf-67e4-4f20-aa68-3b47e5fb7113",
   "metadata": {},
   "outputs": [
    {
     "data": {
      "text/plain": [
       "<tf.Tensor: shape=(18,), dtype=int32, numpy=\n",
       "array([104, 116, 116, 112,  58,  47,  47, 101, 120,  97, 109, 112, 108,\n",
       "       101,  46,  99, 111, 109])>"
      ]
     },
     "execution_count": 109,
     "metadata": {},
     "output_type": "execute_result"
    }
   ],
   "source": [
    "tokenizer.tokenize(url)"
   ]
  },
  {
   "cell_type": "code",
   "execution_count": 110,
   "id": "e8ff10b7-24e3-4908-95ef-e244ac67bf77",
   "metadata": {
    "tags": []
   },
   "outputs": [
    {
     "data": {
      "text/plain": [
       "array([[0.99995744]], dtype=float32)"
      ]
     },
     "execution_count": 110,
     "metadata": {},
     "output_type": "execute_result"
    }
   ],
   "source": [
    "tf.sigmoid(model.predict(tf.expand_dims(tokenizer.tokenize(url), 0))).numpy()"
   ]
  }
 ],
 "metadata": {
  "kernelspec": {
   "display_name": "Python 3 (ipykernel)",
   "language": "python",
   "name": "python3"
  },
  "language_info": {
   "codemirror_mode": {
    "name": "ipython",
    "version": 3
   },
   "file_extension": ".py",
   "mimetype": "text/x-python",
   "name": "python",
   "nbconvert_exporter": "python",
   "pygments_lexer": "ipython3",
   "version": "3.9.1"
  }
 },
 "nbformat": 4,
 "nbformat_minor": 5
}
