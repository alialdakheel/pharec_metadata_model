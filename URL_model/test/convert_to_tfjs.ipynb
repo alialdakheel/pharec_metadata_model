{
 "cells": [
  {
   "cell_type": "markdown",
   "id": "e3196bd3-4d18-4ab7-b4b7-b2763af04ae0",
   "metadata": {},
   "source": [
    "# Convert a TF Keras trained model to TF.js model format"
   ]
  },
  {
   "cell_type": "markdown",
   "id": "e7b69329-1d27-4fe8-b847-84f13f655116",
   "metadata": {
    "tags": []
   },
   "source": [
    "## Imports"
   ]
  },
  {
   "cell_type": "code",
   "execution_count": 1,
   "id": "d1d93418-8581-41bc-badc-f27e61dd3c1c",
   "metadata": {},
   "outputs": [],
   "source": [
    "import pathlib\n",
    "import os\n",
    "import matplotlib.pyplot as plt\n",
    "import tensorflow as tf\n",
    "from tensorflow import keras\n",
    "\n",
    "import tensorflowjs as tfjs"
   ]
  },
  {
   "cell_type": "code",
   "execution_count": 2,
   "id": "8e5d257a-b33c-4bcf-9d49-1eafe31bfa28",
   "metadata": {
    "executionInfo": {
     "elapsed": 14,
     "status": "ok",
     "timestamp": 1627036881642,
     "user": {
      "displayName": "Ali Aldakheel",
      "photoUrl": "",
      "userId": "12596700705790486557"
     },
     "user_tz": -180
    },
    "id": "8M-gp20qghxf"
   },
   "outputs": [],
   "source": [
    "dataset_dir = pathlib.Path(\"../URL_dataset/\")\n",
    "model_dir = pathlib.Path('../URL_models/')\n",
    "checkpoint_dir = pathlib.Path('../URL_checkpoints/')"
   ]
  },
  {
   "cell_type": "markdown",
   "id": "0cfbefe3-a26f-4f90-96eb-54d3f0bba802",
   "metadata": {
    "id": "ZgRCssRQOuSG",
    "tags": []
   },
   "source": [
    "## Load model (lstm1)"
   ]
  },
  {
   "cell_type": "code",
   "execution_count": 3,
   "id": "d1968135-b07a-4683-be29-9f2069af9363",
   "metadata": {
    "id": "GvIygUewOwKU"
   },
   "outputs": [],
   "source": [
    "# change filename to the model you want to load\n",
    "model_filename = \"2021-08-19_20;05;32.036830_lstm1_valacc0.9948_e10_b16.tf\"\n",
    "model = keras.models.load_model(\n",
    "    model_dir / model_filename,\n",
    "    compile=True)"
   ]
  },
  {
   "cell_type": "markdown",
   "id": "e8b8d835-7a84-41a5-a49d-464a8e21d243",
   "metadata": {
    "id": "ZgRCssRQOuSG",
    "tags": []
   },
   "source": [
    "## Load model (lstm2)"
   ]
  },
  {
   "cell_type": "code",
   "execution_count": 4,
   "id": "e6f12c87-78b2-4e4c-9e4f-c0083e8f9fb8",
   "metadata": {
    "id": "GvIygUewOwKU"
   },
   "outputs": [],
   "source": [
    "# change filename to the model you want to load\n",
    "model_filename = \"2021-09-07_22;02;50.725602_lstm2_valacc0.9734_e9\"\n",
    "model2 = keras.models.load_model(\n",
    "    checkpoint_dir / model_filename,\n",
    "    compile=True)"
   ]
  },
  {
   "cell_type": "markdown",
   "id": "68d433f3-cacb-4f4f-8ca2-1275b086dba7",
   "metadata": {},
   "source": [
    "## Convert the model to TF.js format"
   ]
  },
  {
   "cell_type": "code",
   "execution_count": 6,
   "id": "f62fe035-3c7c-41bd-a3e7-c6ee22fab736",
   "metadata": {},
   "outputs": [],
   "source": [
    "tfjs.converters.save_keras_model(model2, model_dir / \"js_nlpmodel\")"
   ]
  },
  {
   "cell_type": "code",
   "execution_count": null,
   "id": "a5cd9b26-ea32-4105-9e3c-ff807458e40e",
   "metadata": {},
   "outputs": [],
   "source": []
  }
 ],
 "metadata": {
  "kernelspec": {
   "display_name": "Python 3 (ipykernel)",
   "language": "python",
   "name": "python3"
  },
  "language_info": {
   "codemirror_mode": {
    "name": "ipython",
    "version": 3
   },
   "file_extension": ".py",
   "mimetype": "text/x-python",
   "name": "python",
   "nbconvert_exporter": "python",
   "pygments_lexer": "ipython3",
   "version": "3.9.1"
  }
 },
 "nbformat": 4,
 "nbformat_minor": 5
}
