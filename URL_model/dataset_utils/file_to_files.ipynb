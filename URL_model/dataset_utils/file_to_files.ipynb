{
 "cells": [
  {
   "cell_type": "markdown",
   "id": "9c52fde0-ea3a-4105-bb5e-9751126c5bc4",
   "metadata": {},
   "source": [
    "# Process single file URL list to produce multi-file dataset where each file is a single example (URL)"
   ]
  },
  {
   "cell_type": "code",
   "execution_count": 21,
   "id": "aa439f75-78cc-4a14-800f-f03cbd55d42f",
   "metadata": {},
   "outputs": [],
   "source": [
    "import pathlib\n",
    "import os\n",
    "import pandas as pd\n",
    "from tqdm import tqdm"
   ]
  },
  {
   "cell_type": "code",
   "execution_count": 22,
   "id": "615d544d-99af-4670-9e50-609bfff4358a",
   "metadata": {
    "executionInfo": {
     "elapsed": 14,
     "status": "ok",
     "timestamp": 1627036881642,
     "user": {
      "displayName": "Ali Aldakheel",
      "photoUrl": "",
      "userId": "12596700705790486557"
     },
     "user_tz": -180
    },
    "id": "8M-gp20qghxf"
   },
   "outputs": [],
   "source": [
    "dataset_dir = pathlib.Path(\"../URL_dataset/\")"
   ]
  },
  {
   "cell_type": "code",
   "execution_count": 23,
   "id": "b7d99600-569a-458f-ae8e-1558a528b0f6",
   "metadata": {
    "colab": {
     "base_uri": "https://localhost:8080/"
    },
    "executionInfo": {
     "elapsed": 14,
     "status": "ok",
     "timestamp": 1627036881645,
     "user": {
      "displayName": "Ali Aldakheel",
      "photoUrl": "",
      "userId": "12596700705790486557"
     },
     "user_tz": -180
    },
    "id": "G329MQIkhF2Z",
    "outputId": "1acbdf69-23f8-483a-a3f4-d2a339b077f3"
   },
   "outputs": [],
   "source": [
    "class_dirs = os.listdir(dataset_dir)"
   ]
  },
  {
   "cell_type": "code",
   "execution_count": 27,
   "id": "e41a3c24-10f5-4be9-9246-853d59bff055",
   "metadata": {},
   "outputs": [
    {
     "name": "stderr",
     "output_type": "stream",
     "text": [
      "\n",
      "0it [00:00, ?it/s]\u001b[A\n",
      "393it [00:00, 3892.33it/s]\u001b[A\n",
      "833it [00:00, 4177.67it/s]\u001b[A\n",
      "1258it [00:00, 4192.15it/s]\u001b[A\n",
      "1693it [00:00, 4238.06it/s]\u001b[A\n",
      "2136it [00:00, 4292.00it/s]\u001b[A\n",
      "2577it [00:00, 4317.76it/s]\u001b[A\n",
      "3011it [00:00, 4311.40it/s]\u001b[A\n",
      "3459it [00:00, 4351.45it/s]\u001b[A\n",
      "3895it [00:00, 4341.04it/s]\u001b[A\n",
      "4330it [00:01, 4265.66it/s]\u001b[A\n",
      "4757it [00:01, 4254.64it/s]\u001b[A\n",
      "5196it [00:01, 4282.83it/s]\u001b[A\n",
      "5632it [00:01, 4293.49it/s]\u001b[A\n",
      "6067it [00:01, 4297.95it/s]\u001b[A\n",
      "6512it [00:01, 4330.85it/s]\u001b[A\n",
      "6946it [00:01, 4263.52it/s]\u001b[A\n",
      "7373it [00:01, 3765.09it/s]\u001b[A\n",
      "7813it [00:01, 3927.14it/s]\u001b[A\n",
      "8262it [00:01, 4073.11it/s]\u001b[A\n",
      "8724it [00:02, 4217.05it/s]\u001b[A\n",
      "9168it [00:02, 4269.41it/s]\u001b[A\n",
      "9613it [00:02, 4309.84it/s]\u001b[A\n",
      "10051it [00:02, 4318.18it/s]\u001b[A\n",
      "10485it [00:02, 4262.24it/s]\u001b[A\n",
      "10913it [00:02, 4206.20it/s]\u001b[A\n",
      "11335it [00:02, 4174.05it/s]\u001b[A\n",
      "11754it [00:02, 4095.01it/s]\u001b[A\n",
      "12165it [00:02, 4076.26it/s]\u001b[A\n",
      "12582it [00:02, 4092.09it/s]\u001b[A\n",
      "12992it [00:03, 4047.22it/s]\u001b[A\n",
      "13398it [00:03, 4039.51it/s]\u001b[A\n",
      "13803it [00:03, 4007.39it/s]\u001b[A\n",
      "14217it [00:03, 4035.08it/s]\u001b[A\n",
      "14644it [00:03, 4092.81it/s]\u001b[A\n",
      "15054it [00:03, 4047.17it/s]\u001b[A\n",
      "15459it [00:03, 4001.32it/s]\u001b[A\n",
      "15881it [00:03, 4054.17it/s]\u001b[A\n",
      "16287it [00:03, 4046.91it/s]\u001b[A\n",
      "16694it [00:04, 4042.18it/s]\u001b[A\n",
      "17106it [00:04, 4053.45it/s]\u001b[A\n",
      "17519it [00:04, 4064.69it/s]\u001b[A\n",
      "17926it [00:04, 4042.59it/s]\u001b[A\n",
      "18331it [00:04, 3991.65it/s]\u001b[A\n",
      "18739it [00:04, 4006.10it/s]\u001b[A\n",
      "19151it [00:04, 4028.46it/s]\u001b[A\n",
      "19567it [00:04, 4055.82it/s]\u001b[A\n",
      "19979it [00:04, 4062.98it/s]\u001b[A\n",
      "20391it [00:04, 4068.46it/s]\u001b[A\n",
      "20798it [00:05, 4057.23it/s]\u001b[A\n",
      "21204it [00:05, 3987.05it/s]\u001b[A\n",
      "21603it [00:05, 3432.29it/s]\u001b[A\n",
      "22008it [00:05, 3587.34it/s]\u001b[A\n",
      "22405it [00:05, 3682.69it/s]\u001b[A\n",
      "22820it [00:05, 3803.84it/s]\u001b[A\n",
      "23213it [00:05, 3829.33it/s]\u001b[A\n",
      "23602it [00:05, 3836.15it/s]\u001b[A\n",
      "23997it [00:05, 3858.34it/s]\u001b[A\n",
      "24409it [00:06, 3924.22it/s]\u001b[A\n",
      "24815it [00:06, 3952.98it/s]\u001b[A\n",
      "25216it [00:06, 3958.54it/s]\u001b[A\n",
      "25628it [00:06, 3994.96it/s]\u001b[A\n",
      "26034it [00:06, 4002.76it/s]\u001b[A\n",
      "26435it [00:06, 3889.69it/s]\u001b[A\n",
      "26854it [00:06, 3966.18it/s]\u001b[A\n",
      "27254it [00:06, 3964.84it/s]\u001b[A\n",
      "27652it [00:06, 3946.41it/s]\u001b[A\n",
      "28063it [00:06, 3983.32it/s]\u001b[A\n",
      "28462it [00:07, 3916.13it/s]\u001b[A\n",
      "28864it [00:07, 3935.43it/s]\u001b[A\n",
      "29258it [00:07, 3559.30it/s]\u001b[A\n",
      "29644it [00:07, 3632.54it/s]\u001b[A\n",
      "30063it [00:07, 3779.51it/s]\u001b[A\n",
      "30489it [00:07, 3910.49it/s]\u001b[A\n",
      "30897it [00:07, 3948.59it/s]\u001b[A\n",
      "31305it [00:07, 3975.79it/s]\u001b[A\n",
      "31705it [00:07, 3891.73it/s]\u001b[A\n",
      "32096it [00:07, 3886.11it/s]\u001b[A\n",
      "32486it [00:08, 3878.97it/s]\u001b[A\n",
      "32881it [00:08, 3888.98it/s]\u001b[A\n",
      "33291it [00:08, 3940.12it/s]\u001b[A\n",
      "33705it [00:08, 3987.90it/s]\u001b[A\n",
      "34123it [00:08, 4033.21it/s]\u001b[A\n",
      "34527it [00:08, 3919.30it/s]\u001b[A\n",
      "34942it [00:08, 3975.41it/s]\u001b[A\n",
      "35378it [00:08, 4017.84it/s]\u001b[A\n",
      "\n",
      "0it [00:00, ?it/s]\u001b[A\n",
      "373it [00:00, 3693.00it/s]\u001b[A\n",
      "803it [00:00, 4026.60it/s]\u001b[A\n",
      "1244it [00:00, 4182.38it/s]\u001b[A\n",
      "1663it [00:00, 3798.33it/s]\u001b[A\n",
      "2048it [00:00, 3679.71it/s]\u001b[A\n",
      "2419it [00:00, 3587.28it/s]\u001b[A\n",
      "2780it [00:00, 3508.75it/s]\u001b[A\n",
      "3133it [00:00, 3413.40it/s]\u001b[A\n",
      "3482it [00:00, 3426.14it/s]\u001b[A\n",
      "3826it [00:01, 2900.81it/s]\u001b[A\n",
      "4145it [00:01, 2969.17it/s]\u001b[A\n",
      "4501it [00:01, 3121.78it/s]\u001b[A\n",
      "4831it [00:01, 3163.04it/s]\u001b[A\n",
      "5170it [00:01, 3218.79it/s]\u001b[A\n",
      "5509it [00:01, 3259.11it/s]\u001b[A\n",
      "5839it [00:01, 3215.13it/s]\u001b[A\n",
      "6174it [00:01, 3245.17it/s]\u001b[A\n",
      "6501it [00:01, 3233.83it/s]\u001b[A\n",
      "6844it [00:02, 3282.09it/s]\u001b[A\n",
      "7194it [00:02, 3336.81it/s]\u001b[A\n",
      "7536it [00:02, 3351.84it/s]\u001b[A\n",
      "7872it [00:02, 3334.81it/s]\u001b[A\n",
      "8211it [00:02, 3341.58it/s]\u001b[A\n",
      "8546it [00:02, 3324.66it/s]\u001b[A\n",
      "8880it [00:02, 3319.69it/s]\u001b[A\n",
      "9232it [00:02, 3369.49it/s]\u001b[A\n",
      "9580it [00:02, 3392.58it/s]\u001b[A\n",
      "9965it [00:02, 3355.16it/s]\u001b[A\n"
     ]
    }
   ],
   "source": [
    "for class_name in class_dirs:\n",
    "    class_df =  pd.read_csv(dataset_dir/f'{class_name}/{class_name}_URLs.txt', delimiter='\\n', names=['URLs'])\n",
    "    for i, example in tqdm(enumerate(class_df.values)):\n",
    "        with open(dataset_dir/f'{class_name}/URL_{i}.txt', 'w', encoding='utf-8') as fp:\n",
    "            fp.write(str(example[0]))\n",
    "    "
   ]
  }
 ],
 "metadata": {
  "kernelspec": {
   "display_name": "Python 3 (ipykernel)",
   "language": "python",
   "name": "python3"
  },
  "language_info": {
   "codemirror_mode": {
    "name": "ipython",
    "version": 3
   },
   "file_extension": ".py",
   "mimetype": "text/x-python",
   "name": "python",
   "nbconvert_exporter": "python",
   "pygments_lexer": "ipython3",
   "version": "3.9.1"
  }
 },
 "nbformat": 4,
 "nbformat_minor": 5
}
