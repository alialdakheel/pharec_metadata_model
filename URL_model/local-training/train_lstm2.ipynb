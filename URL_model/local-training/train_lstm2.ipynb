{
 "cells": [
  {
   "cell_type": "markdown",
   "metadata": {
    "id": "soMhYc4P77fV",
    "tags": []
   },
   "source": [
    "# Train lstm2 model for phishing URL detection"
   ]
  },
  {
   "cell_type": "markdown",
   "metadata": {
    "id": "u2YTssE57qRc",
    "tags": []
   },
   "source": [
    "## Imports"
   ]
  },
  {
   "cell_type": "code",
   "execution_count": 2,
   "metadata": {
    "executionInfo": {
     "elapsed": 8574,
     "status": "ok",
     "timestamp": 1627036881636,
     "user": {
      "displayName": "Ali Aldakheel",
      "photoUrl": "",
      "userId": "12596700705790486557"
     },
     "user_tz": -180
    },
    "id": "4exj7qwIelgQ"
   },
   "outputs": [],
   "source": [
    "import numpy as np\n",
    "import os\n",
    "import pathlib\n",
    "\n",
    "import tensorflow as tf\n",
    "from tensorflow import keras\n",
    "from tensorflow.keras import layers, regularizers\n",
    "from tensorflow.keras.models import Sequential\n",
    "\n",
    "import tensorflow_text as tf_text"
   ]
  },
  {
   "cell_type": "code",
   "execution_count": 3,
   "metadata": {
    "executionInfo": {
     "elapsed": 14,
     "status": "ok",
     "timestamp": 1627036881642,
     "user": {
      "displayName": "Ali Aldakheel",
      "photoUrl": "",
      "userId": "12596700705790486557"
     },
     "user_tz": -180
    },
    "id": "8M-gp20qghxf"
   },
   "outputs": [],
   "source": [
    "dataset_dir = pathlib.Path(\"../URL_dataset/\")\n",
    "model_dir = pathlib.Path('../URL_models/')\n",
    "checkpoint_dir = pathlib.Path('../URL_checkpoints/')"
   ]
  },
  {
   "cell_type": "code",
   "execution_count": 4,
   "metadata": {
    "colab": {
     "base_uri": "https://localhost:8080/"
    },
    "executionInfo": {
     "elapsed": 391,
     "status": "ok",
     "timestamp": 1627036886209,
     "user": {
      "displayName": "Ali Aldakheel",
      "photoUrl": "",
      "userId": "12596700705790486557"
     },
     "user_tz": -180
    },
    "id": "0fRvRc6lPzCJ",
    "outputId": "4e2ad655-fa0c-4595-9112-8983ff5783d1"
   },
   "outputs": [
    {
     "name": "stdout",
     "output_type": "stream",
     "text": [
      "2021-09-07_22;02;50.725602\n"
     ]
    }
   ],
   "source": [
    "import datetime\n",
    "date = datetime.datetime.now()\n",
    "date = '_'.join(str(date).split()).replace(':', ';')\n",
    "print(date)"
   ]
  },
  {
   "cell_type": "code",
   "execution_count": 5,
   "metadata": {
    "colab": {
     "base_uri": "https://localhost:8080/"
    },
    "executionInfo": {
     "elapsed": 14,
     "status": "ok",
     "timestamp": 1627036881645,
     "user": {
      "displayName": "Ali Aldakheel",
      "photoUrl": "",
      "userId": "12596700705790486557"
     },
     "user_tz": -180
    },
    "id": "G329MQIkhF2Z",
    "outputId": "1acbdf69-23f8-483a-a3f4-d2a339b077f3",
    "tags": []
   },
   "outputs": [
    {
     "data": {
      "text/plain": [
       "['benign', 'phishing']"
      ]
     },
     "execution_count": 5,
     "metadata": {},
     "output_type": "execute_result"
    }
   ],
   "source": [
    "os.listdir(dataset_dir)"
   ]
  },
  {
   "cell_type": "markdown",
   "metadata": {
    "id": "VQa6ueGT7kYf",
    "tags": []
   },
   "source": [
    "## Params"
   ]
  },
  {
   "cell_type": "code",
   "execution_count": 6,
   "metadata": {
    "executionInfo": {
     "elapsed": 569,
     "status": "ok",
     "timestamp": 1627036888443,
     "user": {
      "displayName": "Ali Aldakheel",
      "photoUrl": "",
      "userId": "12596700705790486557"
     },
     "user_tz": -180
    },
    "id": "ek7tR5IDhNz_"
   },
   "outputs": [],
   "source": [
    "model_name = \"lstm2\"\n",
    "batch_size = 32\n",
    "rest_split_ratio = 0.2\n",
    "test_split_ratio = 0.2\n",
    "\n",
    "unicode_max = 1114111"
   ]
  },
  {
   "cell_type": "markdown",
   "metadata": {
    "tags": []
   },
   "source": [
    "## Load dataset"
   ]
  },
  {
   "cell_type": "code",
   "execution_count": 7,
   "metadata": {
    "colab": {
     "base_uri": "https://localhost:8080/"
    },
    "executionInfo": {
     "elapsed": 6922,
     "status": "ok",
     "timestamp": 1627036896890,
     "user": {
      "displayName": "Ali Aldakheel",
      "photoUrl": "",
      "userId": "12596700705790486557"
     },
     "user_tz": -180
    },
    "id": "PRnzdwr0iEJH",
    "outputId": "716cdd80-319b-4a9a-e19b-bf1aea153282"
   },
   "outputs": [
    {
     "name": "stdout",
     "output_type": "stream",
     "text": [
      "Found 45343 files belonging to 2 classes.\n",
      "Using 36275 files for training.\n"
     ]
    }
   ],
   "source": [
    "train_ds = keras.preprocessing.text_dataset_from_directory(\n",
    "  dataset_dir,\n",
    "  validation_split=rest_split_ratio,\n",
    "  subset=\"training\",\n",
    "  label_mode = 'binary',\n",
    "  seed=132,\n",
    "  batch_size=batch_size)"
   ]
  },
  {
   "cell_type": "code",
   "execution_count": 8,
   "metadata": {
    "colab": {
     "base_uri": "https://localhost:8080/"
    },
    "executionInfo": {
     "elapsed": 625,
     "status": "ok",
     "timestamp": 1627036899112,
     "user": {
      "displayName": "Ali Aldakheel",
      "photoUrl": "",
      "userId": "12596700705790486557"
     },
     "user_tz": -180
    },
    "id": "WK0GzS01jr6f",
    "outputId": "cd973b86-a058-4780-9d4c-0d73e8bda940"
   },
   "outputs": [
    {
     "name": "stdout",
     "output_type": "stream",
     "text": [
      "Found 45343 files belonging to 2 classes.\n",
      "Using 9068 files for validation.\n"
     ]
    }
   ],
   "source": [
    "rest_ds = keras.preprocessing.text_dataset_from_directory(\n",
    "  dataset_dir,\n",
    "  validation_split=rest_split_ratio,\n",
    "  subset=\"validation\",\n",
    "  label_mode='binary',\n",
    "  seed=132,\n",
    "  batch_size=batch_size)"
   ]
  },
  {
   "cell_type": "code",
   "execution_count": 9,
   "metadata": {},
   "outputs": [
    {
     "name": "stdout",
     "output_type": "stream",
     "text": [
      "284\n"
     ]
    }
   ],
   "source": [
    "rest_batches = rest_ds.cardinality().numpy()\n",
    "print(rest_batches)"
   ]
  },
  {
   "cell_type": "code",
   "execution_count": 10,
   "metadata": {
    "executionInfo": {
     "elapsed": 4,
     "status": "ok",
     "timestamp": 1627036900606,
     "user": {
      "displayName": "Ali Aldakheel",
      "photoUrl": "",
      "userId": "12596700705790486557"
     },
     "user_tz": -180
    },
    "id": "sqPRjan5JGnW"
   },
   "outputs": [],
   "source": [
    "val_ds = rest_ds.skip(int(rest_batches * test_split_ratio // batch_size))\n",
    "test_ds = rest_ds.take(int(rest_batches * test_split_ratio // batch_size))"
   ]
  },
  {
   "cell_type": "code",
   "execution_count": 11,
   "metadata": {
    "executionInfo": {
     "elapsed": 430,
     "status": "ok",
     "timestamp": 1627036908402,
     "user": {
      "displayName": "Ali Aldakheel",
      "photoUrl": "",
      "userId": "12596700705790486557"
     },
     "user_tz": -180
    },
    "id": "k2b1o4O3ZdUd"
   },
   "outputs": [],
   "source": [
    "class_names = train_ds.class_names"
   ]
  },
  {
   "cell_type": "code",
   "execution_count": 12,
   "metadata": {
    "colab": {
     "base_uri": "https://localhost:8080/"
    },
    "executionInfo": {
     "elapsed": 4,
     "status": "ok",
     "timestamp": 1627036909617,
     "user": {
      "displayName": "Ali Aldakheel",
      "photoUrl": "",
      "userId": "12596700705790486557"
     },
     "user_tz": -180
    },
    "id": "j2cn01Nrk91s",
    "outputId": "0f358a96-666d-43d4-bee0-76eb122e6b6a"
   },
   "outputs": [
    {
     "data": {
      "text/plain": [
       "['benign', 'phishing']"
      ]
     },
     "execution_count": 12,
     "metadata": {},
     "output_type": "execute_result"
    }
   ],
   "source": [
    "class_names"
   ]
  },
  {
   "cell_type": "markdown",
   "metadata": {
    "tags": []
   },
   "source": [
    "## Explore dataset"
   ]
  },
  {
   "cell_type": "code",
   "execution_count": 13,
   "metadata": {},
   "outputs": [],
   "source": [
    "b = train_ds.take(1)"
   ]
  },
  {
   "cell_type": "code",
   "execution_count": 14,
   "metadata": {},
   "outputs": [
    {
     "data": {
      "text/plain": [
       "<TakeDataset shapes: ((None,), (None, 1)), types: (tf.string, tf.float32)>"
      ]
     },
     "execution_count": 14,
     "metadata": {},
     "output_type": "execute_result"
    }
   ],
   "source": [
    "b"
   ]
  },
  {
   "cell_type": "code",
   "execution_count": 26,
   "metadata": {},
   "outputs": [
    {
     "name": "stdout",
     "output_type": "stream",
     "text": [
      "b'http://motthegioi.vn/cau-vong-luc-sac/chia-se-tam-su/nhung-cau-chuyen-cong-khai-truyen-lua-cho-ca-the-he-187080.html' benign\n",
      "b'http://distractify.com/post/related/id/554cea434a0c4b1c2e4f885a/skip/40/limit/10/back/0' benign\n",
      "b'http://www.zbjlqm.com/diy/?us.battle.net/login/en/?ref=http://us.battle.net/d3/en/index&amp;app=com-d3' phishing\n",
      "b'http://pastehtml.com/view/bal84jjwu.html' phishing\n",
      "b'http://indianexpress.com/article/india/india-others/if-they-israel-are-your-friend-do-not-let-them-choose-your-enemies-gholamreza-ansari/' benign\n",
      "b'http://plarium.com/es/juegos-de-estrategia/stormfall-age-of-war/noticias/confusion-y-discordia/' benign\n",
      "b'http://www.midea-0512.com/js/?http://us.battle.net/login/en/?ref=http://vcacoqlus.battle.net/d3/en/index&amp;app=com-d3' phishing\n",
      "b'https://tsite.jp/login/index.pl?xpg=PCUI0401&ret=https%3a%2f%2ftsite%2ejp%2fentry%2findex%2epl%3fxpg%3dPCEC0102%26pid%3d00026' benign\n",
      "b'http://plarium.com/en/strategy-games/sparta-war-of-empires/news/besiege-other-player-s-cities/' benign\n",
      "b'http://fanpage.gr/stories/%cf%8c%cf%84%ce%b1%ce%bd-%ce%bc%ce%b5%ce%b3%ce%b1%ce%bb%cf%8e%cf%83%cf%89-%ce%b8%ce%ad%ce%bb%cf%89-%ce%bd%ce%b1-%ce%b3%ce%af%ce%bd%cf%89-%ce%b5%cf%85%cf%84%cf%85%cf%87%ce%b9%cf%83%ce%bc%ce%ad/' benign\n",
      "b'http://pastehtml.com/view/bg3evzlov.html' phishing\n",
      "b'http://depositphotos.com/login.html?url=%2F21313465%2Fstock-photo-tourists-on-camel.html' benign\n",
      "b'http://censor.net.ua/jokes/all/page/1/hero/0/category/133/interval/5/author/0/sortby/date' benign\n",
      "b'http://genius.com/4189836/Sam-altman-lecture-1-how-to-start-a-startup/Weve-taught-a-lot-of-this-class-at-yc-and-its-all-been-off-the-record' benign\n",
      "b'http://extratorrent.cc/torrent/4190536/AOMEI+Backupper+Technician+%2B+Server+Edition+2.8.0+%2B+Patch+%2B+Key+%2B+100%25+Working.html' benign\n",
      "b'http://kakaku.com/daily-goods/disinfectant/ranking_7646/pricedown/div-gpt-ad-k/header_text' benign\n",
      "b'http://web.de/magazine/unterhaltung/lifestyle/schiefe-gleise-inder-glauben-goettlichen-einfluss-30531118' benign\n",
      "b'http://distractify.com/mark-pygas/shelter-dogs-are-covered-in-paint-to-make-modern-art/' benign\n",
      "b'http://correios.com.br/para-voce/consultas-e-solicitacoes/precos-e-prazos/servicos-internacionais-1/fax-post-internacional' benign\n",
      "b'http://nesn.com/2014/07/report-rick-nash-new-york-rangers-not-interested-in-a-trade/' benign\n",
      "b'http://otomoto.pl/oferta/volkswagen-t4-zadbany-niezawodny-t4-skrzynia-z-hds-wysokie-burty-1-9d-super-stan-ID6y540n.html' benign\n",
      "b'http://kakaku.com/pc/portable-av-player/ranking_0133/pricedown/div-gpt-ad-k/header_text' benign\n",
      "b'http://bdnews24.com/world/2015/05/13/north-korea-to-launch-live-fire-drills-near-disputed-sea-border-with-south' benign\n",
      "b'https://twitter.com/share?text=%D0%A4%D0%BE%D1%82%D0%BE%D0%BF%D0%BE%D0%B4%D0%B1%D0%BE%D1%80%D0%BA%D0%B0+%D0%B7%D0%B0+29.04.2015&url=http%3A%2F%2Ffishki.net%2Fphoto%2F1517170-fotopodborka-za-29042015.html%2Fgallery-1952327%2F' benign\n",
      "b'http://tinnhanh360.net/vo-duy-nhan-nguoi-di-den-noi-tot-thi-khong-nen-qua-dau-buon.html' benign\n",
      "b'http://himado.in/?keyword=%E3%81%A9%E3%81%86%E3%81%97%E3%81%A6%E3%81%93%E3%81%86%E3%81%AA%E3%81%A3%E3%81%9F' benign\n",
      "b'http://deadspin.com/5987555/you-dont-have-to-act-like-a-baby-mike-milbury-goes-off-on-alex-ovechkin' benign\n",
      "b'http://motthegioi.vn/toc-do/ket-thuc-cup-truyen-hinh-tphcm-2015-nguyen-truong-tai-doat-ao-vang-183006.html' benign\n",
      "b'https://medium.com/@nycmedialab/the-machines-who-came-to-dinner-7f483516d2d5?source=has-recommended' benign\n",
      "b'http://uproxx.com/filmdrunk/2015/05/cate-blanchett-says-she-used-to-do-lesbo-stuff-or-something/' benign\n",
      "b'http://www.com-turning.com/-------t/390ce91579516d85ee1271a0bb9ea0d6/login.php' phishing\n",
      "b'http://nypost.com/2015/03/01/how-britian-covered-up-the-friendship-between-hitler-edward-viii/' benign\n"
     ]
    }
   ],
   "source": [
    "for batch in b:\n",
    "    for url, label in zip(batch[0].numpy(), batch[1].numpy()):\n",
    "        print(url, class_names[int(label[0])])"
   ]
  },
  {
   "cell_type": "markdown",
   "metadata": {},
   "source": [
    "## Vectorize"
   ]
  },
  {
   "cell_type": "markdown",
   "metadata": {},
   "source": [
    "Cannot use the vectorization layers since it is not supported in TFJS; we can rather have a custom tokenizer which can be then exported as json then loaded in JS"
   ]
  },
  {
   "cell_type": "code",
   "execution_count": 27,
   "metadata": {},
   "outputs": [],
   "source": [
    "tokenizer = tf_text.UnicodeCharTokenizer()"
   ]
  },
  {
   "cell_type": "code",
   "execution_count": 28,
   "metadata": {},
   "outputs": [],
   "source": [
    "train_ds = train_ds.map(lambda x, y: (tokenizer.tokenize(x), y))\n",
    "val_ds = val_ds.map(lambda x, y: (tokenizer.tokenize(x), y))\n",
    "test_ds = test_ds.map(lambda x, y: (tokenizer.tokenize(x), y))"
   ]
  },
  {
   "cell_type": "markdown",
   "metadata": {
    "id": "37l0TNzZ9mBy",
    "tags": []
   },
   "source": [
    "## Tune dataset"
   ]
  },
  {
   "cell_type": "code",
   "execution_count": 29,
   "metadata": {
    "executionInfo": {
     "elapsed": 7,
     "status": "ok",
     "timestamp": 1627036510297,
     "user": {
      "displayName": "Ali Aldakheel",
      "photoUrl": "",
      "userId": "12596700705790486557"
     },
     "user_tz": -180
    },
    "id": "Na8jxltSouWy"
   },
   "outputs": [],
   "source": [
    "AUTOTUNE = tf.data.AUTOTUNE\n",
    "\n",
    "train_ds = train_ds.cache().shuffle(256).prefetch(buffer_size=AUTOTUNE)\n",
    "val_ds = val_ds.cache().prefetch(buffer_size=AUTOTUNE)\n",
    "test_ds = test_ds.cache().prefetch(buffer_size=AUTOTUNE)"
   ]
  },
  {
   "cell_type": "markdown",
   "metadata": {
    "id": "tO4SDIgT5Pi8",
    "tags": []
   },
   "source": [
    "## Model"
   ]
  },
  {
   "cell_type": "code",
   "execution_count": 42,
   "metadata": {
    "executionInfo": {
     "elapsed": 400,
     "status": "ok",
     "timestamp": 1627036918433,
     "user": {
      "displayName": "Ali Aldakheel",
      "photoUrl": "",
      "userId": "12596700705790486557"
     },
     "user_tz": -180
    },
    "id": "Yq9OQ8fq5TCI"
   },
   "outputs": [],
   "source": [
    "num_classes = 2\n",
    "embedding_dim = 16\n",
    "lstm1_units = 256\n",
    "lstm2_units = 512\n",
    "dropout_prob1 = 0.2\n",
    "dropout_prob2 = 0.3\n",
    "reg_rate1 = 0.005\n",
    "reg_rate2 = 0.001\n",
    "\n",
    "model = Sequential([\n",
    "    layers.Embedding(unicode_max, embedding_dim),\n",
    "    layers.LSTM(\n",
    "        lstm1_units,\n",
    "        kernel_regularizer=regularizers.l2(reg_rate1),\n",
    "        recurrent_regularizer=regularizers.l2(reg_rate1),\n",
    "        bias_regularizer=regularizers.l2(reg_rate1),\n",
    "#         activity_regularizer=regularizers.l2(reg_rate1,\n",
    "        dropout=dropout_prob1,\n",
    "        return_sequences=True\n",
    "    ),\n",
    "    layers.LSTM(\n",
    "        lstm2_units,\n",
    "        kernel_regularizer=regularizers.l2(reg_rate1),\n",
    "        recurrent_regularizer=regularizers.l2(reg_rate1),\n",
    "        bias_regularizer=regularizers.l2(reg_rate1),\n",
    "#         activity_regularizer=regularizers.l2(reg_rate1,\n",
    "        dropout=dropout_prob2,\n",
    "    ),\n",
    "#     layers.Dense(256, activation='relu',\n",
    "# #               activity_regularizer=regularizers.l2(reg_rate2)\n",
    "#               ),\n",
    "    layers.Dense(num_classes-1)\n",
    "])"
   ]
  },
  {
   "cell_type": "code",
   "execution_count": 43,
   "metadata": {
    "colab": {
     "base_uri": "https://localhost:8080/"
    },
    "executionInfo": {
     "elapsed": 586,
     "status": "ok",
     "timestamp": 1627036922837,
     "user": {
      "displayName": "Ali Aldakheel",
      "photoUrl": "",
      "userId": "12596700705790486557"
     },
     "user_tz": -180
    },
    "id": "vDfpnf7_51_o",
    "outputId": "8e3b38fc-119b-4e4a-be49-bc5cc4c86ffb"
   },
   "outputs": [
    {
     "name": "stdout",
     "output_type": "stream",
     "text": [
      "Model: \"sequential_3\"\n",
      "_________________________________________________________________\n",
      "Layer (type)                 Output Shape              Param #   \n",
      "=================================================================\n",
      "embedding_4 (Embedding)      (None, None, 16)          17825776  \n",
      "_________________________________________________________________\n",
      "lstm_6 (LSTM)                (None, None, 256)         279552    \n",
      "_________________________________________________________________\n",
      "lstm_7 (LSTM)                (None, 512)               1574912   \n",
      "_________________________________________________________________\n",
      "dense_3 (Dense)              (None, 1)                 513       \n",
      "=================================================================\n",
      "Total params: 19,680,753\n",
      "Trainable params: 19,680,753\n",
      "Non-trainable params: 0\n",
      "_________________________________________________________________\n"
     ]
    }
   ],
   "source": [
    "model.summary()\n"
   ]
  },
  {
   "cell_type": "code",
   "execution_count": 44,
   "metadata": {
    "executionInfo": {
     "elapsed": 6,
     "status": "ok",
     "timestamp": 1627036920041,
     "user": {
      "displayName": "Ali Aldakheel",
      "photoUrl": "",
      "userId": "12596700705790486557"
     },
     "user_tz": -180
    },
    "id": "ktjtV8zz50p9"
   },
   "outputs": [],
   "source": [
    "model.compile(optimizer='adam',\n",
    "              loss=tf.keras.losses.BinaryCrossentropy(from_logits=True),\n",
    "              metrics=['accuracy'])\n"
   ]
  },
  {
   "cell_type": "markdown",
   "metadata": {
    "id": "xAjHjYWO54zT",
    "tags": []
   },
   "source": [
    "## Training"
   ]
  },
  {
   "cell_type": "code",
   "execution_count": 45,
   "metadata": {
    "executionInfo": {
     "elapsed": 385,
     "status": "ok",
     "timestamp": 1627036926120,
     "user": {
      "displayName": "Ali Aldakheel",
      "photoUrl": "",
      "userId": "12596700705790486557"
     },
     "user_tz": -180
    },
    "id": "04d9GdexS99X"
   },
   "outputs": [],
   "source": [
    "callbacks = [\n",
    "    keras.callbacks.ModelCheckpoint(\n",
    "        # Path where to save the model\n",
    "        # The two parameters below mean that we will overwrite\n",
    "        # the current checkpoint if and only if\n",
    "        # the `val_loss` score has improved.\n",
    "        # The saved model name will include the current epoch.\n",
    "        filepath=checkpoint_dir / f\"{date}_{model_name}_valacc{{val_accuracy:.4f}}_e{{epoch}}\",\n",
    "        save_best_only=True,  # Only save a model if `val_loss` has improved.\n",
    "        monitor=\"val_loss\",\n",
    "        verbose=1,\n",
    "    ),\n",
    "    keras.callbacks.EarlyStopping(\n",
    "        # Stop training when `val_loss` is no longer improving\n",
    "        monitor=\"val_loss\",\n",
    "        # \"no longer improving\" being defined as \"no better than 1e-2 less\"\n",
    "        min_delta=1e-4,\n",
    "        # \"no longer improving\" being further defined as \"for at least 2 epochs\"\n",
    "        patience=4,\n",
    "        verbose=1,\n",
    "    )\n",
    "]\n"
   ]
  },
  {
   "cell_type": "code",
   "execution_count": 46,
   "metadata": {
    "colab": {
     "base_uri": "https://localhost:8080/"
    },
    "executionInfo": {
     "elapsed": 1778318,
     "status": "ok",
     "timestamp": 1627038706504,
     "user": {
      "displayName": "Ali Aldakheel",
      "photoUrl": "",
      "userId": "12596700705790486557"
     },
     "user_tz": -180
    },
    "id": "uF0k1wfH56Q8",
    "outputId": "3c3ff062-a1cd-4da8-f9ae-de0819fc1c50"
   },
   "outputs": [
    {
     "name": "stdout",
     "output_type": "stream",
     "text": [
      "Epoch 1/15\n"
     ]
    },
    {
     "name": "stderr",
     "output_type": "stream",
     "text": [
      "C:\\Users\\fracta\\AppData\\Roaming\\Python\\Python39\\site-packages\\tensorflow\\python\\framework\\indexed_slices.py:447: UserWarning: Converting sparse IndexedSlices(IndexedSlices(indices=Tensor(\"gradient_tape/sequential_3/lstm_6/RaggedToTensor/boolean_mask_1/GatherV2:0\", shape=(None,), dtype=int32), values=Tensor(\"gradient_tape/sequential_3/lstm_6/RaggedToTensor/boolean_mask/GatherV2:0\", shape=(None, 16), dtype=float32), dense_shape=Tensor(\"gradient_tape/sequential_3/lstm_6/RaggedToTensor/Shape:0\", shape=(2,), dtype=int32))) to a dense Tensor of unknown shape. This may consume a large amount of memory.\n",
      "  warnings.warn(\n"
     ]
    },
    {
     "name": "stdout",
     "output_type": "stream",
     "text": [
      "1134/1134 [==============================] - 3549s 3s/step - loss: 1.6962 - accuracy: 0.9386 - val_loss: 0.3839 - val_accuracy: 0.9395\n",
      "\n",
      "Epoch 00001: val_loss improved from inf to 0.38388, saving model to ..\\URL_checkpoints\\2021-09-07_22;02;50.725602_lstm2_valacc0.9395_e1\n"
     ]
    },
    {
     "name": "stderr",
     "output_type": "stream",
     "text": [
      "WARNING:absl:Found untraced functions such as lstm_cell_6_layer_call_and_return_conditional_losses, lstm_cell_6_layer_call_fn, lstm_cell_7_layer_call_and_return_conditional_losses, lstm_cell_7_layer_call_fn, lstm_cell_6_layer_call_fn while saving (showing 5 of 10). These functions will not be directly callable after loading.\n"
     ]
    },
    {
     "name": "stdout",
     "output_type": "stream",
     "text": [
      "INFO:tensorflow:Assets written to: ..\\URL_checkpoints\\2021-09-07_22;02;50.725602_lstm2_valacc0.9395_e1\\assets\n"
     ]
    },
    {
     "name": "stderr",
     "output_type": "stream",
     "text": [
      "INFO:tensorflow:Assets written to: ..\\URL_checkpoints\\2021-09-07_22;02;50.725602_lstm2_valacc0.9395_e1\\assets\n"
     ]
    },
    {
     "name": "stdout",
     "output_type": "stream",
     "text": [
      "Epoch 2/15\n",
      "1134/1134 [==============================] - 3532s 3s/step - loss: 0.2184 - accuracy: 0.9618 - val_loss: 0.2061 - val_accuracy: 0.9553\n",
      "\n",
      "Epoch 00002: val_loss improved from 0.38388 to 0.20611, saving model to ..\\URL_checkpoints\\2021-09-07_22;02;50.725602_lstm2_valacc0.9553_e2\n"
     ]
    },
    {
     "name": "stderr",
     "output_type": "stream",
     "text": [
      "WARNING:absl:Found untraced functions such as lstm_cell_6_layer_call_and_return_conditional_losses, lstm_cell_6_layer_call_fn, lstm_cell_7_layer_call_and_return_conditional_losses, lstm_cell_7_layer_call_fn, lstm_cell_6_layer_call_fn while saving (showing 5 of 10). These functions will not be directly callable after loading.\n"
     ]
    },
    {
     "name": "stdout",
     "output_type": "stream",
     "text": [
      "INFO:tensorflow:Assets written to: ..\\URL_checkpoints\\2021-09-07_22;02;50.725602_lstm2_valacc0.9553_e2\\assets\n"
     ]
    },
    {
     "name": "stderr",
     "output_type": "stream",
     "text": [
      "INFO:tensorflow:Assets written to: ..\\URL_checkpoints\\2021-09-07_22;02;50.725602_lstm2_valacc0.9553_e2\\assets\n"
     ]
    },
    {
     "name": "stdout",
     "output_type": "stream",
     "text": [
      "Epoch 3/15\n",
      "1134/1134 [==============================] - 3511s 3s/step - loss: 0.1613 - accuracy: 0.9644 - val_loss: 0.1664 - val_accuracy: 0.9688\n",
      "\n",
      "Epoch 00003: val_loss improved from 0.20611 to 0.16640, saving model to ..\\URL_checkpoints\\2021-09-07_22;02;50.725602_lstm2_valacc0.9688_e3\n"
     ]
    },
    {
     "name": "stderr",
     "output_type": "stream",
     "text": [
      "WARNING:absl:Found untraced functions such as lstm_cell_6_layer_call_and_return_conditional_losses, lstm_cell_6_layer_call_fn, lstm_cell_7_layer_call_and_return_conditional_losses, lstm_cell_7_layer_call_fn, lstm_cell_6_layer_call_fn while saving (showing 5 of 10). These functions will not be directly callable after loading.\n"
     ]
    },
    {
     "name": "stdout",
     "output_type": "stream",
     "text": [
      "INFO:tensorflow:Assets written to: ..\\URL_checkpoints\\2021-09-07_22;02;50.725602_lstm2_valacc0.9688_e3\\assets\n"
     ]
    },
    {
     "name": "stderr",
     "output_type": "stream",
     "text": [
      "INFO:tensorflow:Assets written to: ..\\URL_checkpoints\\2021-09-07_22;02;50.725602_lstm2_valacc0.9688_e3\\assets\n"
     ]
    },
    {
     "name": "stdout",
     "output_type": "stream",
     "text": [
      "Epoch 4/15\n",
      "1134/1134 [==============================] - 3522s 3s/step - loss: 0.1689 - accuracy: 0.9622 - val_loss: 0.1410 - val_accuracy: 0.9645\n",
      "\n",
      "Epoch 00004: val_loss improved from 0.16640 to 0.14103, saving model to ..\\URL_checkpoints\\2021-09-07_22;02;50.725602_lstm2_valacc0.9645_e4\n"
     ]
    },
    {
     "name": "stderr",
     "output_type": "stream",
     "text": [
      "WARNING:absl:Found untraced functions such as lstm_cell_6_layer_call_and_return_conditional_losses, lstm_cell_6_layer_call_fn, lstm_cell_7_layer_call_and_return_conditional_losses, lstm_cell_7_layer_call_fn, lstm_cell_6_layer_call_fn while saving (showing 5 of 10). These functions will not be directly callable after loading.\n"
     ]
    },
    {
     "name": "stdout",
     "output_type": "stream",
     "text": [
      "INFO:tensorflow:Assets written to: ..\\URL_checkpoints\\2021-09-07_22;02;50.725602_lstm2_valacc0.9645_e4\\assets\n"
     ]
    },
    {
     "name": "stderr",
     "output_type": "stream",
     "text": [
      "INFO:tensorflow:Assets written to: ..\\URL_checkpoints\\2021-09-07_22;02;50.725602_lstm2_valacc0.9645_e4\\assets\n"
     ]
    },
    {
     "name": "stdout",
     "output_type": "stream",
     "text": [
      "Epoch 5/15\n",
      "1134/1134 [==============================] - 3522s 3s/step - loss: 0.1469 - accuracy: 0.9653 - val_loss: 0.5058 - val_accuracy: 0.8258\n",
      "\n",
      "Epoch 00005: val_loss did not improve from 0.14103\n",
      "Epoch 6/15\n",
      "1134/1134 [==============================] - 3516s 3s/step - loss: 0.1809 - accuracy: 0.9658 - val_loss: 0.1242 - val_accuracy: 0.9721\n",
      "\n",
      "Epoch 00006: val_loss improved from 0.14103 to 0.12420, saving model to ..\\URL_checkpoints\\2021-09-07_22;02;50.725602_lstm2_valacc0.9721_e6\n"
     ]
    },
    {
     "name": "stderr",
     "output_type": "stream",
     "text": [
      "WARNING:absl:Found untraced functions such as lstm_cell_6_layer_call_and_return_conditional_losses, lstm_cell_6_layer_call_fn, lstm_cell_7_layer_call_and_return_conditional_losses, lstm_cell_7_layer_call_fn, lstm_cell_6_layer_call_fn while saving (showing 5 of 10). These functions will not be directly callable after loading.\n"
     ]
    },
    {
     "name": "stdout",
     "output_type": "stream",
     "text": [
      "INFO:tensorflow:Assets written to: ..\\URL_checkpoints\\2021-09-07_22;02;50.725602_lstm2_valacc0.9721_e6\\assets\n"
     ]
    },
    {
     "name": "stderr",
     "output_type": "stream",
     "text": [
      "INFO:tensorflow:Assets written to: ..\\URL_checkpoints\\2021-09-07_22;02;50.725602_lstm2_valacc0.9721_e6\\assets\n"
     ]
    },
    {
     "name": "stdout",
     "output_type": "stream",
     "text": [
      "Epoch 7/15\n",
      "1134/1134 [==============================] - 3521s 3s/step - loss: 0.1411 - accuracy: 0.9658 - val_loss: 0.1217 - val_accuracy: 0.9726\n",
      "\n",
      "Epoch 00007: val_loss improved from 0.12420 to 0.12174, saving model to ..\\URL_checkpoints\\2021-09-07_22;02;50.725602_lstm2_valacc0.9726_e7\n"
     ]
    },
    {
     "name": "stderr",
     "output_type": "stream",
     "text": [
      "WARNING:absl:Found untraced functions such as lstm_cell_6_layer_call_and_return_conditional_losses, lstm_cell_6_layer_call_fn, lstm_cell_7_layer_call_and_return_conditional_losses, lstm_cell_7_layer_call_fn, lstm_cell_6_layer_call_fn while saving (showing 5 of 10). These functions will not be directly callable after loading.\n"
     ]
    },
    {
     "name": "stdout",
     "output_type": "stream",
     "text": [
      "INFO:tensorflow:Assets written to: ..\\URL_checkpoints\\2021-09-07_22;02;50.725602_lstm2_valacc0.9726_e7\\assets\n"
     ]
    },
    {
     "name": "stderr",
     "output_type": "stream",
     "text": [
      "INFO:tensorflow:Assets written to: ..\\URL_checkpoints\\2021-09-07_22;02;50.725602_lstm2_valacc0.9726_e7\\assets\n"
     ]
    },
    {
     "name": "stdout",
     "output_type": "stream",
     "text": [
      "Epoch 8/15\n",
      "1134/1134 [==============================] - 3527s 3s/step - loss: 0.1439 - accuracy: 0.9667 - val_loss: 0.1339 - val_accuracy: 0.9692\n",
      "\n",
      "Epoch 00008: val_loss did not improve from 0.12174\n",
      "Epoch 9/15\n",
      "1134/1134 [==============================] - 3522s 3s/step - loss: 0.1323 - accuracy: 0.9673 - val_loss: 0.1167 - val_accuracy: 0.9734\n",
      "\n",
      "Epoch 00009: val_loss improved from 0.12174 to 0.11673, saving model to ..\\URL_checkpoints\\2021-09-07_22;02;50.725602_lstm2_valacc0.9734_e9\n"
     ]
    },
    {
     "name": "stderr",
     "output_type": "stream",
     "text": [
      "WARNING:absl:Found untraced functions such as lstm_cell_6_layer_call_and_return_conditional_losses, lstm_cell_6_layer_call_fn, lstm_cell_7_layer_call_and_return_conditional_losses, lstm_cell_7_layer_call_fn, lstm_cell_6_layer_call_fn while saving (showing 5 of 10). These functions will not be directly callable after loading.\n"
     ]
    },
    {
     "name": "stdout",
     "output_type": "stream",
     "text": [
      "INFO:tensorflow:Assets written to: ..\\URL_checkpoints\\2021-09-07_22;02;50.725602_lstm2_valacc0.9734_e9\\assets\n"
     ]
    },
    {
     "name": "stderr",
     "output_type": "stream",
     "text": [
      "INFO:tensorflow:Assets written to: ..\\URL_checkpoints\\2021-09-07_22;02;50.725602_lstm2_valacc0.9734_e9\\assets\n"
     ]
    },
    {
     "name": "stdout",
     "output_type": "stream",
     "text": [
      "Epoch 10/15\n",
      "1134/1134 [==============================] - 3529s 3s/step - loss: 0.1367 - accuracy: 0.9674 - val_loss: 0.1196 - val_accuracy: 0.9738\n",
      "\n",
      "Epoch 00010: val_loss did not improve from 0.11673\n",
      "Epoch 11/15\n",
      "1134/1134 [==============================] - 3526s 3s/step - loss: 0.1300 - accuracy: 0.9676 - val_loss: 0.1312 - val_accuracy: 0.9620\n",
      "\n",
      "Epoch 00011: val_loss did not improve from 0.11673\n",
      "Epoch 12/15\n",
      "1134/1134 [==============================] - 3517s 3s/step - loss: 0.1557 - accuracy: 0.9617 - val_loss: 0.1186 - val_accuracy: 0.9726\n",
      "\n",
      "Epoch 00012: val_loss did not improve from 0.11673\n",
      "Epoch 13/15\n",
      "1134/1134 [==============================] - 3519s 3s/step - loss: 0.1281 - accuracy: 0.9683 - val_loss: 0.1417 - val_accuracy: 0.9638\n",
      "\n",
      "Epoch 00013: val_loss did not improve from 0.11673\n",
      "Epoch 00013: early stopping\n"
     ]
    }
   ],
   "source": [
    "epochs=15\n",
    "history = model.fit(\n",
    "  train_ds,\n",
    "  validation_data=val_ds,\n",
    "  epochs=epochs,\n",
    "  callbacks=callbacks\n",
    ")"
   ]
  },
  {
   "cell_type": "markdown",
   "metadata": {
    "id": "-DXnGUtEL15r",
    "tags": []
   },
   "source": [
    "## Save model"
   ]
  },
  {
   "cell_type": "code",
   "execution_count": 47,
   "metadata": {
    "colab": {
     "base_uri": "https://localhost:8080/"
    },
    "executionInfo": {
     "elapsed": 2634,
     "status": "ok",
     "timestamp": 1627039381161,
     "user": {
      "displayName": "Ali Aldakheel",
      "photoUrl": "",
      "userId": "12596700705790486557"
     },
     "user_tz": -180
    },
    "id": "iAIQ6Jqh69Gp",
    "outputId": "00bf923d-9dee-403c-a150-cc81cd175bc1"
   },
   "outputs": [
    {
     "name": "stderr",
     "output_type": "stream",
     "text": [
      "WARNING:absl:Found untraced functions such as lstm_cell_6_layer_call_and_return_conditional_losses, lstm_cell_6_layer_call_fn, lstm_cell_7_layer_call_and_return_conditional_losses, lstm_cell_7_layer_call_fn, lstm_cell_6_layer_call_fn while saving (showing 5 of 10). These functions will not be directly callable after loading.\n"
     ]
    },
    {
     "name": "stdout",
     "output_type": "stream",
     "text": [
      "INFO:tensorflow:Assets written to: ..\\URL_models\\2021-09-07_22;02;50.725602_lstm2_valacc0.9638_e13_b32.tf\\assets\n"
     ]
    },
    {
     "name": "stderr",
     "output_type": "stream",
     "text": [
      "INFO:tensorflow:Assets written to: ..\\URL_models\\2021-09-07_22;02;50.725602_lstm2_valacc0.9638_e13_b32.tf\\assets\n"
     ]
    }
   ],
   "source": [
    "val_acc = history.history['val_accuracy']\n",
    "model.save(model_dir / f\"{date}_{model_name}_valacc{val_acc[-1]:0.4f}_e{len(val_acc)}_b{batch_size}.tf\",\n",
    "           include_optimizer=True)"
   ]
  },
  {
   "cell_type": "markdown",
   "metadata": {
    "id": "ZgRCssRQOuSG",
    "tags": []
   },
   "source": [
    "## Load model"
   ]
  },
  {
   "cell_type": "code",
   "execution_count": 53,
   "metadata": {
    "id": "GvIygUewOwKU"
   },
   "outputs": [],
   "source": [
    "# change filename to the model you want to load\n",
    "model_filename = \"2021-09-07_22;02;50.725602_lstm2_valacc0.9734_e9\"\n",
    "model2 = keras.models.load_model(\n",
    "    checkpoint_dir / model_filename,\n",
    "    compile=True)"
   ]
  },
  {
   "cell_type": "markdown",
   "metadata": {
    "id": "11q3ScM368U4",
    "tags": []
   },
   "source": [
    "## Visulaize loss and acc"
   ]
  },
  {
   "cell_type": "code",
   "execution_count": 48,
   "metadata": {
    "colab": {
     "base_uri": "https://localhost:8080/"
    },
    "executionInfo": {
     "elapsed": 444,
     "status": "ok",
     "timestamp": 1627039181929,
     "user": {
      "displayName": "Ali Aldakheel",
      "photoUrl": "",
      "userId": "12596700705790486557"
     },
     "user_tz": -180
    },
    "id": "dmtvkA2uFfYl",
    "outputId": "1ee2a0ea-8c85-4ab8-c804-2fa9d51a4cb0"
   },
   "outputs": [
    {
     "data": {
      "text/plain": [
       "{'loss': [1.696229338645935,\n",
       "  0.21840135753154755,\n",
       "  0.16129134595394135,\n",
       "  0.16886678338050842,\n",
       "  0.14692680537700653,\n",
       "  0.18088044226169586,\n",
       "  0.1411307454109192,\n",
       "  0.14391213655471802,\n",
       "  0.1323399394750595,\n",
       "  0.13669273257255554,\n",
       "  0.13001056015491486,\n",
       "  0.15565335750579834,\n",
       "  0.12805648148059845],\n",
       " 'accuracy': [0.9385802745819092,\n",
       "  0.9617642760276794,\n",
       "  0.9644107222557068,\n",
       "  0.9622053503990173,\n",
       "  0.9652653336524963,\n",
       "  0.9657615423202515,\n",
       "  0.9657615423202515,\n",
       "  0.9666712880134583,\n",
       "  0.9672501683235168,\n",
       "  0.9674431681632996,\n",
       "  0.9676085710525513,\n",
       "  0.9617091417312622,\n",
       "  0.9683253169059753],\n",
       " 'val_loss': [0.3838765621185303,\n",
       "  0.20610937476158142,\n",
       "  0.16640418767929077,\n",
       "  0.1410321593284607,\n",
       "  0.5057688355445862,\n",
       "  0.12419702112674713,\n",
       "  0.1217416301369667,\n",
       "  0.13391311466693878,\n",
       "  0.11673220992088318,\n",
       "  0.11961584538221359,\n",
       "  0.13120444118976593,\n",
       "  0.11858268827199936,\n",
       "  0.1417120397090912],\n",
       " 'val_accuracy': [0.9394643902778625,\n",
       "  0.9552899599075317,\n",
       "  0.9687914848327637,\n",
       "  0.9644754528999329,\n",
       "  0.8258078694343567,\n",
       "  0.9721115827560425,\n",
       "  0.9725542068481445,\n",
       "  0.9692341685295105,\n",
       "  0.9734395742416382,\n",
       "  0.9737715721130371,\n",
       "  0.9620407223701477,\n",
       "  0.9725542068481445,\n",
       "  0.9638113975524902]}"
      ]
     },
     "execution_count": 48,
     "metadata": {},
     "output_type": "execute_result"
    }
   ],
   "source": [
    "history.history"
   ]
  },
  {
   "cell_type": "code",
   "execution_count": 49,
   "metadata": {
    "colab": {
     "base_uri": "https://localhost:8080/",
     "height": 246
    },
    "executionInfo": {
     "elapsed": 518,
     "status": "error",
     "timestamp": 1627040339197,
     "user": {
      "displayName": "Ali Aldakheel",
      "photoUrl": "",
      "userId": "12596700705790486557"
     },
     "user_tz": -180
    },
    "id": "2bMbpTTF7EDC",
    "outputId": "291f281e-43a9-42f0-b90c-5e59a91c7c18"
   },
   "outputs": [
    {
     "data": {
      "image/png": "[encoded data removed]",
      "text/plain": [
       "<Figure size 1440x576 with 2 Axes>"
      ]
     },
     "metadata": {
      "needs_background": "light"
     },
     "output_type": "display_data"
    }
   ],
   "source": [
    "import matplotlib.pyplot as plt\n",
    "\n",
    "acc = history.history['accuracy']\n",
    "val_acc = history.history['val_accuracy']\n",
    "\n",
    "loss = history.history['loss']\n",
    "val_loss = history.history['val_loss']\n",
    "\n",
    "# epochs_range = range(epochs)\n",
    "epochs_range = history.epoch\n",
    "\n",
    "plt.figure(figsize=(20, 8))\n",
    "plt.subplot(1, 2, 1)\n",
    "plt.plot(epochs_range, acc, label='Training Accuracy')\n",
    "plt.plot(epochs_range, val_acc, label='Validation Accuracy')\n",
    "plt.legend(loc='lower right')\n",
    "plt.title('Training and Validation Accuracy')\n",
    "\n",
    "plt.subplot(1, 2, 2)\n",
    "plt.plot(epochs_range, loss, label='Training Loss')\n",
    "plt.plot(epochs_range, val_loss, label='Validation Loss')\n",
    "plt.legend(loc='upper right')\n",
    "plt.title('Training and Validation Loss')\n",
    "plt.show()\n"
   ]
  },
  {
   "cell_type": "markdown",
   "metadata": {
    "id": "aIrHRI2QEx_u",
    "tags": []
   },
   "source": [
    "## Evaluate (test)"
   ]
  },
  {
   "cell_type": "code",
   "execution_count": 50,
   "metadata": {},
   "outputs": [
    {
     "name": "stdout",
     "output_type": "stream",
     "text": [
      "283/283 [==============================] - 75s 263ms/step - loss: 0.1417 - accuracy: 0.9638\n",
      "val loss, val acc: [0.1417120397090912, 0.9638113975524902]\n"
     ]
    }
   ],
   "source": [
    "val_results = model.evaluate(val_ds, batch_size=256)\n",
    "print(\"val loss, val acc:\", val_results)"
   ]
  },
  {
   "cell_type": "code",
   "execution_count": 54,
   "metadata": {},
   "outputs": [
    {
     "name": "stdout",
     "output_type": "stream",
     "text": [
      "283/283 [==============================] - 78s 272ms/step - loss: 0.1167 - accuracy: 0.9734\n",
      "val loss, val acc: [0.11673220992088318, 0.9734395742416382]\n"
     ]
    }
   ],
   "source": [
    "val_results = model2.evaluate(val_ds, batch_size=256)\n",
    "print(\"val loss, val acc:\", val_results)"
   ]
  },
  {
   "cell_type": "code",
   "execution_count": 51,
   "metadata": {
    "colab": {
     "base_uri": "https://localhost:8080/"
    },
    "executionInfo": {
     "elapsed": 34443,
     "status": "ok",
     "timestamp": 1627038897991,
     "user": {
      "displayName": "Ali Aldakheel",
      "photoUrl": "",
      "userId": "12596700705790486557"
     },
     "user_tz": -180
    },
    "id": "J-hua9SLE2EZ",
    "outputId": "c2a8162e-17c2-4019-9cdb-730d30584fc2"
   },
   "outputs": [
    {
     "name": "stdout",
     "output_type": "stream",
     "text": [
      "1/1 [==============================] - 1s 502ms/step - loss: 0.1079 - accuracy: 0.9375\n",
      "test loss, test acc: [0.10788491368293762, 0.9375]\n"
     ]
    }
   ],
   "source": [
    "results = model.evaluate(test_ds, batch_size=32)\n",
    "print(\"test loss, test acc:\", results)\n"
   ]
  },
  {
   "cell_type": "code",
   "execution_count": 55,
   "metadata": {
    "colab": {
     "base_uri": "https://localhost:8080/"
    },
    "executionInfo": {
     "elapsed": 34443,
     "status": "ok",
     "timestamp": 1627038897991,
     "user": {
      "displayName": "Ali Aldakheel",
      "photoUrl": "",
      "userId": "12596700705790486557"
     },
     "user_tz": -180
    },
    "id": "J-hua9SLE2EZ",
    "outputId": "c2a8162e-17c2-4019-9cdb-730d30584fc2"
   },
   "outputs": [
    {
     "name": "stdout",
     "output_type": "stream",
     "text": [
      "1/1 [==============================] - 0s 259ms/step - loss: 0.0769 - accuracy: 0.9688\n",
      "test loss, test acc: [0.07691548764705658, 0.96875]\n"
     ]
    }
   ],
   "source": [
    "results = model2.evaluate(test_ds, batch_size=32)\n",
    "print(\"test loss, test acc:\", results)\n"
   ]
  },
  {
   "cell_type": "code",
   "execution_count": 52,
   "metadata": {},
   "outputs": [
    {
     "data": {
      "text/plain": [
       "1"
      ]
     },
     "execution_count": 52,
     "metadata": {},
     "output_type": "execute_result"
    }
   ],
   "source": [
    "test_ds.cardinality().numpy()"
   ]
  }
 ],
 "metadata": {
  "accelerator": "GPU",
  "colab": {
   "authorship_tag": "ABX9TyNqKpFqEFCkBkAyw9y52SGT",
   "collapsed_sections": [
    "dHlUmDItlkDG",
    "eyBLm8_g46iI"
   ],
   "name": "train_custom1.ipynb",
   "provenance": []
  },
  "kernelspec": {
   "display_name": "Python 3 (ipykernel)",
   "language": "python",
   "name": "python3"
  },
  "language_info": {
   "codemirror_mode": {
    "name": "ipython",
    "version": 3
   },
   "file_extension": ".py",
   "mimetype": "text/x-python",
   "name": "python",
   "nbconvert_exporter": "python",
   "pygments_lexer": "ipython3",
   "version": "3.9.1"
  },
  "toc-showmarkdowntxt": false
 },
 "nbformat": 4,
 "nbformat_minor": 4
}
