{
 "cells": [
  {
   "cell_type": "markdown",
   "metadata": {
    "id": "soMhYc4P77fV",
    "tags": []
   },
   "source": [
    "# Train lstm3 model for phishing URL detection"
   ]
  },
  {
   "cell_type": "markdown",
   "metadata": {
    "id": "u2YTssE57qRc",
    "tags": []
   },
   "source": [
    "## Imports"
   ]
  },
  {
   "cell_type": "code",
   "execution_count": 1,
   "metadata": {
    "executionInfo": {
     "elapsed": 8574,
     "status": "ok",
     "timestamp": 1627036881636,
     "user": {
      "displayName": "Ali Aldakheel",
      "photoUrl": "",
      "userId": "12596700705790486557"
     },
     "user_tz": -180
    },
    "id": "4exj7qwIelgQ"
   },
   "outputs": [],
   "source": [
    "import numpy as np\n",
    "import os\n",
    "import pathlib\n",
    "\n",
    "import tensorflow as tf\n",
    "from tensorflow import keras\n",
    "from tensorflow.keras import layers, regularizers\n",
    "from tensorflow.keras.models import Sequential\n",
    "\n",
    "import tensorflow_text as tf_text"
   ]
  },
  {
   "cell_type": "code",
   "execution_count": 2,
   "metadata": {
    "executionInfo": {
     "elapsed": 14,
     "status": "ok",
     "timestamp": 1627036881642,
     "user": {
      "displayName": "Ali Aldakheel",
      "photoUrl": "",
      "userId": "12596700705790486557"
     },
     "user_tz": -180
    },
    "id": "8M-gp20qghxf"
   },
   "outputs": [],
   "source": [
    "dataset_dir = pathlib.Path(\"../URL_dataset/\")\n",
    "model_dir = pathlib.Path('../URL_models/')\n",
    "checkpoint_dir = pathlib.Path('../URL_checkpoints/')"
   ]
  },
  {
   "cell_type": "code",
   "execution_count": 3,
   "metadata": {
    "colab": {
     "base_uri": "https://localhost:8080/"
    },
    "executionInfo": {
     "elapsed": 391,
     "status": "ok",
     "timestamp": 1627036886209,
     "user": {
      "displayName": "Ali Aldakheel",
      "photoUrl": "",
      "userId": "12596700705790486557"
     },
     "user_tz": -180
    },
    "id": "0fRvRc6lPzCJ",
    "outputId": "4e2ad655-fa0c-4595-9112-8983ff5783d1"
   },
   "outputs": [
    {
     "name": "stdout",
     "output_type": "stream",
     "text": [
      "2021-09-10_19;13;08.969881\n"
     ]
    }
   ],
   "source": [
    "import datetime\n",
    "date = datetime.datetime.now()\n",
    "date = '_'.join(str(date).split()).replace(':', ';')\n",
    "print(date)"
   ]
  },
  {
   "cell_type": "code",
   "execution_count": 4,
   "metadata": {
    "colab": {
     "base_uri": "https://localhost:8080/"
    },
    "executionInfo": {
     "elapsed": 14,
     "status": "ok",
     "timestamp": 1627036881645,
     "user": {
      "displayName": "Ali Aldakheel",
      "photoUrl": "",
      "userId": "12596700705790486557"
     },
     "user_tz": -180
    },
    "id": "G329MQIkhF2Z",
    "outputId": "1acbdf69-23f8-483a-a3f4-d2a339b077f3",
    "tags": []
   },
   "outputs": [
    {
     "data": {
      "text/plain": [
       "['benign', 'phishing']"
      ]
     },
     "execution_count": 4,
     "metadata": {},
     "output_type": "execute_result"
    }
   ],
   "source": [
    "os.listdir(dataset_dir)"
   ]
  },
  {
   "cell_type": "markdown",
   "metadata": {
    "id": "VQa6ueGT7kYf",
    "tags": []
   },
   "source": [
    "## Params"
   ]
  },
  {
   "cell_type": "code",
   "execution_count": 5,
   "metadata": {
    "executionInfo": {
     "elapsed": 569,
     "status": "ok",
     "timestamp": 1627036888443,
     "user": {
      "displayName": "Ali Aldakheel",
      "photoUrl": "",
      "userId": "12596700705790486557"
     },
     "user_tz": -180
    },
    "id": "ek7tR5IDhNz_"
   },
   "outputs": [],
   "source": [
    "model_name = \"lstm3\"\n",
    "batch_size = 32\n",
    "rest_split_ratio = 0.2\n",
    "test_split_ratio = 0.2\n",
    "\n",
    "unicode_max = 1114111"
   ]
  },
  {
   "cell_type": "markdown",
   "metadata": {
    "tags": []
   },
   "source": [
    "## Load dataset"
   ]
  },
  {
   "cell_type": "code",
   "execution_count": 6,
   "metadata": {
    "colab": {
     "base_uri": "https://localhost:8080/"
    },
    "executionInfo": {
     "elapsed": 6922,
     "status": "ok",
     "timestamp": 1627036896890,
     "user": {
      "displayName": "Ali Aldakheel",
      "photoUrl": "",
      "userId": "12596700705790486557"
     },
     "user_tz": -180
    },
    "id": "PRnzdwr0iEJH",
    "outputId": "716cdd80-319b-4a9a-e19b-bf1aea153282"
   },
   "outputs": [
    {
     "name": "stdout",
     "output_type": "stream",
     "text": [
      "Found 45343 files belonging to 2 classes.\n",
      "Using 36275 files for training.\n"
     ]
    }
   ],
   "source": [
    "train_ds = keras.preprocessing.text_dataset_from_directory(\n",
    "  dataset_dir,\n",
    "  validation_split=rest_split_ratio,\n",
    "  subset=\"training\",\n",
    "  label_mode = 'binary',\n",
    "  seed=132,\n",
    "  batch_size=batch_size)"
   ]
  },
  {
   "cell_type": "code",
   "execution_count": 7,
   "metadata": {
    "colab": {
     "base_uri": "https://localhost:8080/"
    },
    "executionInfo": {
     "elapsed": 625,
     "status": "ok",
     "timestamp": 1627036899112,
     "user": {
      "displayName": "Ali Aldakheel",
      "photoUrl": "",
      "userId": "12596700705790486557"
     },
     "user_tz": -180
    },
    "id": "WK0GzS01jr6f",
    "outputId": "cd973b86-a058-4780-9d4c-0d73e8bda940"
   },
   "outputs": [
    {
     "name": "stdout",
     "output_type": "stream",
     "text": [
      "Found 45343 files belonging to 2 classes.\n",
      "Using 9068 files for validation.\n"
     ]
    }
   ],
   "source": [
    "rest_ds = keras.preprocessing.text_dataset_from_directory(\n",
    "  dataset_dir,\n",
    "  validation_split=rest_split_ratio,\n",
    "  subset=\"validation\",\n",
    "  label_mode='binary',\n",
    "  seed=132,\n",
    "  batch_size=batch_size)"
   ]
  },
  {
   "cell_type": "code",
   "execution_count": 8,
   "metadata": {},
   "outputs": [
    {
     "name": "stdout",
     "output_type": "stream",
     "text": [
      "284\n"
     ]
    }
   ],
   "source": [
    "rest_batches = rest_ds.cardinality().numpy()\n",
    "print(rest_batches)"
   ]
  },
  {
   "cell_type": "code",
   "execution_count": 9,
   "metadata": {
    "executionInfo": {
     "elapsed": 4,
     "status": "ok",
     "timestamp": 1627036900606,
     "user": {
      "displayName": "Ali Aldakheel",
      "photoUrl": "",
      "userId": "12596700705790486557"
     },
     "user_tz": -180
    },
    "id": "sqPRjan5JGnW"
   },
   "outputs": [],
   "source": [
    "val_ds = rest_ds.skip(int(rest_batches * test_split_ratio))\n",
    "test_ds = rest_ds.take(int(rest_batches * test_split_ratio))"
   ]
  },
  {
   "cell_type": "code",
   "execution_count": 10,
   "metadata": {},
   "outputs": [
    {
     "data": {
      "text/plain": [
       "1134"
      ]
     },
     "execution_count": 10,
     "metadata": {},
     "output_type": "execute_result"
    }
   ],
   "source": [
    "train_ds.cardinality().numpy()"
   ]
  },
  {
   "cell_type": "code",
   "execution_count": 11,
   "metadata": {},
   "outputs": [
    {
     "data": {
      "text/plain": [
       "228"
      ]
     },
     "execution_count": 11,
     "metadata": {},
     "output_type": "execute_result"
    }
   ],
   "source": [
    "val_ds.cardinality().numpy()"
   ]
  },
  {
   "cell_type": "code",
   "execution_count": 12,
   "metadata": {},
   "outputs": [
    {
     "data": {
      "text/plain": [
       "56"
      ]
     },
     "execution_count": 12,
     "metadata": {},
     "output_type": "execute_result"
    }
   ],
   "source": [
    "test_ds.cardinality().numpy()"
   ]
  },
  {
   "cell_type": "code",
   "execution_count": 13,
   "metadata": {
    "executionInfo": {
     "elapsed": 430,
     "status": "ok",
     "timestamp": 1627036908402,
     "user": {
      "displayName": "Ali Aldakheel",
      "photoUrl": "",
      "userId": "12596700705790486557"
     },
     "user_tz": -180
    },
    "id": "k2b1o4O3ZdUd"
   },
   "outputs": [],
   "source": [
    "class_names = train_ds.class_names"
   ]
  },
  {
   "cell_type": "code",
   "execution_count": 14,
   "metadata": {
    "colab": {
     "base_uri": "https://localhost:8080/"
    },
    "executionInfo": {
     "elapsed": 4,
     "status": "ok",
     "timestamp": 1627036909617,
     "user": {
      "displayName": "Ali Aldakheel",
      "photoUrl": "",
      "userId": "12596700705790486557"
     },
     "user_tz": -180
    },
    "id": "j2cn01Nrk91s",
    "outputId": "0f358a96-666d-43d4-bee0-76eb122e6b6a"
   },
   "outputs": [
    {
     "data": {
      "text/plain": [
       "['benign', 'phishing']"
      ]
     },
     "execution_count": 14,
     "metadata": {},
     "output_type": "execute_result"
    }
   ],
   "source": [
    "class_names"
   ]
  },
  {
   "cell_type": "markdown",
   "metadata": {
    "tags": []
   },
   "source": [
    "## Explore dataset"
   ]
  },
  {
   "cell_type": "code",
   "execution_count": 15,
   "metadata": {},
   "outputs": [],
   "source": [
    "b = train_ds.take(1)"
   ]
  },
  {
   "cell_type": "code",
   "execution_count": 16,
   "metadata": {},
   "outputs": [
    {
     "data": {
      "text/plain": [
       "<TakeDataset shapes: ((None,), (None, 1)), types: (tf.string, tf.float32)>"
      ]
     },
     "execution_count": 16,
     "metadata": {},
     "output_type": "execute_result"
    }
   ],
   "source": [
    "b"
   ]
  },
  {
   "cell_type": "code",
   "execution_count": 17,
   "metadata": {},
   "outputs": [
    {
     "name": "stdout",
     "output_type": "stream",
     "text": [
      "b'http://online.citi.com.3qf2k0ckn2o4an2mjfrduvskrwvgn4.gateway5.com/images/online.php' phishing\n",
      "b'http://www.terapias-spa.com/login.mail.com.us.gooogle.sess8723203823-secure87367282664783.user-neo.y7m1g6.com.launch.secure.sess734894.11gbfree.zzhjhbbxs.sec9711102nghd7752uewjknbghc.com.den26utm.safety.sess884722122/' phishing\n",
      "b'http://momoshop.com.tw/category/LgrpCategory.jsp?l_code=2102400000&Area=tooth&FTOOTH=21&mdiv=1000900000-bt_5_023_03&ctype=B' benign\n",
      "b'http://censor.net.ua/resonance/330659/aleksandr_yaroslavskiyi_kogda_klub_vozglavlyaet_kloun_vse_mojet_byt' benign\n",
      "b'http://irecommend.ru/content/koftochka-aliexpress-free-shipping-2015-male-child-letter-urban-cotton-white-hood-sweatshirt' benign\n",
      "b'http://appleid.apple.co.uk.cgi-bin.webobjects.myappleid.woa.verify2.eu-id3.net/identify-customer=r3cZu4QGsRB0bu4pyomoXlEZkQrwQUYKbPz7Ye2MeaiqBiLntI6nwEXLuMkoxYikZcRPrRR5faT6rYz726zg9a7ePsToDpxRa8xj/' phishing\n",
      "b'http://1337x.to/torrent/1160325/White-Noise-Meditation-10-Hz-Alpha-Ocean-Wave-Extended-Version-FLAC/' benign\n",
      "b'http://web.de/magazine/unterhaltung/adel/royal-baby-2/royal-baby-2-namen-bevorzugen-30615390' benign\n",
      "b'http://depositphotos.com/login.html?url=%2F49899715%2Fstock-photo-london-uk-august-4.html' benign\n",
      "b'http://thenextweb.com/media/2014/11/27/musixmatch-brings-lyrics-cataglog-web-replete-song-synchronization-karaoke-nuts/gtm.js' benign\n",
      "b'http://maybank2u.com.my/mbb_info/m2u/public/personalDetail04.do?channelId=ACC-Accounts&cntTypeId=0&cntKey=ACC09.21&programId=ACC01-SavingsAccounts&chCatId=/mbb/Personal/ACC-Accounts' benign\n",
      "b'http://us.battle.net.login.en.tu-login.com/login/en/login.html?app=wam&amp;ref=www.worldofwarcraft.com/account/&amp;eor=0&amp;app=bam' phishing\n",
      "b'http://pastehtml.com/view/bfwy9vje3.html' phishing\n",
      "b'http://deadspin.com/5987555/you-dont-have-to-act-like-a-baby-mike-milbury-goes-off-on-alex-ovechkin' benign\n",
      "b'http://pinterest.com/pin/create/button/?url=http://allrecipes.com/Recipe/Hot-Tamale-Pie/Detail.aspx&description=Hot%20Tamale%20Pie%20Allrecipes.com&media=http://images.media-allrecipes.com/userphotos/250x250/01/51/18/1511888.jpg' benign\n",
      "b'http://olx.pl/uslugi-firmy/kategorie/zZpLcm8bkGplJYqOhgM_xHZGXmeBmftDTbtoXzUCEW7.H7' benign\n",
      "b'http://1337x.to/torrent/1157136/Fast-and-Furious-7-2015-1080p-WEBRip-KORSUB-x264-AAC2-0-RARBG/' benign\n",
      "b'http://plarium.com/de/strategiespiele/sparta-war-of-empires/news/neue-funktion-vorherrschaftsstatus/' benign\n",
      "b'http://udn.com/news/story/7314/901408-%E5%9C%96%E8%A1%A8%EF%BC%8F%E8%A8%98%E6%86%B6%E5%8F%AA%E6%9C%8930%E7%A7%92-%E7%A7%92%E5%BF%98%E4%BA%BAH.M%E7%9A%84%E6%95%85%E4%BA%8B' benign\n",
      "b'http://extratorrent.cc/torrent_download/4189703/Xbox+The+Official+Magazine+-+The+battle+for+the+Galaxy+Begins+on+XBOX+One+%28June+2015%29+%28True+PDF%29.torrent' benign\n",
      "b'http://correios.com.br/Para-governo/tribunais-e-poder-judiciario/solucoes-em-marketing/mala-direta-postal-especial' benign\n",
      "b'http://pastehtml.com/view/bfo0l4htr.html' phishing\n",
      "b'http://1337x.to/torrent/1159234/Grand-Theft-Auto-V-2015-Ultra-Repack-MULTi11-FitGirl/' benign\n",
      "b'http://serverfault.com/questions/527228/how-can-i-disable-google-ssl-search-so-that-the-dansguardian-web-filter-will-wor' benign\n",
      "b'http://mylust.com/videos/113611/just-fucking-this-dirty-black-milf-outdoors-on-the-ground/' benign\n",
      "b'http://pastehtml.com/view/bf7stk13t.html' phishing\n",
      "b'http://jinwonind.com/bbs//data/wp-rss3.php' phishing\n",
      "b'http://askubuntu.com/questions/586085/grep-strings-in-a-subgroup-of-lines-in-txt-file' benign\n",
      "b'http://metro.co.uk/2015/05/13/sunset-terrace-in-thousand-oaks-sends-incredible-response-to-brooke-lewiss-complaint-5195519/' benign\n",
      "b'http://bongda88.info/tin-gio-chot-84-mourinho-quyet-khong-ban-cech-cho-cac-doi-bong-london/' benign\n",
      "b'http://censor.net.ua/news/336021/rossiya_pytaetsya_ugovorit_gretsiyu_prisoedinitsya_k_svoeyi_alternative_mvf_der_spiegel' benign\n",
      "b'http://buzzfil.net/article/5670/photo-look/magnifiques-photos-qui-allient-deux-epoques-9.html?href=inner_website' benign\n"
     ]
    }
   ],
   "source": [
    "for batch in b:\n",
    "    for url, label in zip(batch[0].numpy(), batch[1].numpy()):\n",
    "        print(url, class_names[int(label[0])])"
   ]
  },
  {
   "cell_type": "markdown",
   "metadata": {},
   "source": [
    "## Vectorize"
   ]
  },
  {
   "cell_type": "markdown",
   "metadata": {},
   "source": [
    "Cannot use the vectorization layers since it is not supported in TFJS; we can rather have a custom tokenizer which can be then exported as json then loaded in JS"
   ]
  },
  {
   "cell_type": "code",
   "execution_count": 18,
   "metadata": {},
   "outputs": [],
   "source": [
    "tokenizer = tf_text.UnicodeCharTokenizer()"
   ]
  },
  {
   "cell_type": "code",
   "execution_count": 19,
   "metadata": {},
   "outputs": [],
   "source": [
    "train_ds = train_ds.map(lambda x, y: (tokenizer.tokenize(x), y))\n",
    "val_ds = val_ds.map(lambda x, y: (tokenizer.tokenize(x), y))\n",
    "test_ds = test_ds.map(lambda x, y: (tokenizer.tokenize(x), y))"
   ]
  },
  {
   "cell_type": "markdown",
   "metadata": {
    "id": "37l0TNzZ9mBy",
    "tags": []
   },
   "source": [
    "## Tune dataset"
   ]
  },
  {
   "cell_type": "code",
   "execution_count": 20,
   "metadata": {
    "executionInfo": {
     "elapsed": 7,
     "status": "ok",
     "timestamp": 1627036510297,
     "user": {
      "displayName": "Ali Aldakheel",
      "photoUrl": "",
      "userId": "12596700705790486557"
     },
     "user_tz": -180
    },
    "id": "Na8jxltSouWy"
   },
   "outputs": [],
   "source": [
    "AUTOTUNE = tf.data.AUTOTUNE\n",
    "\n",
    "train_ds = train_ds.cache().shuffle(256).prefetch(buffer_size=AUTOTUNE)\n",
    "val_ds = val_ds.cache().prefetch(buffer_size=AUTOTUNE)\n",
    "test_ds = test_ds.cache().prefetch(buffer_size=AUTOTUNE)"
   ]
  },
  {
   "cell_type": "markdown",
   "metadata": {
    "id": "tO4SDIgT5Pi8",
    "tags": []
   },
   "source": [
    "## Model"
   ]
  },
  {
   "cell_type": "code",
   "execution_count": 21,
   "metadata": {
    "executionInfo": {
     "elapsed": 400,
     "status": "ok",
     "timestamp": 1627036918433,
     "user": {
      "displayName": "Ali Aldakheel",
      "photoUrl": "",
      "userId": "12596700705790486557"
     },
     "user_tz": -180
    },
    "id": "Yq9OQ8fq5TCI"
   },
   "outputs": [],
   "source": [
    "num_classes = 2\n",
    "embedding_dim = 16\n",
    "lstm1_units = 256\n",
    "lstm2_units = 512\n",
    "dropout_prob1 = 0.2\n",
    "dropout_prob2 = 0.1\n",
    "reg_rate1 = 0.001\n",
    "reg_rate2 = 0.001\n",
    "\n",
    "model = Sequential([\n",
    "    layers.Embedding(unicode_max, embedding_dim),\n",
    "    layers.LSTM(\n",
    "        lstm1_units,\n",
    "        kernel_regularizer=regularizers.L1L2(reg_rate1, reg_rate2),\n",
    "#         recurrent_regularizer=regularizers.L1L2(reg_rate1),\n",
    "#         bias_regularizer=regularizers.L1L2(reg_rate1),\n",
    "#         activity_regularizer=regularizers.L1L2(reg_rate1),\n",
    "        dropout=dropout_prob1,\n",
    "        return_sequences=True\n",
    "    ),\n",
    "    layers.LSTM(\n",
    "        lstm2_units,\n",
    "        kernel_regularizer=regularizers.L1L2(reg_rate1, reg_rate2),\n",
    "#         recurrent_regularizer=regularizers.L1L2(reg_rate1),\n",
    "#         bias_regularizer=regularizers.L1L2(reg_rate1),\n",
    "#         activity_regularizer=regularizers.L1L2(reg_rate1,\n",
    "        dropout=dropout_prob2,\n",
    "    ),\n",
    "    layers.Dense(num_classes-1)\n",
    "])"
   ]
  },
  {
   "cell_type": "code",
   "execution_count": 22,
   "metadata": {
    "colab": {
     "base_uri": "https://localhost:8080/"
    },
    "executionInfo": {
     "elapsed": 586,
     "status": "ok",
     "timestamp": 1627036922837,
     "user": {
      "displayName": "Ali Aldakheel",
      "photoUrl": "",
      "userId": "12596700705790486557"
     },
     "user_tz": -180
    },
    "id": "vDfpnf7_51_o",
    "outputId": "8e3b38fc-119b-4e4a-be49-bc5cc4c86ffb"
   },
   "outputs": [
    {
     "name": "stdout",
     "output_type": "stream",
     "text": [
      "Model: \"sequential\"\n",
      "_________________________________________________________________\n",
      "Layer (type)                 Output Shape              Param #   \n",
      "=================================================================\n",
      "embedding (Embedding)        (None, None, 16)          17825776  \n",
      "_________________________________________________________________\n",
      "lstm (LSTM)                  (None, None, 256)         279552    \n",
      "_________________________________________________________________\n",
      "lstm_1 (LSTM)                (None, 512)               1574912   \n",
      "_________________________________________________________________\n",
      "dense (Dense)                (None, 1)                 513       \n",
      "=================================================================\n",
      "Total params: 19,680,753\n",
      "Trainable params: 19,680,753\n",
      "Non-trainable params: 0\n",
      "_________________________________________________________________\n"
     ]
    }
   ],
   "source": [
    "model.summary()\n"
   ]
  },
  {
   "cell_type": "code",
   "execution_count": 23,
   "metadata": {
    "executionInfo": {
     "elapsed": 6,
     "status": "ok",
     "timestamp": 1627036920041,
     "user": {
      "displayName": "Ali Aldakheel",
      "photoUrl": "",
      "userId": "12596700705790486557"
     },
     "user_tz": -180
    },
    "id": "ktjtV8zz50p9"
   },
   "outputs": [],
   "source": [
    "model.compile(optimizer='adam',\n",
    "              loss=tf.keras.losses.BinaryCrossentropy(from_logits=True),\n",
    "              metrics=['accuracy'])\n"
   ]
  },
  {
   "cell_type": "markdown",
   "metadata": {
    "id": "xAjHjYWO54zT",
    "tags": []
   },
   "source": [
    "## Training"
   ]
  },
  {
   "cell_type": "code",
   "execution_count": 24,
   "metadata": {
    "executionInfo": {
     "elapsed": 385,
     "status": "ok",
     "timestamp": 1627036926120,
     "user": {
      "displayName": "Ali Aldakheel",
      "photoUrl": "",
      "userId": "12596700705790486557"
     },
     "user_tz": -180
    },
    "id": "04d9GdexS99X"
   },
   "outputs": [],
   "source": [
    "callbacks = [\n",
    "    keras.callbacks.ModelCheckpoint(\n",
    "        # Path where to save the model\n",
    "        # The two parameters below mean that we will overwrite\n",
    "        # the current checkpoint if and only if\n",
    "        # the `val_loss` score has improved.\n",
    "        # The saved model name will include the current epoch.\n",
    "        filepath=checkpoint_dir / f\"{date}_{model_name}_valacc{{val_accuracy:.4f}}_e{{epoch}}\",\n",
    "        save_best_only=True,  # Only save a model if `val_loss` has improved.\n",
    "        monitor=\"val_loss\",\n",
    "        verbose=1,\n",
    "    ),\n",
    "    keras.callbacks.EarlyStopping(\n",
    "        # Stop training when `val_loss` is no longer improving\n",
    "        monitor=\"val_loss\",\n",
    "        # \"no longer improving\" being defined as \"no better than 1e-2 less\"\n",
    "        min_delta=1e-4,\n",
    "        # \"no longer improving\" being further defined as \"for at least 2 epochs\"\n",
    "        patience=4,\n",
    "        verbose=1,\n",
    "    )\n",
    "]\n"
   ]
  },
  {
   "cell_type": "code",
   "execution_count": 25,
   "metadata": {
    "colab": {
     "base_uri": "https://localhost:8080/"
    },
    "executionInfo": {
     "elapsed": 1778318,
     "status": "ok",
     "timestamp": 1627038706504,
     "user": {
      "displayName": "Ali Aldakheel",
      "photoUrl": "",
      "userId": "12596700705790486557"
     },
     "user_tz": -180
    },
    "id": "uF0k1wfH56Q8",
    "outputId": "3c3ff062-a1cd-4da8-f9ae-de0819fc1c50"
   },
   "outputs": [
    {
     "name": "stdout",
     "output_type": "stream",
     "text": [
      "Epoch 1/15\n"
     ]
    },
    {
     "name": "stderr",
     "output_type": "stream",
     "text": [
      "C:\\Users\\fracta\\AppData\\Roaming\\Python\\Python39\\site-packages\\tensorflow\\python\\framework\\indexed_slices.py:447: UserWarning: Converting sparse IndexedSlices(IndexedSlices(indices=Tensor(\"gradient_tape/sequential/lstm/RaggedToTensor/boolean_mask_1/GatherV2:0\", shape=(None,), dtype=int32), values=Tensor(\"gradient_tape/sequential/lstm/RaggedToTensor/boolean_mask/GatherV2:0\", shape=(None, 16), dtype=float32), dense_shape=Tensor(\"gradient_tape/sequential/lstm/RaggedToTensor/Shape:0\", shape=(2,), dtype=int32))) to a dense Tensor of unknown shape. This may consume a large amount of memory.\n",
      "  warnings.warn(\n"
     ]
    },
    {
     "name": "stdout",
     "output_type": "stream",
     "text": [
      "1134/1134 [==============================] - 3455s 3s/step - loss: 0.2117 - accuracy: 0.9189 - val_loss: 0.1630 - val_accuracy: 0.9423\n",
      "\n",
      "Epoch 00001: val_loss improved from inf to 0.16303, saving model to ..\\URL_checkpoints\\2021-09-10_19;13;08.969881_lstm3_valacc0.9423_e1\n"
     ]
    },
    {
     "name": "stderr",
     "output_type": "stream",
     "text": [
      "WARNING:absl:Found untraced functions such as lstm_cell_layer_call_fn, lstm_cell_layer_call_and_return_conditional_losses, lstm_cell_1_layer_call_fn, lstm_cell_1_layer_call_and_return_conditional_losses, lstm_cell_layer_call_fn while saving (showing 5 of 10). These functions will not be directly callable after loading.\n"
     ]
    },
    {
     "name": "stdout",
     "output_type": "stream",
     "text": [
      "INFO:tensorflow:Assets written to: ..\\URL_checkpoints\\2021-09-10_19;13;08.969881_lstm3_valacc0.9423_e1\\assets\n"
     ]
    },
    {
     "name": "stderr",
     "output_type": "stream",
     "text": [
      "INFO:tensorflow:Assets written to: ..\\URL_checkpoints\\2021-09-10_19;13;08.969881_lstm3_valacc0.9423_e1\\assets\n"
     ]
    },
    {
     "name": "stdout",
     "output_type": "stream",
     "text": [
      "Epoch 2/15\n",
      "1134/1134 [==============================] - 3546s 3s/step - loss: 0.1162 - accuracy: 0.9631 - val_loss: 0.0756 - val_accuracy: 0.9779\n",
      "\n",
      "Epoch 00002: val_loss improved from 0.16303 to 0.07565, saving model to ..\\URL_checkpoints\\2021-09-10_19;13;08.969881_lstm3_valacc0.9779_e2\n"
     ]
    },
    {
     "name": "stderr",
     "output_type": "stream",
     "text": [
      "WARNING:absl:Found untraced functions such as lstm_cell_layer_call_fn, lstm_cell_layer_call_and_return_conditional_losses, lstm_cell_1_layer_call_fn, lstm_cell_1_layer_call_and_return_conditional_losses, lstm_cell_layer_call_fn while saving (showing 5 of 10). These functions will not be directly callable after loading.\n"
     ]
    },
    {
     "name": "stdout",
     "output_type": "stream",
     "text": [
      "INFO:tensorflow:Assets written to: ..\\URL_checkpoints\\2021-09-10_19;13;08.969881_lstm3_valacc0.9779_e2\\assets\n"
     ]
    },
    {
     "name": "stderr",
     "output_type": "stream",
     "text": [
      "INFO:tensorflow:Assets written to: ..\\URL_checkpoints\\2021-09-10_19;13;08.969881_lstm3_valacc0.9779_e2\\assets\n"
     ]
    },
    {
     "name": "stdout",
     "output_type": "stream",
     "text": [
      "Epoch 3/15\n",
      "1134/1134 [==============================] - 3455s 3s/step - loss: 0.0807 - accuracy: 0.9745 - val_loss: 0.0839 - val_accuracy: 0.9784\n",
      "\n",
      "Epoch 00003: val_loss did not improve from 0.07565\n",
      "Epoch 4/15\n",
      "1134/1134 [==============================] - 3495s 3s/step - loss: 0.1622 - accuracy: 0.9406 - val_loss: 0.0951 - val_accuracy: 0.9721\n",
      "\n",
      "Epoch 00004: val_loss did not improve from 0.07565\n",
      "Epoch 5/15\n",
      "1134/1134 [==============================] - 3429s 3s/step - loss: 0.0587 - accuracy: 0.9803 - val_loss: 0.0581 - val_accuracy: 0.9751\n",
      "\n",
      "Epoch 00005: val_loss improved from 0.07565 to 0.05811, saving model to ..\\URL_checkpoints\\2021-09-10_19;13;08.969881_lstm3_valacc0.9751_e5\n"
     ]
    },
    {
     "name": "stderr",
     "output_type": "stream",
     "text": [
      "WARNING:absl:Found untraced functions such as lstm_cell_layer_call_fn, lstm_cell_layer_call_and_return_conditional_losses, lstm_cell_1_layer_call_fn, lstm_cell_1_layer_call_and_return_conditional_losses, lstm_cell_layer_call_fn while saving (showing 5 of 10). These functions will not be directly callable after loading.\n"
     ]
    },
    {
     "name": "stdout",
     "output_type": "stream",
     "text": [
      "INFO:tensorflow:Assets written to: ..\\URL_checkpoints\\2021-09-10_19;13;08.969881_lstm3_valacc0.9751_e5\\assets\n"
     ]
    },
    {
     "name": "stderr",
     "output_type": "stream",
     "text": [
      "INFO:tensorflow:Assets written to: ..\\URL_checkpoints\\2021-09-10_19;13;08.969881_lstm3_valacc0.9751_e5\\assets\n"
     ]
    },
    {
     "name": "stdout",
     "output_type": "stream",
     "text": [
      "Epoch 6/15\n",
      "1134/1134 [==============================] - 3447s 3s/step - loss: 0.0444 - accuracy: 0.9853 - val_loss: 0.0297 - val_accuracy: 0.9901\n",
      "\n",
      "Epoch 00006: val_loss improved from 0.05811 to 0.02974, saving model to ..\\URL_checkpoints\\2021-09-10_19;13;08.969881_lstm3_valacc0.9901_e6\n"
     ]
    },
    {
     "name": "stderr",
     "output_type": "stream",
     "text": [
      "WARNING:absl:Found untraced functions such as lstm_cell_layer_call_fn, lstm_cell_layer_call_and_return_conditional_losses, lstm_cell_1_layer_call_fn, lstm_cell_1_layer_call_and_return_conditional_losses, lstm_cell_layer_call_fn while saving (showing 5 of 10). These functions will not be directly callable after loading.\n"
     ]
    },
    {
     "name": "stdout",
     "output_type": "stream",
     "text": [
      "INFO:tensorflow:Assets written to: ..\\URL_checkpoints\\2021-09-10_19;13;08.969881_lstm3_valacc0.9901_e6\\assets\n"
     ]
    },
    {
     "name": "stderr",
     "output_type": "stream",
     "text": [
      "INFO:tensorflow:Assets written to: ..\\URL_checkpoints\\2021-09-10_19;13;08.969881_lstm3_valacc0.9901_e6\\assets\n"
     ]
    },
    {
     "name": "stdout",
     "output_type": "stream",
     "text": [
      "Epoch 7/15\n",
      "1134/1134 [==============================] - 3406s 3s/step - loss: 0.0394 - accuracy: 0.9863 - val_loss: 0.0355 - val_accuracy: 0.9879\n",
      "\n",
      "Epoch 00007: val_loss did not improve from 0.02974\n",
      "Epoch 8/15\n",
      "1134/1134 [==============================] - 3515s 3s/step - loss: 0.0468 - accuracy: 0.9842 - val_loss: 0.0602 - val_accuracy: 0.9759\n",
      "\n",
      "Epoch 00008: val_loss did not improve from 0.02974\n",
      "Epoch 9/15\n",
      "1134/1134 [==============================] - 3514s 3s/step - loss: 0.0412 - accuracy: 0.9864 - val_loss: 0.0319 - val_accuracy: 0.9894\n",
      "\n",
      "Epoch 00009: val_loss did not improve from 0.02974\n",
      "Epoch 10/15\n",
      "1134/1134 [==============================] - 3438s 3s/step - loss: 0.0330 - accuracy: 0.9891 - val_loss: 0.0205 - val_accuracy: 0.9941\n",
      "\n",
      "Epoch 00010: val_loss improved from 0.02974 to 0.02052, saving model to ..\\URL_checkpoints\\2021-09-10_19;13;08.969881_lstm3_valacc0.9941_e10\n"
     ]
    },
    {
     "name": "stderr",
     "output_type": "stream",
     "text": [
      "WARNING:absl:Found untraced functions such as lstm_cell_layer_call_fn, lstm_cell_layer_call_and_return_conditional_losses, lstm_cell_1_layer_call_fn, lstm_cell_1_layer_call_and_return_conditional_losses, lstm_cell_layer_call_fn while saving (showing 5 of 10). These functions will not be directly callable after loading.\n"
     ]
    },
    {
     "name": "stdout",
     "output_type": "stream",
     "text": [
      "INFO:tensorflow:Assets written to: ..\\URL_checkpoints\\2021-09-10_19;13;08.969881_lstm3_valacc0.9941_e10\\assets\n"
     ]
    },
    {
     "name": "stderr",
     "output_type": "stream",
     "text": [
      "INFO:tensorflow:Assets written to: ..\\URL_checkpoints\\2021-09-10_19;13;08.969881_lstm3_valacc0.9941_e10\\assets\n"
     ]
    },
    {
     "name": "stdout",
     "output_type": "stream",
     "text": [
      "Epoch 11/15\n",
      "1134/1134 [==============================] - 3421s 3s/step - loss: 0.0278 - accuracy: 0.9912 - val_loss: 0.0220 - val_accuracy: 0.9931\n",
      "\n",
      "Epoch 00011: val_loss did not improve from 0.02052\n",
      "Epoch 12/15\n",
      "1134/1134 [==============================] - 3421s 3s/step - loss: 0.0220 - accuracy: 0.9929 - val_loss: 0.0241 - val_accuracy: 0.9909\n",
      "\n",
      "Epoch 00012: val_loss did not improve from 0.02052\n",
      "Epoch 13/15\n",
      "1134/1134 [==============================] - 3423s 3s/step - loss: 0.0181 - accuracy: 0.9946 - val_loss: 0.0134 - val_accuracy: 0.9956\n",
      "\n",
      "Epoch 00013: val_loss improved from 0.02052 to 0.01341, saving model to ..\\URL_checkpoints\\2021-09-10_19;13;08.969881_lstm3_valacc0.9956_e13\n"
     ]
    },
    {
     "name": "stderr",
     "output_type": "stream",
     "text": [
      "WARNING:absl:Found untraced functions such as lstm_cell_layer_call_fn, lstm_cell_layer_call_and_return_conditional_losses, lstm_cell_1_layer_call_fn, lstm_cell_1_layer_call_and_return_conditional_losses, lstm_cell_layer_call_fn while saving (showing 5 of 10). These functions will not be directly callable after loading.\n"
     ]
    },
    {
     "name": "stdout",
     "output_type": "stream",
     "text": [
      "INFO:tensorflow:Assets written to: ..\\URL_checkpoints\\2021-09-10_19;13;08.969881_lstm3_valacc0.9956_e13\\assets\n"
     ]
    },
    {
     "name": "stderr",
     "output_type": "stream",
     "text": [
      "INFO:tensorflow:Assets written to: ..\\URL_checkpoints\\2021-09-10_19;13;08.969881_lstm3_valacc0.9956_e13\\assets\n"
     ]
    },
    {
     "name": "stdout",
     "output_type": "stream",
     "text": [
      "Epoch 14/15\n",
      "1134/1134 [==============================] - 3506s 3s/step - loss: 0.0152 - accuracy: 0.9953 - val_loss: 0.0160 - val_accuracy: 0.9940\n",
      "\n",
      "Epoch 00014: val_loss did not improve from 0.01341\n",
      "Epoch 15/15\n",
      "1134/1134 [==============================] - 3434s 3s/step - loss: 0.0160 - accuracy: 0.9951 - val_loss: 0.0144 - val_accuracy: 0.9964\n",
      "\n",
      "Epoch 00015: val_loss did not improve from 0.01341\n"
     ]
    }
   ],
   "source": [
    "epochs=15\n",
    "history = model.fit(\n",
    "  train_ds,\n",
    "  validation_data=val_ds,\n",
    "  epochs=epochs,\n",
    "  callbacks=callbacks\n",
    ")"
   ]
  },
  {
   "cell_type": "markdown",
   "metadata": {
    "id": "-DXnGUtEL15r",
    "tags": []
   },
   "source": [
    "## Save model"
   ]
  },
  {
   "cell_type": "code",
   "execution_count": 26,
   "metadata": {
    "colab": {
     "base_uri": "https://localhost:8080/"
    },
    "executionInfo": {
     "elapsed": 2634,
     "status": "ok",
     "timestamp": 1627039381161,
     "user": {
      "displayName": "Ali Aldakheel",
      "photoUrl": "",
      "userId": "12596700705790486557"
     },
     "user_tz": -180
    },
    "id": "iAIQ6Jqh69Gp",
    "outputId": "00bf923d-9dee-403c-a150-cc81cd175bc1"
   },
   "outputs": [
    {
     "name": "stderr",
     "output_type": "stream",
     "text": [
      "WARNING:absl:Found untraced functions such as lstm_cell_layer_call_fn, lstm_cell_layer_call_and_return_conditional_losses, lstm_cell_1_layer_call_fn, lstm_cell_1_layer_call_and_return_conditional_losses, lstm_cell_layer_call_fn while saving (showing 5 of 10). These functions will not be directly callable after loading.\n"
     ]
    },
    {
     "name": "stdout",
     "output_type": "stream",
     "text": [
      "INFO:tensorflow:Assets written to: ..\\URL_models\\2021-09-10_19;13;08.969881_lstm3_valacc0.9964_e15_b32.tf\\assets\n"
     ]
    },
    {
     "name": "stderr",
     "output_type": "stream",
     "text": [
      "INFO:tensorflow:Assets written to: ..\\URL_models\\2021-09-10_19;13;08.969881_lstm3_valacc0.9964_e15_b32.tf\\assets\n"
     ]
    }
   ],
   "source": [
    "val_acc = history.history['val_accuracy']\n",
    "model.save(model_dir / f\"{date}_{model_name}_valacc{val_acc[-1]:0.4f}_e{len(val_acc)}_b{batch_size}.tf\",\n",
    "           include_optimizer=True)"
   ]
  },
  {
   "cell_type": "markdown",
   "metadata": {
    "id": "ZgRCssRQOuSG",
    "tags": []
   },
   "source": [
    "## Load model"
   ]
  },
  {
   "cell_type": "code",
   "execution_count": 27,
   "metadata": {
    "id": "GvIygUewOwKU"
   },
   "outputs": [],
   "source": [
    "# change filename to the model you want to load\n",
    "model_filename = \"2021-09-07_22;02;50.725602_lstm2_valacc0.9734_e9\"\n",
    "model2 = keras.models.load_model(\n",
    "    checkpoint_dir / model_filename,\n",
    "    compile=True)"
   ]
  },
  {
   "cell_type": "markdown",
   "metadata": {
    "id": "11q3ScM368U4",
    "tags": []
   },
   "source": [
    "## Visulaize loss and acc"
   ]
  },
  {
   "cell_type": "code",
   "execution_count": 28,
   "metadata": {
    "colab": {
     "base_uri": "https://localhost:8080/"
    },
    "executionInfo": {
     "elapsed": 444,
     "status": "ok",
     "timestamp": 1627039181929,
     "user": {
      "displayName": "Ali Aldakheel",
      "photoUrl": "",
      "userId": "12596700705790486557"
     },
     "user_tz": -180
    },
    "id": "dmtvkA2uFfYl",
    "outputId": "1ee2a0ea-8c85-4ab8-c804-2fa9d51a4cb0"
   },
   "outputs": [
    {
     "data": {
      "text/plain": [
       "{'loss': [0.21166430413722992,\n",
       "  0.11620107293128967,\n",
       "  0.08065368235111237,\n",
       "  0.16223321855068207,\n",
       "  0.058749597519636154,\n",
       "  0.04439052566885948,\n",
       "  0.03938120976090431,\n",
       "  0.04684519022703171,\n",
       "  0.041236914694309235,\n",
       "  0.03299825266003609,\n",
       "  0.027780240401625633,\n",
       "  0.021978652104735374,\n",
       "  0.018111038953065872,\n",
       "  0.015239947475492954,\n",
       "  0.01601334474980831],\n",
       " 'accuracy': [0.918924868106842,\n",
       "  0.9630874991416931,\n",
       "  0.9744727611541748,\n",
       "  0.9406202435493469,\n",
       "  0.9803445935249329,\n",
       "  0.9853066802024841,\n",
       "  0.9862990975379944,\n",
       "  0.9842315912246704,\n",
       "  0.9864093661308289,\n",
       "  0.9891109466552734,\n",
       "  0.9912060499191284,\n",
       "  0.9928876757621765,\n",
       "  0.9945968389511108,\n",
       "  0.9953411221504211,\n",
       "  0.9951205849647522],\n",
       " 'val_loss': [0.16303017735481262,\n",
       "  0.07564522325992584,\n",
       "  0.0839310884475708,\n",
       "  0.09512528032064438,\n",
       "  0.058106064796447754,\n",
       "  0.02974073402583599,\n",
       "  0.03554679453372955,\n",
       "  0.06021622568368912,\n",
       "  0.031865376979112625,\n",
       "  0.020521944388747215,\n",
       "  0.022030839696526527,\n",
       "  0.024123147130012512,\n",
       "  0.013405424542725086,\n",
       "  0.01603909209370613,\n",
       "  0.014387893490493298],\n",
       " 'val_accuracy': [0.9422760009765625,\n",
       "  0.9778724312782288,\n",
       "  0.978422224521637,\n",
       "  0.9721000790596008,\n",
       "  0.9751237034797668,\n",
       "  0.9901044368743896,\n",
       "  0.9879054427146912,\n",
       "  0.9759483337402344,\n",
       "  0.9894172549247742,\n",
       "  0.9940901398658752,\n",
       "  0.9931281208992004,\n",
       "  0.9909290671348572,\n",
       "  0.9956019520759583,\n",
       "  0.9939526915550232,\n",
       "  0.9964265823364258]}"
      ]
     },
     "execution_count": 28,
     "metadata": {},
     "output_type": "execute_result"
    }
   ],
   "source": [
    "history.history"
   ]
  },
  {
   "cell_type": "code",
   "execution_count": 29,
   "metadata": {
    "colab": {
     "base_uri": "https://localhost:8080/",
     "height": 246
    },
    "executionInfo": {
     "elapsed": 518,
     "status": "error",
     "timestamp": 1627040339197,
     "user": {
      "displayName": "Ali Aldakheel",
      "photoUrl": "",
      "userId": "12596700705790486557"
     },
     "user_tz": -180
    },
    "id": "2bMbpTTF7EDC",
    "outputId": "291f281e-43a9-42f0-b90c-5e59a91c7c18"
   },
   "outputs": [
    {
     "data": {
      "image/png": "[encoded data removed]",
      "text/plain": [
       "<Figure size 1440x576 with 2 Axes>"
      ]
     },
     "metadata": {
      "needs_background": "light"
     },
     "output_type": "display_data"
    }
   ],
   "source": [
    "import matplotlib.pyplot as plt\n",
    "\n",
    "acc = history.history['accuracy']\n",
    "val_acc = history.history['val_accuracy']\n",
    "\n",
    "loss = history.history['loss']\n",
    "val_loss = history.history['val_loss']\n",
    "\n",
    "# epochs_range = range(epochs)\n",
    "epochs_range = history.epoch\n",
    "\n",
    "plt.figure(figsize=(20, 8))\n",
    "plt.subplot(1, 2, 1)\n",
    "plt.plot(epochs_range, acc, label='Training Accuracy')\n",
    "plt.plot(epochs_range, val_acc, label='Validation Accuracy')\n",
    "plt.legend(loc='lower right')\n",
    "plt.title('Training and Validation Accuracy')\n",
    "\n",
    "plt.subplot(1, 2, 2)\n",
    "plt.plot(epochs_range, loss, label='Training Loss')\n",
    "plt.plot(epochs_range, val_loss, label='Validation Loss')\n",
    "plt.legend(loc='upper right')\n",
    "plt.title('Training and Validation Loss')\n",
    "plt.show()\n"
   ]
  },
  {
   "cell_type": "markdown",
   "metadata": {
    "id": "aIrHRI2QEx_u",
    "tags": []
   },
   "source": [
    "## Evaluate (test)"
   ]
  },
  {
   "cell_type": "code",
   "execution_count": 30,
   "metadata": {},
   "outputs": [
    {
     "name": "stdout",
     "output_type": "stream",
     "text": [
      "228/228 [==============================] - 56s 247ms/step - loss: 0.0144 - accuracy: 0.9964\n",
      "val loss, val acc: [0.014387893490493298, 0.9964265823364258]\n"
     ]
    }
   ],
   "source": [
    "val_results = model.evaluate(val_ds, batch_size=256)\n",
    "print(\"val loss, val acc:\", val_results)"
   ]
  },
  {
   "cell_type": "code",
   "execution_count": 31,
   "metadata": {},
   "outputs": [
    {
     "name": "stdout",
     "output_type": "stream",
     "text": [
      "228/228 [==============================] - 56s 244ms/step - loss: 0.1130 - accuracy: 0.9736\n",
      "val loss, val acc: [0.11301612854003906, 0.9736118912696838]\n"
     ]
    }
   ],
   "source": [
    "val_results = model2.evaluate(val_ds, batch_size=256)\n",
    "print(\"val loss, val acc:\", val_results)"
   ]
  },
  {
   "cell_type": "code",
   "execution_count": 32,
   "metadata": {
    "colab": {
     "base_uri": "https://localhost:8080/"
    },
    "executionInfo": {
     "elapsed": 34443,
     "status": "ok",
     "timestamp": 1627038897991,
     "user": {
      "displayName": "Ali Aldakheel",
      "photoUrl": "",
      "userId": "12596700705790486557"
     },
     "user_tz": -180
    },
    "id": "J-hua9SLE2EZ",
    "outputId": "c2a8162e-17c2-4019-9cdb-730d30584fc2"
   },
   "outputs": [
    {
     "name": "stdout",
     "output_type": "stream",
     "text": [
      "56/56 [==============================] - 14s 246ms/step - loss: 0.0194 - accuracy: 0.9950\n",
      "test loss, test acc: [0.019357038661837578, 0.9949776530265808]\n"
     ]
    }
   ],
   "source": [
    "results = model.evaluate(test_ds, batch_size=32)\n",
    "print(\"test loss, test acc:\", results)\n"
   ]
  },
  {
   "cell_type": "code",
   "execution_count": 33,
   "metadata": {
    "colab": {
     "base_uri": "https://localhost:8080/"
    },
    "executionInfo": {
     "elapsed": 34443,
     "status": "ok",
     "timestamp": 1627038897991,
     "user": {
      "displayName": "Ali Aldakheel",
      "photoUrl": "",
      "userId": "12596700705790486557"
     },
     "user_tz": -180
    },
    "id": "J-hua9SLE2EZ",
    "outputId": "c2a8162e-17c2-4019-9cdb-730d30584fc2"
   },
   "outputs": [
    {
     "name": "stdout",
     "output_type": "stream",
     "text": [
      "56/56 [==============================] - 14s 246ms/step - loss: 0.1307 - accuracy: 0.9738\n",
      "test loss, test acc: [0.13069000840187073, 0.9737723469734192]\n"
     ]
    }
   ],
   "source": [
    "results = model2.evaluate(test_ds, batch_size=32)\n",
    "print(\"test loss, test acc:\", results)\n"
   ]
  },
  {
   "cell_type": "code",
   "execution_count": 34,
   "metadata": {},
   "outputs": [
    {
     "data": {
      "text/plain": [
       "56"
      ]
     },
     "execution_count": 34,
     "metadata": {},
     "output_type": "execute_result"
    }
   ],
   "source": [
    "test_ds.cardinality().numpy()"
   ]
  }
 ],
 "metadata": {
  "accelerator": "GPU",
  "colab": {
   "authorship_tag": "ABX9TyNqKpFqEFCkBkAyw9y52SGT",
   "collapsed_sections": [
    "dHlUmDItlkDG",
    "eyBLm8_g46iI"
   ],
   "name": "train_custom1.ipynb",
   "provenance": []
  },
  "kernelspec": {
   "display_name": "Python 3 (ipykernel)",
   "language": "python",
   "name": "python3"
  },
  "language_info": {
   "codemirror_mode": {
    "name": "ipython",
    "version": 3
   },
   "file_extension": ".py",
   "mimetype": "text/x-python",
   "name": "python",
   "nbconvert_exporter": "python",
   "pygments_lexer": "ipython3",
   "version": "3.9.1"
  },
  "toc-showmarkdowntxt": false
 },
 "nbformat": 4,
 "nbformat_minor": 4
}
