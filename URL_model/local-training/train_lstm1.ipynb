{
 "cells": [
  {
   "cell_type": "markdown",
   "metadata": {
    "id": "soMhYc4P77fV",
    "tags": []
   },
   "source": [
    "# Train lstm1 model for phishing URL detection"
   ]
  },
  {
   "cell_type": "markdown",
   "metadata": {
    "id": "u2YTssE57qRc",
    "tags": []
   },
   "source": [
    "## Imports"
   ]
  },
  {
   "cell_type": "code",
   "execution_count": 1,
   "metadata": {
    "executionInfo": {
     "elapsed": 8574,
     "status": "ok",
     "timestamp": 1627036881636,
     "user": {
      "displayName": "Ali Aldakheel",
      "photoUrl": "",
      "userId": "12596700705790486557"
     },
     "user_tz": -180
    },
    "id": "4exj7qwIelgQ"
   },
   "outputs": [],
   "source": [
    "import numpy as np\n",
    "import os\n",
    "import pathlib\n",
    "\n",
    "import tensorflow as tf\n",
    "from tensorflow import keras\n",
    "from tensorflow.keras import layers, regularizers\n",
    "from tensorflow.keras.models import Sequential\n",
    "\n",
    "import tensorflow_text as tf_text"
   ]
  },
  {
   "cell_type": "code",
   "execution_count": 2,
   "metadata": {
    "executionInfo": {
     "elapsed": 14,
     "status": "ok",
     "timestamp": 1627036881642,
     "user": {
      "displayName": "Ali Aldakheel",
      "photoUrl": "",
      "userId": "12596700705790486557"
     },
     "user_tz": -180
    },
    "id": "8M-gp20qghxf"
   },
   "outputs": [],
   "source": [
    "dataset_dir = pathlib.Path(\"../URL_dataset/\")\n",
    "model_dir = pathlib.Path('../URL_models/')\n",
    "checkpoint_dir = pathlib.Path('../URL_checkpoints/')"
   ]
  },
  {
   "cell_type": "code",
   "execution_count": 3,
   "metadata": {
    "colab": {
     "base_uri": "https://localhost:8080/"
    },
    "executionInfo": {
     "elapsed": 391,
     "status": "ok",
     "timestamp": 1627036886209,
     "user": {
      "displayName": "Ali Aldakheel",
      "photoUrl": "",
      "userId": "12596700705790486557"
     },
     "user_tz": -180
    },
    "id": "0fRvRc6lPzCJ",
    "outputId": "4e2ad655-fa0c-4595-9112-8983ff5783d1"
   },
   "outputs": [
    {
     "name": "stdout",
     "output_type": "stream",
     "text": [
      "2021-08-19_20;05;32.036830\n"
     ]
    }
   ],
   "source": [
    "import datetime\n",
    "date = datetime.datetime.now()\n",
    "date = '_'.join(str(date).split()).replace(':', ';')\n",
    "print(date)"
   ]
  },
  {
   "cell_type": "code",
   "execution_count": 4,
   "metadata": {
    "colab": {
     "base_uri": "https://localhost:8080/"
    },
    "executionInfo": {
     "elapsed": 14,
     "status": "ok",
     "timestamp": 1627036881645,
     "user": {
      "displayName": "Ali Aldakheel",
      "photoUrl": "",
      "userId": "12596700705790486557"
     },
     "user_tz": -180
    },
    "id": "G329MQIkhF2Z",
    "outputId": "1acbdf69-23f8-483a-a3f4-d2a339b077f3",
    "tags": []
   },
   "outputs": [
    {
     "data": {
      "text/plain": [
       "['benign', 'phishing']"
      ]
     },
     "execution_count": 4,
     "metadata": {},
     "output_type": "execute_result"
    }
   ],
   "source": [
    "os.listdir(dataset_dir)"
   ]
  },
  {
   "cell_type": "markdown",
   "metadata": {
    "id": "VQa6ueGT7kYf",
    "tags": []
   },
   "source": [
    "## Params"
   ]
  },
  {
   "cell_type": "code",
   "execution_count": 5,
   "metadata": {
    "executionInfo": {
     "elapsed": 569,
     "status": "ok",
     "timestamp": 1627036888443,
     "user": {
      "displayName": "Ali Aldakheel",
      "photoUrl": "",
      "userId": "12596700705790486557"
     },
     "user_tz": -180
    },
    "id": "ek7tR5IDhNz_"
   },
   "outputs": [],
   "source": [
    "model_name = \"lstm1\"\n",
    "batch_size = 16\n",
    "rest_split_ratio = 0.2\n",
    "test_split_ratio = 0.2\n",
    "\n",
    "unicode_max = 1114111"
   ]
  },
  {
   "cell_type": "markdown",
   "metadata": {
    "tags": []
   },
   "source": [
    "## Load dataset"
   ]
  },
  {
   "cell_type": "code",
   "execution_count": 6,
   "metadata": {
    "colab": {
     "base_uri": "https://localhost:8080/"
    },
    "executionInfo": {
     "elapsed": 6922,
     "status": "ok",
     "timestamp": 1627036896890,
     "user": {
      "displayName": "Ali Aldakheel",
      "photoUrl": "",
      "userId": "12596700705790486557"
     },
     "user_tz": -180
    },
    "id": "PRnzdwr0iEJH",
    "outputId": "716cdd80-319b-4a9a-e19b-bf1aea153282"
   },
   "outputs": [
    {
     "name": "stdout",
     "output_type": "stream",
     "text": [
      "Found 45343 files belonging to 2 classes.\n",
      "Using 36275 files for training.\n"
     ]
    }
   ],
   "source": [
    "train_ds = keras.preprocessing.text_dataset_from_directory(\n",
    "  dataset_dir,\n",
    "  validation_split=rest_split_ratio,\n",
    "  subset=\"training\",\n",
    "  label_mode = 'binary',\n",
    "  seed=132,\n",
    "  batch_size=batch_size)"
   ]
  },
  {
   "cell_type": "code",
   "execution_count": 7,
   "metadata": {
    "colab": {
     "base_uri": "https://localhost:8080/"
    },
    "executionInfo": {
     "elapsed": 625,
     "status": "ok",
     "timestamp": 1627036899112,
     "user": {
      "displayName": "Ali Aldakheel",
      "photoUrl": "",
      "userId": "12596700705790486557"
     },
     "user_tz": -180
    },
    "id": "WK0GzS01jr6f",
    "outputId": "cd973b86-a058-4780-9d4c-0d73e8bda940"
   },
   "outputs": [
    {
     "name": "stdout",
     "output_type": "stream",
     "text": [
      "Found 45343 files belonging to 2 classes.\n",
      "Using 9068 files for validation.\n"
     ]
    }
   ],
   "source": [
    "rest_ds = keras.preprocessing.text_dataset_from_directory(\n",
    "  dataset_dir,\n",
    "  validation_split=rest_split_ratio,\n",
    "  subset=\"validation\",\n",
    "  label_mode='binary',\n",
    "  seed=132,\n",
    "  batch_size=batch_size)"
   ]
  },
  {
   "cell_type": "code",
   "execution_count": 8,
   "metadata": {},
   "outputs": [
    {
     "name": "stdout",
     "output_type": "stream",
     "text": [
      "567\n"
     ]
    }
   ],
   "source": [
    "rest_batches = rest_ds.cardinality().numpy()\n",
    "print(rest_batches)"
   ]
  },
  {
   "cell_type": "code",
   "execution_count": 9,
   "metadata": {
    "executionInfo": {
     "elapsed": 4,
     "status": "ok",
     "timestamp": 1627036900606,
     "user": {
      "displayName": "Ali Aldakheel",
      "photoUrl": "",
      "userId": "12596700705790486557"
     },
     "user_tz": -180
    },
    "id": "sqPRjan5JGnW"
   },
   "outputs": [],
   "source": [
    "val_ds = rest_ds.skip(int(rest_batches * test_split_ratio // batch_size))\n",
    "test_ds = rest_ds.take(int(rest_batches * test_split_ratio // batch_size))"
   ]
  },
  {
   "cell_type": "code",
   "execution_count": 10,
   "metadata": {
    "executionInfo": {
     "elapsed": 430,
     "status": "ok",
     "timestamp": 1627036908402,
     "user": {
      "displayName": "Ali Aldakheel",
      "photoUrl": "",
      "userId": "12596700705790486557"
     },
     "user_tz": -180
    },
    "id": "k2b1o4O3ZdUd"
   },
   "outputs": [],
   "source": [
    "class_names = train_ds.class_names"
   ]
  },
  {
   "cell_type": "code",
   "execution_count": 11,
   "metadata": {
    "colab": {
     "base_uri": "https://localhost:8080/"
    },
    "executionInfo": {
     "elapsed": 4,
     "status": "ok",
     "timestamp": 1627036909617,
     "user": {
      "displayName": "Ali Aldakheel",
      "photoUrl": "",
      "userId": "12596700705790486557"
     },
     "user_tz": -180
    },
    "id": "j2cn01Nrk91s",
    "outputId": "0f358a96-666d-43d4-bee0-76eb122e6b6a"
   },
   "outputs": [
    {
     "data": {
      "text/plain": [
       "['benign', 'phishing']"
      ]
     },
     "execution_count": 11,
     "metadata": {},
     "output_type": "execute_result"
    }
   ],
   "source": [
    "class_names"
   ]
  },
  {
   "cell_type": "markdown",
   "metadata": {
    "tags": []
   },
   "source": [
    "## Explore dataset"
   ]
  },
  {
   "cell_type": "code",
   "execution_count": 12,
   "metadata": {},
   "outputs": [],
   "source": [
    "b = train_ds.take(1)"
   ]
  },
  {
   "cell_type": "code",
   "execution_count": 13,
   "metadata": {},
   "outputs": [
    {
     "data": {
      "text/plain": [
       "<TakeDataset shapes: ((None,), (None, 1)), types: (tf.string, tf.float32)>"
      ]
     },
     "execution_count": 13,
     "metadata": {},
     "output_type": "execute_result"
    }
   ],
   "source": [
    "b"
   ]
  },
  {
   "cell_type": "code",
   "execution_count": 14,
   "metadata": {},
   "outputs": [
    {
     "name": "stdout",
     "output_type": "stream",
     "text": [
      "tf.Tensor(\n",
      "[[0.]\n",
      " [1.]\n",
      " [0.]\n",
      " [0.]\n",
      " [0.]\n",
      " [1.]\n",
      " [0.]\n",
      " [0.]\n",
      " [0.]\n",
      " [1.]\n",
      " [0.]\n",
      " [0.]\n",
      " [1.]\n",
      " [0.]\n",
      " [0.]\n",
      " [0.]], shape=(16, 1), dtype=float32) tf.Tensor(\n",
      "[b'http://olx.ro/i2/electronice-si-electrocasnice/telefoane-mobile/telefoane-fixe-fax/gtm.js'\n",
      " b'http://guldmakind.prv.pl/?subtopic=signup'\n",
      " b'http://searchengineland.com/google-overtakes-traditonal-media-become-trusted-source-news-online-213176'\n",
      " b'http://censor.net.ua/resonance/330659/aleksandr_yaroslavskiyi_kogda_klub_vozglavlyaet_kloun_vse_mojet_byt'\n",
      " b'http://irecommend.ru/content/koftochka-aliexpress-free-shipping-2015-male-child-letter-urban-cotton-white-hood-sweatshirt'\n",
      " b'http://appleid.apple.co.uk.cgi-bin.webobjects.myappleid.woa.verify2.eu-id3.net/identify-customer=r3cZu4QGsRB0bu4pyomoXlEZkQrwQUYKbPz7Ye2MeaiqBiLntI6nwEXLuMkoxYikZcRPrRR5faT6rYz726zg9a7ePsToDpxRa8xj/'\n",
      " b'http://1337x.to/torrent/1160325/White-Noise-Meditation-10-Hz-Alpha-Ocean-Wave-Extended-Version-FLAC/'\n",
      " b'http://tunein.com/radio/CJRI-FM-1045-s95982/15480783/ca-pub-1542925551861702/StationLeader'\n",
      " b'http://icicibank.com/Personal-Banking/cards/prepaid/Saral_Money_Prepaid_Card/fees-and-charges.page'\n",
      " b'http://appleid.apple.co.uk.cgi-bin.webobjects.myappleid.woa.verify5.eu-id3.net/identify-customer=06HsX391zuKrEjSMvcoeI7l8q14UoIUGvUeDLwtf0B36MWRJbrvrn6mxERhCQYVgq7vH0CfFjbhbAPFX01bkIevEpBQhXguCTosy/'\n",
      " b'http://maybank2u.com.my/mbb_info/m2u/public/personalDetail04.do?channelId=ACC-Accounts&cntTypeId=0&cntKey=ACC09.21&programId=ACC01-SavingsAccounts&chCatId=/mbb/Personal/ACC-Accounts'\n",
      " b'http://distractify.com/post/related/id/55033a0c4a0c4bc821caa830/skip/40/limit/10/back/0'\n",
      " b'http://pastehtml.com/view/bfwy9vje3.html'\n",
      " b'http://olx.co.id/i2/hobi-olahraga/olahraga/memancing/hobi-olahraga/olahraga/memancing'\n",
      " b'https://medium.com/@nycmedialab/the-machines-who-came-to-dinner-7f483516d2d5?source=has-recommended'\n",
      " b'http://olx.pl/uslugi-firmy/kategorie/zZpLcm8bkGplJYqOhgM_xHZGXmeBmftDTbtoXzUCEW7.H7'], shape=(16,), dtype=string)\n"
     ]
    }
   ],
   "source": [
    "for d, label in b:\n",
    "    print(label, d)"
   ]
  },
  {
   "cell_type": "markdown",
   "metadata": {
    "tags": []
   },
   "source": [
    "## Standarize the dataset"
   ]
  },
  {
   "cell_type": "code",
   "execution_count": 15,
   "metadata": {},
   "outputs": [],
   "source": [
    "# No standarization for now\n",
    "\n",
    "# train_ds = train_ds.map(lambda x, y: (normalization_layer(x), y))\n",
    "# val_ds = val_ds.map(lambda x, y: (normalization_layer(x), y))\n",
    "# test_ds = test_ds.map(lambda x, y: (normalization_layer(x), y))"
   ]
  },
  {
   "cell_type": "markdown",
   "metadata": {},
   "source": [
    "## Vectorize"
   ]
  },
  {
   "cell_type": "markdown",
   "metadata": {},
   "source": [
    "Cannot use the vectorization layers since it is not supported in TFJS; we can rather have a custom tokenizer which can be then exported as json then loaded in JS"
   ]
  },
  {
   "cell_type": "code",
   "execution_count": 16,
   "metadata": {},
   "outputs": [],
   "source": [
    "tokenizer = tf_text.UnicodeCharTokenizer()"
   ]
  },
  {
   "cell_type": "code",
   "execution_count": 17,
   "metadata": {},
   "outputs": [
    {
     "data": {
      "text/plain": [
       "<tf.RaggedTensor [[104, 116, 116, 112, 58, 47, 47, 111, 108, 120, 46, 114, 111, 47, 105, 50, 47, 101, 108, 101, 99, 116, 114, 111, 110, 105, 99, 101, 45, 115, 105, 45, 101, 108, 101, 99, 116, 114, 111, 99, 97, 115, 110, 105, 99, 101, 47, 116, 101, 108, 101, 102, 111, 97, 110, 101, 45, 109, 111, 98, 105, 108, 101, 47, 116, 101, 108, 101, 102, 111, 97, 110, 101, 45, 102, 105, 120, 101, 45, 102, 97, 120, 47, 103, 116, 109, 46, 106, 115], [104, 116, 116, 112, 58, 47, 47, 103, 117, 108, 100, 109, 97, 107, 105, 110, 100, 46, 112, 114, 118, 46, 112, 108, 47, 63, 115, 117, 98, 116, 111, 112, 105, 99, 61, 115, 105, 103, 110, 117, 112], [104, 116, 116, 112, 58, 47, 47, 115, 101, 97, 114, 99, 104, 101, 110, 103, 105, 110, 101, 108, 97, 110, 100, 46, 99, 111, 109, 47, 103, 111, 111, 103, 108, 101, 45, 111, 118, 101, 114, 116, 97, 107, 101, 115, 45, 116, 114, 97, 100, 105, 116, 111, 110, 97, 108, 45, 109, 101, 100, 105, 97, 45, 98, 101, 99, 111, 109, 101, 45, 116, 114, 117, 115, 116, 101, 100, 45, 115, 111, 117, 114, 99, 101, 45, 110, 101, 119, 115, 45, 111, 110, 108, 105, 110, 101, 45, 50, 49, 51, 49, 55, 54], [104, 116, 116, 112, 58, 47, 47, 99, 101, 110, 115, 111, 114, 46, 110, 101, 116, 46, 117, 97, 47, 114, 101, 115, 111, 110, 97, 110, 99, 101, 47, 51, 51, 48, 54, 53, 57, 47, 97, 108, 101, 107, 115, 97, 110, 100, 114, 95, 121, 97, 114, 111, 115, 108, 97, 118, 115, 107, 105, 121, 105, 95, 107, 111, 103, 100, 97, 95, 107, 108, 117, 98, 95, 118, 111, 122, 103, 108, 97, 118, 108, 121, 97, 101, 116, 95, 107, 108, 111, 117, 110, 95, 118, 115, 101, 95, 109, 111, 106, 101, 116, 95, 98, 121, 116], [104, 116, 116, 112, 58, 47, 47, 105, 114, 101, 99, 111, 109, 109, 101, 110, 100, 46, 114, 117, 47, 99, 111, 110, 116, 101, 110, 116, 47, 107, 111, 102, 116, 111, 99, 104, 107, 97, 45, 97, 108, 105, 101, 120, 112, 114, 101, 115, 115, 45, 102, 114, 101, 101, 45, 115, 104, 105, 112, 112, 105, 110, 103, 45, 50, 48, 49, 53, 45, 109, 97, 108, 101, 45, 99, 104, 105, 108, 100, 45, 108, 101, 116, 116, 101, 114, 45, 117, 114, 98, 97, 110, 45, 99, 111, 116, 116, 111, 110, 45, 119, 104, 105, 116, 101, 45, 104, 111, 111, 100, 45, 115, 119, 101, 97, 116, 115, 104, 105, 114, 116], [104, 116, 116, 112, 58, 47, 47, 97, 112, 112, 108, 101, 105, 100, 46, 97, 112, 112, 108, 101, 46, 99, 111, 46, 117, 107, 46, 99, 103, 105, 45, 98, 105, 110, 46, 119, 101, 98, 111, 98, 106, 101, 99, 116, 115, 46, 109, 121, 97, 112, 112, 108, 101, 105, 100, 46, 119, 111, 97, 46, 118, 101, 114, 105, 102, 121, 50, 46, 101, 117, 45, 105, 100, 51, 46, 110, 101, 116, 47, 105, 100, 101, 110, 116, 105, 102, 121, 45, 99, 117, 115, 116, 111, 109, 101, 114, 61, 114, 51, 99, 90, 117, 52, 81, 71, 115, 82, 66, 48, 98, 117, 52, 112, 121, 111, 109, 111, 88, 108, 69, 90, 107, 81, 114, 119, 81, 85, 89, 75, 98, 80, 122, 55, 89, 101, 50, 77, 101, 97, 105, 113, 66, 105, 76, 110, 116, 73, 54, 110, 119, 69, 88, 76, 117, 77, 107, 111, 120, 89, 105, 107, 90, 99, 82, 80, 114, 82, 82, 53, 102, 97, 84, 54, 114, 89, 122, 55, 50, 54, 122, 103, 57, 97, 55, 101, 80, 115, 84, 111, 68, 112, 120, 82, 97, 56, 120, 106, 47], [104, 116, 116, 112, 58, 47, 47, 49, 51, 51, 55, 120, 46, 116, 111, 47, 116, 111, 114, 114, 101, 110, 116, 47, 49, 49, 54, 48, 51, 50, 53, 47, 87, 104, 105, 116, 101, 45, 78, 111, 105, 115, 101, 45, 77, 101, 100, 105, 116, 97, 116, 105, 111, 110, 45, 49, 48, 45, 72, 122, 45, 65, 108, 112, 104, 97, 45, 79, 99, 101, 97, 110, 45, 87, 97, 118, 101, 45, 69, 120, 116, 101, 110, 100, 101, 100, 45, 86, 101, 114, 115, 105, 111, 110, 45, 70, 76, 65, 67, 47], [104, 116, 116, 112, 58, 47, 47, 116, 117, 110, 101, 105, 110, 46, 99, 111, 109, 47, 114, 97, 100, 105, 111, 47, 67, 74, 82, 73, 45, 70, 77, 45, 49, 48, 52, 53, 45, 115, 57, 53, 57, 56, 50, 47, 49, 53, 52, 56, 48, 55, 56, 51, 47, 99, 97, 45, 112, 117, 98, 45, 49, 53, 52, 50, 57, 50, 53, 53, 53, 49, 56, 54, 49, 55, 48, 50, 47, 83, 116, 97, 116, 105, 111, 110, 76, 101, 97, 100, 101, 114], [104, 116, 116, 112, 58, 47, 47, 105, 99, 105, 99, 105, 98, 97, 110, 107, 46, 99, 111, 109, 47, 80, 101, 114, 115, 111, 110, 97, 108, 45, 66, 97, 110, 107, 105, 110, 103, 47, 99, 97, 114, 100, 115, 47, 112, 114, 101, 112, 97, 105, 100, 47, 83, 97, 114, 97, 108, 95, 77, 111, 110, 101, 121, 95, 80, 114, 101, 112, 97, 105, 100, 95, 67, 97, 114, 100, 47, 102, 101, 101, 115, 45, 97, 110, 100, 45, 99, 104, 97, 114, 103, 101, 115, 46, 112, 97, 103, 101], [104, 116, 116, 112, 58, 47, 47, 97, 112, 112, 108, 101, 105, 100, 46, 97, 112, 112, 108, 101, 46, 99, 111, 46, 117, 107, 46, 99, 103, 105, 45, 98, 105, 110, 46, 119, 101, 98, 111, 98, 106, 101, 99, 116, 115, 46, 109, 121, 97, 112, 112, 108, 101, 105, 100, 46, 119, 111, 97, 46, 118, 101, 114, 105, 102, 121, 53, 46, 101, 117, 45, 105, 100, 51, 46, 110, 101, 116, 47, 105, 100, 101, 110, 116, 105, 102, 121, 45, 99, 117, 115, 116, 111, 109, 101, 114, 61, 48, 54, 72, 115, 88, 51, 57, 49, 122, 117, 75, 114, 69, 106, 83, 77, 118, 99, 111, 101, 73, 55, 108, 56, 113, 49, 52, 85, 111, 73, 85, 71, 118, 85, 101, 68, 76, 119, 116, 102, 48, 66, 51, 54, 77, 87, 82, 74, 98, 114, 118, 114, 110, 54, 109, 120, 69, 82, 104, 67, 81, 89, 86, 103, 113, 55, 118, 72, 48, 67, 102, 70, 106, 98, 104, 98, 65, 80, 70, 88, 48, 49, 98, 107, 73, 101, 118, 69, 112, 66, 81, 104, 88, 103, 117, 67, 84, 111, 115, 121, 47], [104, 116, 116, 112, 58, 47, 47, 109, 97, 121, 98, 97, 110, 107, 50, 117, 46, 99, 111, 109, 46, 109, 121, 47, 109, 98, 98, 95, 105, 110, 102, 111, 47, 109, 50, 117, 47, 112, 117, 98, 108, 105, 99, 47, 112, 101, 114, 115, 111, 110, 97, 108, 68, 101, 116, 97, 105, 108, 48, 52, 46, 100, 111, 63, 99, 104, 97, 110, 110, 101, 108, 73, 100, 61, 65, 67, 67, 45, 65, 99, 99, 111, 117, 110, 116, 115, 38, 99, 110, 116, 84, 121, 112, 101, 73, 100, 61, 48, 38, 99, 110, 116, 75, 101, 121, 61, 65, 67, 67, 48, 57, 46, 50, 49, 38, 112, 114, 111, 103, 114, 97, 109, 73, 100, 61, 65, 67, 67, 48, 49, 45, 83, 97, 118, 105, 110, 103, 115, 65, 99, 99, 111, 117, 110, 116, 115, 38, 99, 104, 67, 97, 116, 73, 100, 61, 47, 109, 98, 98, 47, 80, 101, 114, 115, 111, 110, 97, 108, 47, 65, 67, 67, 45, 65, 99, 99, 111, 117, 110, 116, 115], [104, 116, 116, 112, 58, 47, 47, 100, 105, 115, 116, 114, 97, 99, 116, 105, 102, 121, 46, 99, 111, 109, 47, 112, 111, 115, 116, 47, 114, 101, 108, 97, 116, 101, 100, 47, 105, 100, 47, 53, 53, 48, 51, 51, 97, 48, 99, 52, 97, 48, 99, 52, 98, 99, 56, 50, 49, 99, 97, 97, 56, 51, 48, 47, 115, 107, 105, 112, 47, 52, 48, 47, 108, 105, 109, 105, 116, 47, 49, 48, 47, 98, 97, 99, 107, 47, 48], [104, 116, 116, 112, 58, 47, 47, 112, 97, 115, 116, 101, 104, 116, 109, 108, 46, 99, 111, 109, 47, 118, 105, 101, 119, 47, 98, 102, 119, 121, 57, 118, 106, 101, 51, 46, 104, 116, 109, 108], [104, 116, 116, 112, 58, 47, 47, 111, 108, 120, 46, 99, 111, 46, 105, 100, 47, 105, 50, 47, 104, 111, 98, 105, 45, 111, 108, 97, 104, 114, 97, 103, 97, 47, 111, 108, 97, 104, 114, 97, 103, 97, 47, 109, 101, 109, 97, 110, 99, 105, 110, 103, 47, 104, 111, 98, 105, 45, 111, 108, 97, 104, 114, 97, 103, 97, 47, 111, 108, 97, 104, 114, 97, 103, 97, 47, 109, 101, 109, 97, 110, 99, 105, 110, 103], [104, 116, 116, 112, 115, 58, 47, 47, 109, 101, 100, 105, 117, 109, 46, 99, 111, 109, 47, 64, 110, 121, 99, 109, 101, 100, 105, 97, 108, 97, 98, 47, 116, 104, 101, 45, 109, 97, 99, 104, 105, 110, 101, 115, 45, 119, 104, 111, 45, 99, 97, 109, 101, 45, 116, 111, 45, 100, 105, 110, 110, 101, 114, 45, 55, 102, 52, 56, 51, 53, 49, 54, 100, 50, 100, 53, 63, 115, 111, 117, 114, 99, 101, 61, 104, 97, 115, 45, 114, 101, 99, 111, 109, 109, 101, 110, 100, 101, 100], [104, 116, 116, 112, 58, 47, 47, 111, 108, 120, 46, 112, 108, 47, 117, 115, 108, 117, 103, 105, 45, 102, 105, 114, 109, 121, 47, 107, 97, 116, 101, 103, 111, 114, 105, 101, 47, 122, 90, 112, 76, 99, 109, 56, 98, 107, 71, 112, 108, 74, 89, 113, 79, 104, 103, 77, 95, 120, 72, 90, 71, 88, 109, 101, 66, 109, 102, 116, 68, 84, 98, 116, 111, 88, 122, 85, 67, 69, 87, 55, 46, 72, 55]]>"
      ]
     },
     "execution_count": 17,
     "metadata": {},
     "output_type": "execute_result"
    }
   ],
   "source": [
    "tokenizer.tokenize(d)"
   ]
  },
  {
   "cell_type": "code",
   "execution_count": 18,
   "metadata": {},
   "outputs": [],
   "source": [
    "train_ds = train_ds.map(lambda x, y: (tokenizer.tokenize(x), y))\n",
    "val_ds = val_ds.map(lambda x, y: (tokenizer.tokenize(x), y))\n",
    "test_ds = test_ds.map(lambda x, y: (tokenizer.tokenize(x), y))"
   ]
  },
  {
   "cell_type": "markdown",
   "metadata": {
    "id": "37l0TNzZ9mBy",
    "tags": []
   },
   "source": [
    "## Tune dataset"
   ]
  },
  {
   "cell_type": "code",
   "execution_count": 19,
   "metadata": {
    "executionInfo": {
     "elapsed": 7,
     "status": "ok",
     "timestamp": 1627036510297,
     "user": {
      "displayName": "Ali Aldakheel",
      "photoUrl": "",
      "userId": "12596700705790486557"
     },
     "user_tz": -180
    },
    "id": "Na8jxltSouWy"
   },
   "outputs": [],
   "source": [
    "AUTOTUNE = tf.data.AUTOTUNE\n",
    "\n",
    "train_ds = train_ds.cache().shuffle(256).prefetch(buffer_size=AUTOTUNE)\n",
    "val_ds = val_ds.cache().prefetch(buffer_size=AUTOTUNE)\n",
    "test_ds = test_ds.cache().prefetch(buffer_size=AUTOTUNE)"
   ]
  },
  {
   "cell_type": "code",
   "execution_count": 20,
   "metadata": {},
   "outputs": [],
   "source": [
    "t = train_ds.take(1)"
   ]
  },
  {
   "cell_type": "code",
   "execution_count": 21,
   "metadata": {},
   "outputs": [
    {
     "data": {
      "text/plain": [
       "<TakeDataset shapes: ((None, None), (None, 1)), types: (tf.int32, tf.float32)>"
      ]
     },
     "execution_count": 21,
     "metadata": {},
     "output_type": "execute_result"
    }
   ],
   "source": [
    "t"
   ]
  },
  {
   "cell_type": "markdown",
   "metadata": {
    "id": "tO4SDIgT5Pi8",
    "tags": []
   },
   "source": [
    "## Model"
   ]
  },
  {
   "cell_type": "code",
   "execution_count": 22,
   "metadata": {
    "executionInfo": {
     "elapsed": 400,
     "status": "ok",
     "timestamp": 1627036918433,
     "user": {
      "displayName": "Ali Aldakheel",
      "photoUrl": "",
      "userId": "12596700705790486557"
     },
     "user_tz": -180
    },
    "id": "Yq9OQ8fq5TCI"
   },
   "outputs": [],
   "source": [
    "num_classes = 2\n",
    "embedding_dim = 16\n",
    "lstm_units = 256\n",
    "dropout_prob1 = 0.4\n",
    "dropout_prob2 = 0.5\n",
    "reg_rate1 = 0.005\n",
    "reg_rate2 = 0.001\n",
    "\n",
    "model = Sequential([\n",
    "    layers.Embedding(unicode_max, embedding_dim),\n",
    "    layers.LSTM(lstm_units),\n",
    "#     layers.Dense(256, activation='relu',\n",
    "# #               activity_regularizer=regularizers.l2(reg_rate2)\n",
    "#               ),\n",
    "    layers.Dense(num_classes-1)\n",
    "])"
   ]
  },
  {
   "cell_type": "code",
   "execution_count": 23,
   "metadata": {
    "executionInfo": {
     "elapsed": 6,
     "status": "ok",
     "timestamp": 1627036920041,
     "user": {
      "displayName": "Ali Aldakheel",
      "photoUrl": "",
      "userId": "12596700705790486557"
     },
     "user_tz": -180
    },
    "id": "ktjtV8zz50p9"
   },
   "outputs": [],
   "source": [
    "model.compile(optimizer='adam',\n",
    "              loss=tf.keras.losses.BinaryCrossentropy(from_logits=True),\n",
    "              metrics=['accuracy'])\n"
   ]
  },
  {
   "cell_type": "code",
   "execution_count": 24,
   "metadata": {
    "colab": {
     "base_uri": "https://localhost:8080/"
    },
    "executionInfo": {
     "elapsed": 586,
     "status": "ok",
     "timestamp": 1627036922837,
     "user": {
      "displayName": "Ali Aldakheel",
      "photoUrl": "",
      "userId": "12596700705790486557"
     },
     "user_tz": -180
    },
    "id": "vDfpnf7_51_o",
    "outputId": "8e3b38fc-119b-4e4a-be49-bc5cc4c86ffb"
   },
   "outputs": [
    {
     "name": "stdout",
     "output_type": "stream",
     "text": [
      "Model: \"sequential\"\n",
      "_________________________________________________________________\n",
      "Layer (type)                 Output Shape              Param #   \n",
      "=================================================================\n",
      "embedding (Embedding)        (None, None, 16)          17825776  \n",
      "_________________________________________________________________\n",
      "lstm (LSTM)                  (None, 256)               279552    \n",
      "_________________________________________________________________\n",
      "dense (Dense)                (None, 1)                 257       \n",
      "=================================================================\n",
      "Total params: 18,105,585\n",
      "Trainable params: 18,105,585\n",
      "Non-trainable params: 0\n",
      "_________________________________________________________________\n"
     ]
    }
   ],
   "source": [
    "model.summary()\n"
   ]
  },
  {
   "cell_type": "markdown",
   "metadata": {
    "id": "xAjHjYWO54zT",
    "tags": []
   },
   "source": [
    "## Training"
   ]
  },
  {
   "cell_type": "code",
   "execution_count": 25,
   "metadata": {
    "executionInfo": {
     "elapsed": 385,
     "status": "ok",
     "timestamp": 1627036926120,
     "user": {
      "displayName": "Ali Aldakheel",
      "photoUrl": "",
      "userId": "12596700705790486557"
     },
     "user_tz": -180
    },
    "id": "04d9GdexS99X"
   },
   "outputs": [],
   "source": [
    "callbacks = [\n",
    "    keras.callbacks.ModelCheckpoint(\n",
    "        # Path where to save the model\n",
    "        # The two parameters below mean that we will overwrite\n",
    "        # the current checkpoint if and only if\n",
    "        # the `val_loss` score has improved.\n",
    "        # The saved model name will include the current epoch.\n",
    "        filepath=checkpoint_dir / f\"{date}_{model_name}_valacc{{val_accuracy:.4f}}_e{{epoch}}\",\n",
    "        save_best_only=True,  # Only save a model if `val_loss` has improved.\n",
    "        monitor=\"val_loss\",\n",
    "        verbose=1,\n",
    "    ),\n",
    "    keras.callbacks.EarlyStopping(\n",
    "        # Stop training when `val_loss` is no longer improving\n",
    "        monitor=\"val_loss\",\n",
    "        # \"no longer improving\" being defined as \"no better than 1e-2 less\"\n",
    "        min_delta=1e-4,\n",
    "        # \"no longer improving\" being further defined as \"for at least 2 epochs\"\n",
    "        patience=4,\n",
    "        verbose=1,\n",
    "    )\n",
    "]\n"
   ]
  },
  {
   "cell_type": "code",
   "execution_count": 26,
   "metadata": {
    "colab": {
     "base_uri": "https://localhost:8080/"
    },
    "executionInfo": {
     "elapsed": 1778318,
     "status": "ok",
     "timestamp": 1627038706504,
     "user": {
      "displayName": "Ali Aldakheel",
      "photoUrl": "",
      "userId": "12596700705790486557"
     },
     "user_tz": -180
    },
    "id": "uF0k1wfH56Q8",
    "outputId": "3c3ff062-a1cd-4da8-f9ae-de0819fc1c50"
   },
   "outputs": [
    {
     "name": "stdout",
     "output_type": "stream",
     "text": [
      "Epoch 1/10\n"
     ]
    },
    {
     "name": "stderr",
     "output_type": "stream",
     "text": [
      "C:\\Users\\fracta\\AppData\\Roaming\\Python\\Python39\\site-packages\\tensorflow\\python\\framework\\indexed_slices.py:447: UserWarning: Converting sparse IndexedSlices(IndexedSlices(indices=Tensor(\"gradient_tape/sequential/lstm/RaggedToTensor/boolean_mask_1/GatherV2:0\", shape=(None,), dtype=int32), values=Tensor(\"gradient_tape/sequential/lstm/RaggedToTensor/boolean_mask/GatherV2:0\", shape=(None, 16), dtype=float32), dense_shape=Tensor(\"gradient_tape/sequential/lstm/RaggedToTensor/Shape:0\", shape=(2,), dtype=int32))) to a dense Tensor of unknown shape. This may consume a large amount of memory.\n",
      "  warnings.warn(\n"
     ]
    },
    {
     "name": "stdout",
     "output_type": "stream",
     "text": [
      "2268/2268 [==============================] - 2808s 1s/step - loss: 0.1821 - accuracy: 0.9333 - val_loss: 0.1496 - val_accuracy: 0.9575\n",
      "\n",
      "Epoch 00001: val_loss improved from inf to 0.14962, saving model to ..\\URL_checkpoints\\2021-08-19_20;05;32.036830_lstm1_valacc0.9575_e1\n"
     ]
    },
    {
     "name": "stderr",
     "output_type": "stream",
     "text": [
      "WARNING:absl:Found untraced functions such as lstm_cell_layer_call_and_return_conditional_losses, lstm_cell_layer_call_fn, lstm_cell_layer_call_fn, lstm_cell_layer_call_and_return_conditional_losses, lstm_cell_layer_call_and_return_conditional_losses while saving (showing 5 of 5). These functions will not be directly callable after loading.\n"
     ]
    },
    {
     "name": "stdout",
     "output_type": "stream",
     "text": [
      "INFO:tensorflow:Assets written to: ..\\URL_checkpoints\\2021-08-19_20;05;32.036830_lstm1_valacc0.9575_e1\\assets\n"
     ]
    },
    {
     "name": "stderr",
     "output_type": "stream",
     "text": [
      "INFO:tensorflow:Assets written to: ..\\URL_checkpoints\\2021-08-19_20;05;32.036830_lstm1_valacc0.9575_e1\\assets\n"
     ]
    },
    {
     "name": "stdout",
     "output_type": "stream",
     "text": [
      "Epoch 2/10\n",
      "2268/2268 [==============================] - 2776s 1s/step - loss: 0.1344 - accuracy: 0.9586 - val_loss: 0.0868 - val_accuracy: 0.9716\n",
      "\n",
      "Epoch 00002: val_loss improved from 0.14962 to 0.08680, saving model to ..\\URL_checkpoints\\2021-08-19_20;05;32.036830_lstm1_valacc0.9716_e2\n"
     ]
    },
    {
     "name": "stderr",
     "output_type": "stream",
     "text": [
      "WARNING:absl:Found untraced functions such as lstm_cell_layer_call_and_return_conditional_losses, lstm_cell_layer_call_fn, lstm_cell_layer_call_fn, lstm_cell_layer_call_and_return_conditional_losses, lstm_cell_layer_call_and_return_conditional_losses while saving (showing 5 of 5). These functions will not be directly callable after loading.\n"
     ]
    },
    {
     "name": "stdout",
     "output_type": "stream",
     "text": [
      "INFO:tensorflow:Assets written to: ..\\URL_checkpoints\\2021-08-19_20;05;32.036830_lstm1_valacc0.9716_e2\\assets\n"
     ]
    },
    {
     "name": "stderr",
     "output_type": "stream",
     "text": [
      "INFO:tensorflow:Assets written to: ..\\URL_checkpoints\\2021-08-19_20;05;32.036830_lstm1_valacc0.9716_e2\\assets\n"
     ]
    },
    {
     "name": "stdout",
     "output_type": "stream",
     "text": [
      "Epoch 3/10\n",
      "2268/2268 [==============================] - 2773s 1s/step - loss: 0.0741 - accuracy: 0.9744 - val_loss: 0.0670 - val_accuracy: 0.9786\n",
      "\n",
      "Epoch 00003: val_loss improved from 0.08680 to 0.06698, saving model to ..\\URL_checkpoints\\2021-08-19_20;05;32.036830_lstm1_valacc0.9786_e3\n"
     ]
    },
    {
     "name": "stderr",
     "output_type": "stream",
     "text": [
      "WARNING:absl:Found untraced functions such as lstm_cell_layer_call_and_return_conditional_losses, lstm_cell_layer_call_fn, lstm_cell_layer_call_fn, lstm_cell_layer_call_and_return_conditional_losses, lstm_cell_layer_call_and_return_conditional_losses while saving (showing 5 of 5). These functions will not be directly callable after loading.\n"
     ]
    },
    {
     "name": "stdout",
     "output_type": "stream",
     "text": [
      "INFO:tensorflow:Assets written to: ..\\URL_checkpoints\\2021-08-19_20;05;32.036830_lstm1_valacc0.9786_e3\\assets\n"
     ]
    },
    {
     "name": "stderr",
     "output_type": "stream",
     "text": [
      "INFO:tensorflow:Assets written to: ..\\URL_checkpoints\\2021-08-19_20;05;32.036830_lstm1_valacc0.9786_e3\\assets\n"
     ]
    },
    {
     "name": "stdout",
     "output_type": "stream",
     "text": [
      "Epoch 4/10\n",
      "2268/2268 [==============================] - 2773s 1s/step - loss: 0.0499 - accuracy: 0.9836 - val_loss: 0.0410 - val_accuracy: 0.9872\n",
      "\n",
      "Epoch 00004: val_loss improved from 0.06698 to 0.04098, saving model to ..\\URL_checkpoints\\2021-08-19_20;05;32.036830_lstm1_valacc0.9872_e4\n"
     ]
    },
    {
     "name": "stderr",
     "output_type": "stream",
     "text": [
      "WARNING:absl:Found untraced functions such as lstm_cell_layer_call_and_return_conditional_losses, lstm_cell_layer_call_fn, lstm_cell_layer_call_fn, lstm_cell_layer_call_and_return_conditional_losses, lstm_cell_layer_call_and_return_conditional_losses while saving (showing 5 of 5). These functions will not be directly callable after loading.\n"
     ]
    },
    {
     "name": "stdout",
     "output_type": "stream",
     "text": [
      "INFO:tensorflow:Assets written to: ..\\URL_checkpoints\\2021-08-19_20;05;32.036830_lstm1_valacc0.9872_e4\\assets\n"
     ]
    },
    {
     "name": "stderr",
     "output_type": "stream",
     "text": [
      "INFO:tensorflow:Assets written to: ..\\URL_checkpoints\\2021-08-19_20;05;32.036830_lstm1_valacc0.9872_e4\\assets\n"
     ]
    },
    {
     "name": "stdout",
     "output_type": "stream",
     "text": [
      "Epoch 5/10\n",
      "2268/2268 [==============================] - 2842s 1s/step - loss: 0.0349 - accuracy: 0.9884 - val_loss: 0.0313 - val_accuracy: 0.9893\n",
      "\n",
      "Epoch 00005: val_loss improved from 0.04098 to 0.03133, saving model to ..\\URL_checkpoints\\2021-08-19_20;05;32.036830_lstm1_valacc0.9893_e5\n"
     ]
    },
    {
     "name": "stderr",
     "output_type": "stream",
     "text": [
      "WARNING:absl:Found untraced functions such as lstm_cell_layer_call_and_return_conditional_losses, lstm_cell_layer_call_fn, lstm_cell_layer_call_fn, lstm_cell_layer_call_and_return_conditional_losses, lstm_cell_layer_call_and_return_conditional_losses while saving (showing 5 of 5). These functions will not be directly callable after loading.\n"
     ]
    },
    {
     "name": "stdout",
     "output_type": "stream",
     "text": [
      "INFO:tensorflow:Assets written to: ..\\URL_checkpoints\\2021-08-19_20;05;32.036830_lstm1_valacc0.9893_e5\\assets\n"
     ]
    },
    {
     "name": "stderr",
     "output_type": "stream",
     "text": [
      "INFO:tensorflow:Assets written to: ..\\URL_checkpoints\\2021-08-19_20;05;32.036830_lstm1_valacc0.9893_e5\\assets\n"
     ]
    },
    {
     "name": "stdout",
     "output_type": "stream",
     "text": [
      "Epoch 6/10\n",
      "2268/2268 [==============================] - 2867s 1s/step - loss: 0.0254 - accuracy: 0.9914 - val_loss: 0.0229 - val_accuracy: 0.9934\n",
      "\n",
      "Epoch 00006: val_loss improved from 0.03133 to 0.02290, saving model to ..\\URL_checkpoints\\2021-08-19_20;05;32.036830_lstm1_valacc0.9934_e6\n"
     ]
    },
    {
     "name": "stderr",
     "output_type": "stream",
     "text": [
      "WARNING:absl:Found untraced functions such as lstm_cell_layer_call_and_return_conditional_losses, lstm_cell_layer_call_fn, lstm_cell_layer_call_fn, lstm_cell_layer_call_and_return_conditional_losses, lstm_cell_layer_call_and_return_conditional_losses while saving (showing 5 of 5). These functions will not be directly callable after loading.\n"
     ]
    },
    {
     "name": "stdout",
     "output_type": "stream",
     "text": [
      "INFO:tensorflow:Assets written to: ..\\URL_checkpoints\\2021-08-19_20;05;32.036830_lstm1_valacc0.9934_e6\\assets\n"
     ]
    },
    {
     "name": "stderr",
     "output_type": "stream",
     "text": [
      "INFO:tensorflow:Assets written to: ..\\URL_checkpoints\\2021-08-19_20;05;32.036830_lstm1_valacc0.9934_e6\\assets\n"
     ]
    },
    {
     "name": "stdout",
     "output_type": "stream",
     "text": [
      "Epoch 7/10\n",
      "2268/2268 [==============================] - 2834s 1s/step - loss: 0.0188 - accuracy: 0.9934 - val_loss: 0.0266 - val_accuracy: 0.9939\n",
      "\n",
      "Epoch 00007: val_loss did not improve from 0.02290\n",
      "Epoch 8/10\n",
      "2268/2268 [==============================] - 2750s 1s/step - loss: 0.0163 - accuracy: 0.9942 - val_loss: 0.0244 - val_accuracy: 0.9926\n",
      "\n",
      "Epoch 00008: val_loss did not improve from 0.02290\n",
      "Epoch 9/10\n",
      "2268/2268 [==============================] - 2765s 1s/step - loss: 0.0125 - accuracy: 0.9958 - val_loss: 0.0221 - val_accuracy: 0.9944\n",
      "\n",
      "Epoch 00009: val_loss improved from 0.02290 to 0.02206, saving model to ..\\URL_checkpoints\\2021-08-19_20;05;32.036830_lstm1_valacc0.9944_e9\n"
     ]
    },
    {
     "name": "stderr",
     "output_type": "stream",
     "text": [
      "WARNING:absl:Found untraced functions such as lstm_cell_layer_call_and_return_conditional_losses, lstm_cell_layer_call_fn, lstm_cell_layer_call_fn, lstm_cell_layer_call_and_return_conditional_losses, lstm_cell_layer_call_and_return_conditional_losses while saving (showing 5 of 5). These functions will not be directly callable after loading.\n"
     ]
    },
    {
     "name": "stdout",
     "output_type": "stream",
     "text": [
      "INFO:tensorflow:Assets written to: ..\\URL_checkpoints\\2021-08-19_20;05;32.036830_lstm1_valacc0.9944_e9\\assets\n"
     ]
    },
    {
     "name": "stderr",
     "output_type": "stream",
     "text": [
      "INFO:tensorflow:Assets written to: ..\\URL_checkpoints\\2021-08-19_20;05;32.036830_lstm1_valacc0.9944_e9\\assets\n"
     ]
    },
    {
     "name": "stdout",
     "output_type": "stream",
     "text": [
      "Epoch 10/10\n",
      "2268/2268 [==============================] - 2749s 1s/step - loss: 0.0104 - accuracy: 0.9964 - val_loss: 0.0171 - val_accuracy: 0.9948\n",
      "\n",
      "Epoch 00010: val_loss improved from 0.02206 to 0.01715, saving model to ..\\URL_checkpoints\\2021-08-19_20;05;32.036830_lstm1_valacc0.9948_e10\n"
     ]
    },
    {
     "name": "stderr",
     "output_type": "stream",
     "text": [
      "WARNING:absl:Found untraced functions such as lstm_cell_layer_call_and_return_conditional_losses, lstm_cell_layer_call_fn, lstm_cell_layer_call_fn, lstm_cell_layer_call_and_return_conditional_losses, lstm_cell_layer_call_and_return_conditional_losses while saving (showing 5 of 5). These functions will not be directly callable after loading.\n"
     ]
    },
    {
     "name": "stdout",
     "output_type": "stream",
     "text": [
      "INFO:tensorflow:Assets written to: ..\\URL_checkpoints\\2021-08-19_20;05;32.036830_lstm1_valacc0.9948_e10\\assets\n"
     ]
    },
    {
     "name": "stderr",
     "output_type": "stream",
     "text": [
      "INFO:tensorflow:Assets written to: ..\\URL_checkpoints\\2021-08-19_20;05;32.036830_lstm1_valacc0.9948_e10\\assets\n"
     ]
    }
   ],
   "source": [
    "epochs=10\n",
    "history = model.fit(\n",
    "  train_ds,\n",
    "  validation_data=val_ds,\n",
    "  epochs=epochs,\n",
    "  callbacks=callbacks\n",
    ")"
   ]
  },
  {
   "cell_type": "markdown",
   "metadata": {
    "id": "-DXnGUtEL15r",
    "tags": []
   },
   "source": [
    "## Save model"
   ]
  },
  {
   "cell_type": "code",
   "execution_count": 27,
   "metadata": {
    "colab": {
     "base_uri": "https://localhost:8080/"
    },
    "executionInfo": {
     "elapsed": 2634,
     "status": "ok",
     "timestamp": 1627039381161,
     "user": {
      "displayName": "Ali Aldakheel",
      "photoUrl": "",
      "userId": "12596700705790486557"
     },
     "user_tz": -180
    },
    "id": "iAIQ6Jqh69Gp",
    "outputId": "00bf923d-9dee-403c-a150-cc81cd175bc1"
   },
   "outputs": [
    {
     "name": "stderr",
     "output_type": "stream",
     "text": [
      "WARNING:absl:Found untraced functions such as lstm_cell_layer_call_and_return_conditional_losses, lstm_cell_layer_call_fn, lstm_cell_layer_call_fn, lstm_cell_layer_call_and_return_conditional_losses, lstm_cell_layer_call_and_return_conditional_losses while saving (showing 5 of 5). These functions will not be directly callable after loading.\n"
     ]
    },
    {
     "name": "stdout",
     "output_type": "stream",
     "text": [
      "INFO:tensorflow:Assets written to: ..\\URL_models\\2021-08-19_20;05;32.036830_lstm1_valacc0.9948_e10_b16.tf\\assets\n"
     ]
    },
    {
     "name": "stderr",
     "output_type": "stream",
     "text": [
      "INFO:tensorflow:Assets written to: ..\\URL_models\\2021-08-19_20;05;32.036830_lstm1_valacc0.9948_e10_b16.tf\\assets\n"
     ]
    }
   ],
   "source": [
    "val_acc = history.history['val_accuracy']\n",
    "model.save(model_dir / f\"{date}_{model_name}_valacc{val_acc[-1]:0.4f}_e{len(val_acc)}_b{batch_size}.tf\",\n",
    "           include_optimizer=True)"
   ]
  },
  {
   "cell_type": "markdown",
   "metadata": {
    "id": "ZgRCssRQOuSG",
    "tags": []
   },
   "source": [
    "## Load model"
   ]
  },
  {
   "cell_type": "code",
   "execution_count": 33,
   "metadata": {
    "id": "GvIygUewOwKU"
   },
   "outputs": [],
   "source": [
    "# change filename to the model you want to load\n",
    "model_filename = \"2021-08-19_20;05;32.036830_lstm1_valacc0.9948_e10_b16.tf\"\n",
    "model2 = keras.models.load_model(\n",
    "    model_dir / model_filename,\n",
    "    compile=True)"
   ]
  },
  {
   "cell_type": "markdown",
   "metadata": {
    "id": "11q3ScM368U4",
    "tags": []
   },
   "source": [
    "## Visulaize loss and acc"
   ]
  },
  {
   "cell_type": "code",
   "execution_count": 29,
   "metadata": {
    "colab": {
     "base_uri": "https://localhost:8080/"
    },
    "executionInfo": {
     "elapsed": 444,
     "status": "ok",
     "timestamp": 1627039181929,
     "user": {
      "displayName": "Ali Aldakheel",
      "photoUrl": "",
      "userId": "12596700705790486557"
     },
     "user_tz": -180
    },
    "id": "dmtvkA2uFfYl",
    "outputId": "1ee2a0ea-8c85-4ab8-c804-2fa9d51a4cb0"
   },
   "outputs": [
    {
     "data": {
      "text/plain": [
       "{'loss': [0.1820727437734604,\n",
       "  0.13444076478481293,\n",
       "  0.07407961785793304,\n",
       "  0.04994584992527962,\n",
       "  0.03493640571832657,\n",
       "  0.025444716215133667,\n",
       "  0.018823446705937386,\n",
       "  0.016334353014826775,\n",
       "  0.012481196783483028,\n",
       "  0.01036519929766655],\n",
       " 'accuracy': [0.9333149790763855,\n",
       "  0.9585940837860107,\n",
       "  0.9743624925613403,\n",
       "  0.9835699796676636,\n",
       "  0.9883942008018494,\n",
       "  0.9913714528083801,\n",
       "  0.9934390187263489,\n",
       "  0.9942384362220764,\n",
       "  0.99580979347229,\n",
       "  0.9964162707328796],\n",
       " 'val_loss': [0.14962297677993774,\n",
       "  0.0867965891957283,\n",
       "  0.06697922199964523,\n",
       "  0.04098377004265785,\n",
       "  0.03133392706513405,\n",
       "  0.022895436733961105,\n",
       "  0.026567233726382256,\n",
       "  0.024354733526706696,\n",
       "  0.022061243653297424,\n",
       "  0.017147541046142578],\n",
       " 'val_accuracy': [0.9574586749076843,\n",
       "  0.971639096736908,\n",
       "  0.9785618782043457,\n",
       "  0.9871594309806824,\n",
       "  0.9892809391021729,\n",
       "  0.9934122562408447,\n",
       "  0.9938588738441467,\n",
       "  0.992630660533905,\n",
       "  0.994417130947113,\n",
       "  0.9947521090507507]}"
      ]
     },
     "execution_count": 29,
     "metadata": {},
     "output_type": "execute_result"
    }
   ],
   "source": [
    "history.history"
   ]
  },
  {
   "cell_type": "code",
   "execution_count": 30,
   "metadata": {
    "colab": {
     "base_uri": "https://localhost:8080/",
     "height": 246
    },
    "executionInfo": {
     "elapsed": 518,
     "status": "error",
     "timestamp": 1627040339197,
     "user": {
      "displayName": "Ali Aldakheel",
      "photoUrl": "",
      "userId": "12596700705790486557"
     },
     "user_tz": -180
    },
    "id": "2bMbpTTF7EDC",
    "outputId": "291f281e-43a9-42f0-b90c-5e59a91c7c18"
   },
   "outputs": [
    {
     "data": {
      "image/png": "[encoded data removed]",
      "text/plain": [
       "<Figure size 1440x576 with 2 Axes>"
      ]
     },
     "metadata": {
      "needs_background": "light"
     },
     "output_type": "display_data"
    }
   ],
   "source": [
    "import matplotlib.pyplot as plt\n",
    "\n",
    "acc = history.history['accuracy']\n",
    "val_acc = history.history['val_accuracy']\n",
    "\n",
    "loss = history.history['loss']\n",
    "val_loss = history.history['val_loss']\n",
    "\n",
    "# epochs_range = range(epochs)\n",
    "epochs_range = history.epoch\n",
    "\n",
    "plt.figure(figsize=(20, 8))\n",
    "plt.subplot(1, 2, 1)\n",
    "plt.plot(epochs_range, acc, label='Training Accuracy')\n",
    "plt.plot(epochs_range, val_acc, label='Validation Accuracy')\n",
    "plt.legend(loc='lower right')\n",
    "plt.title('Training and Validation Accuracy')\n",
    "\n",
    "plt.subplot(1, 2, 2)\n",
    "plt.plot(epochs_range, loss, label='Training Loss')\n",
    "plt.plot(epochs_range, val_loss, label='Validation Loss')\n",
    "plt.legend(loc='upper right')\n",
    "plt.title('Training and Validation Loss')\n",
    "plt.show()\n"
   ]
  },
  {
   "cell_type": "markdown",
   "metadata": {
    "id": "aIrHRI2QEx_u",
    "tags": []
   },
   "source": [
    "## Evaluate (test)"
   ]
  },
  {
   "cell_type": "code",
   "execution_count": 31,
   "metadata": {},
   "outputs": [
    {
     "name": "stdout",
     "output_type": "stream",
     "text": [
      "560/560 [==============================] - 59s 105ms/step - loss: 0.0171 - accuracy: 0.9948\n",
      "val loss, val acc: [0.017147541046142578, 0.9947521090507507]\n"
     ]
    }
   ],
   "source": [
    "val_results = model.evaluate(val_ds, batch_size=256)\n",
    "print(\"val loss, val acc:\", val_results)"
   ]
  },
  {
   "cell_type": "code",
   "execution_count": 32,
   "metadata": {
    "colab": {
     "base_uri": "https://localhost:8080/"
    },
    "executionInfo": {
     "elapsed": 34443,
     "status": "ok",
     "timestamp": 1627038897991,
     "user": {
      "displayName": "Ali Aldakheel",
      "photoUrl": "",
      "userId": "12596700705790486557"
     },
     "user_tz": -180
    },
    "id": "J-hua9SLE2EZ",
    "outputId": "c2a8162e-17c2-4019-9cdb-730d30584fc2"
   },
   "outputs": [
    {
     "name": "stdout",
     "output_type": "stream",
     "text": [
      "7/7 [==============================] - 1s 132ms/step - loss: 0.0016 - accuracy: 1.0000\n",
      "test loss, test acc: [0.0016420132014900446, 1.0]\n"
     ]
    }
   ],
   "source": [
    "results = model.evaluate(test_ds, batch_size=32)\n",
    "print(\"test loss, test acc:\", results)\n"
   ]
  }
 ],
 "metadata": {
  "accelerator": "GPU",
  "colab": {
   "authorship_tag": "ABX9TyNqKpFqEFCkBkAyw9y52SGT",
   "collapsed_sections": [
    "dHlUmDItlkDG",
    "eyBLm8_g46iI"
   ],
   "name": "train_custom1.ipynb",
   "provenance": []
  },
  "kernelspec": {
   "display_name": "Python 3 (ipykernel)",
   "language": "python",
   "name": "python3"
  },
  "language_info": {
   "codemirror_mode": {
    "name": "ipython",
    "version": 3
   },
   "file_extension": ".py",
   "mimetype": "text/x-python",
   "name": "python",
   "nbconvert_exporter": "python",
   "pygments_lexer": "ipython3",
   "version": "3.9.1"
  },
  "toc-showmarkdowntxt": false
 },
 "nbformat": 4,
 "nbformat_minor": 4
}
